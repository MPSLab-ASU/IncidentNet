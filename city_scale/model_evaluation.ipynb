{
 "cells": [
  {
   "cell_type": "code",
   "execution_count": null,
   "metadata": {},
   "outputs": [],
   "source": [
    "import torch\n",
    "from torch.utils.data import Dataset, DataLoader, random_split\n",
    "import numpy as np\n",
    "import pandas as dd\n",
    "import os"
   ]
  },
  {
   "cell_type": "code",
   "execution_count": null,
   "metadata": {},
   "outputs": [],
   "source": [
    "class EvaluationDataset(Dataset):\n",
    "    def __init__(self, directory,travel_time_directory,label_directory):\n",
    "        \n",
    "        self.files = [os.path.join(directory, f) for f in sorted(os.listdir(directory))] #[0:100]\n",
    "        self.travel_time_files = [os.path.join(travel_time_directory, f) for f in sorted(os.listdir(travel_time_directory))]\n",
    "        self.yfiles= [os.path.join(label_directory, f) for f in sorted(os.listdir(label_directory))] #[0:100]\n",
    "        self.num_files = len(self.files)\n",
    "        \n",
    "        self.total_sequences = self.num_files # * self.sequences_per_file\n",
    "        \n",
    "    def __len__(self):\n",
    "        return self.total_sequences\n",
    "    \n",
    "    def __getitem__(self, index):\n",
    "        \n",
    "        file_index = index \n",
    "        \n",
    "        data = np.load(self.files[file_index]) #Loads the file which contains our desired sequence\n",
    "        label_data = np.load(self.yfiles[file_index])\n",
    "        travel_time_data = np.load(self.travel_time_files[file_index])\n",
    "\n",
    "        sequence = np.transpose(data, (2, 0, 1)) # To orient in the dimension with 3 channels being first\n",
    "        \n",
    "        #When majority class is important\n",
    "        # label_data_summed = np.sum(label_data,axis=0)\n",
    "        # indx = np.argmax(label_data_summed)\n",
    "        # labelsWindow = np.zeros(13)\n",
    "        # labelsWindow[indx] = 1\n",
    "        \n",
    "        \n",
    "        #When latest trend is important\n",
    "        # last_row = label_data[-1:]\n",
    "        # indx = np.argmax(last_row)\n",
    "        # labelsWindow = np.zeros(13)\n",
    "        # labelsWindow[indx] = 1\n",
    "        \n",
    "        # Just checking if it can predict accident or not based on latest row class\n",
    "        last_row = label_data[-1:]\n",
    "        indx = np.argmax(last_row)\n",
    "        labelsWindow = np.zeros(2)\n",
    "        if indx != 12:\n",
    "            labelsWindow[0] = 1 # Accident true \n",
    "        else:\n",
    "            labelsWindow[1] = 1 # Accident false\n",
    "        \n",
    "        \n",
    "        # Travel Time lets take the last row row\n",
    "        \n",
    "        travel_time_data = travel_time_data[-1]\n",
    "        \n",
    "        return torch.tensor(sequence, dtype=torch.float32),torch.tensor(labelsWindow, dtype=torch.float32),torch.tensor(travel_time_data, dtype=torch.float32)"
   ]
  },
  {
   "cell_type": "code",
   "execution_count": null,
   "metadata": {},
   "outputs": [],
   "source": [
    "#EXPERIMENT PARAMETERS\n",
    "\n",
    "experiment_no = 11\n",
    "eval_features_path = r\"data/dataset4/features\"\n",
    "eval_labels_path = r\"data/dataset4/labels\"\n",
    "eval_travel_time_path = r\"data/dataset3/travel_time\"\n",
    "model_path = r\"\""
   ]
  },
  {
   "cell_type": "code",
   "execution_count": null,
   "metadata": {},
   "outputs": [],
   "source": [
    "print(f\"Is CUDA available : {torch.cuda.is_available()}\")\n",
    "device = torch.device(\"cuda:1\" if torch.cuda.is_available() else \"cpu\")"
   ]
  },
  {
   "cell_type": "code",
   "execution_count": null,
   "metadata": {},
   "outputs": [],
   "source": [
    "model = torch.load(model_path)\n",
    "model.to(device)\n"
   ]
  },
  {
   "cell_type": "code",
   "execution_count": null,
   "metadata": {},
   "outputs": [],
   "source": [
    "dataset = EvaluationDataset(eval_features_path,eval_travel_time_path, eval_labels_path)\n",
    "eval_dataloader = DataLoader(dataset, batch_size=1, shuffle=False, num_workers=0) # Shuffle is usually False for testing/validation"
   ]
  },
  {
   "cell_type": "code",
   "execution_count": null,
   "metadata": {},
   "outputs": [],
   "source": [
    "history = [0] #intially there is no incident\n",
    "incident_counter = 0\n",
    "detected_counter = 0\n",
    "new_incident_flag = False\n",
    "incident_detected_flag = False\n",
    "i = 0 #Time since last incident\n",
    "false_alarm_counter = 0\n",
    "detection_time = []\n",
    "\n",
    "\n",
    "with torch.no_grad(): \n",
    "    \n",
    "    for inputs, labels,travel_time in eval_dataloader:\n",
    "        \n",
    "        inputs, labels,travel_time = inputs.to(device), labels.to(device), travel_time.to(device)\n",
    "        \n",
    "        outputs = model(inputs,travel_time)\n",
    "        \n",
    "        _, predicted = torch.max(outputs.data, 1)\n",
    "        _, labels_indices = torch.max(labels, 1)\n",
    "        \n",
    "        previous_label = history[-1]\n",
    "        \n",
    "        current_label = 1 if labels_indices == 0 else 0\n",
    "        history.append(current_label)\n",
    "        \n",
    "        # New Incident Started    \n",
    "        if previous_label == 0 and current_label == 1:\n",
    "            \n",
    "            incident_counter += 1\n",
    "            new_incident_flag = True\n",
    "            incident_detected_flag = False\n",
    "            i = 0\n",
    "        \n",
    "        # Incident Detected\n",
    "        if new_incident_flag and predicted == 0 and not incident_detected_flag:\n",
    "\n",
    "            detected_counter += 1\n",
    "            detection_time.append(i)\n",
    "            incident_detected_flag = True            \n",
    "            print(f\"Incident Detected by alarm after {i}\")\n",
    "        \n",
    "        # Incident Finished\n",
    "        if previous_label == 1 and current_label == 0:\n",
    "            new_incident_flag = False\n",
    "            \n",
    "        # Increment timer if incident ongoing but not yet detected\n",
    "        if new_incident_flag and not incident_detected_flag:\n",
    "            i+=1\n",
    "            \n",
    "        # False alarm raised   \n",
    "        if not new_incident_flag and predicted == 0 and not (1 in history[-20:]):\n",
    "            \n",
    "            false_alarm_counter+=1\n",
    "            print('False Alarm raised by model.')\n",
    "        \n"
   ]
  },
  {
   "cell_type": "code",
   "execution_count": null,
   "metadata": {},
   "outputs": [],
   "source": [
    "mean_detection_time = sum(detection_times) / len(detection_times) if detection_times else 0\n",
    "print(f\"Total Incidents: {incident_counter}, Detected Incidents: {detected_counter}, False Alarms: {false_alarm_counter}\")\n",
    "print(f\"Mean Time to Detection: {mean_detection_time} timesteps\")"
   ]
  }
 ],
 "metadata": {
  "language_info": {
   "name": "python"
  }
 },
 "nbformat": 4,
 "nbformat_minor": 2
}
