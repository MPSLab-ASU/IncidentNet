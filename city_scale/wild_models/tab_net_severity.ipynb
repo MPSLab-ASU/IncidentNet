{
 "cells": [
  {
   "cell_type": "code",
   "execution_count": 1,
   "metadata": {},
   "outputs": [],
   "source": [
    "from pytorch_tabnet.tab_model import TabNetClassifier, TabNetRegressor\n",
    "import pandas as pd\n",
    "from sklearn.model_selection import train_test_split\n",
    "from sklearn.metrics import accuracy_score\n",
    "from sklearn.metrics import precision_score\n",
    "from sklearn.metrics import recall_score\n",
    "from sklearn.metrics import f1_score\n",
    "from sklearn.utils.class_weight import compute_sample_weight\n",
    "import pickle\n",
    "import numpy as np\n",
    "np.set_printoptions (threshold=None, edgeitems=None, linewidth=None, suppress=None)"
   ]
  },
  {
   "cell_type": "code",
   "execution_count": 2,
   "metadata": {},
   "outputs": [],
   "source": [
    "import torch"
   ]
  },
  {
   "cell_type": "code",
   "execution_count": 3,
   "metadata": {},
   "outputs": [],
   "source": [
    "def standardize(col):\n",
    "   return (col - col.mean()) / col.std()"
   ]
  },
  {
   "cell_type": "code",
   "execution_count": 4,
   "metadata": {},
   "outputs": [
    {
     "name": "stderr",
     "output_type": "stream",
     "text": [
      "/tmp/ipykernel_1654890/4036539136.py:3: DtypeWarning: Columns (63,68) have mixed types. Specify dtype option on import or set low_memory=False.\n",
      "  df = pd.read_csv(dataset_path)\n"
     ]
    }
   ],
   "source": [
    "dataset_path = \"/home/local/ASURITE/speddira/dev/traffic_sense_net/city_scale/processed_datasets/2024-2-16_1915hours_4jun_600_win_600twin.csv\"\n",
    "\n",
    "df = pd.read_csv(dataset_path)\n",
    "\n",
    "data_types = {\n",
    "    'incident_edge': 'object',  # Replace 'Column_Name1' with the actual column name\n",
    "    'incident_lane': 'object'  # Replace 'Column_Name2' with the actual column name\n",
    "}\n",
    "\n",
    "df = pd.read_csv(dataset_path,dtype=data_types)"
   ]
  },
  {
   "cell_type": "code",
   "execution_count": 5,
   "metadata": {},
   "outputs": [],
   "source": [
    "df = df[df[\"accident_label\"] == True]\n",
    "df['label'] = None\n",
    "\n",
    "incident_category = [\"stalled_vehicle\",\"multi_vehicle_collision\"]\n",
    "for category in incident_category:\n",
    "# Find rows where incident_edge is in the current set of edges\n",
    "    mask = df['incident_type'] == category\n",
    "# Set the appropriate label column to 1 for these rows\n",
    "    if category ==  \"stalled_vehicle\":\n",
    "        df.loc[mask, 'label'] = 0\n",
    "    else:\n",
    "        df.loc[mask, 'label'] = 1"
   ]
  },
  {
   "cell_type": "code",
   "execution_count": 6,
   "metadata": {},
   "outputs": [
    {
     "name": "stderr",
     "output_type": "stream",
     "text": [
      "/tmp/ipykernel_1654890/3492477022.py:1: FutureWarning: Downcasting object dtype arrays on .fillna, .ffill, .bfill is deprecated and will change in a future version. Call result.infer_objects(copy=False) instead. To opt-in to the future behavior, set `pd.set_option('future.no_silent_downcasting', True)`\n",
      "  df = df.fillna(-1)\n"
     ]
    }
   ],
   "source": [
    "df = df.fillna(-1)\n",
    "\n",
    "Y = df[\"label\"]\n",
    "\n",
    "X = df.drop([\"incident_edge\",\"incident_start_time\",\"incident_type\",\"accident_id\",\"accident_duration\",\"incident_lane\",\"accident_label\",\"label\"],axis=1)\n",
    "X = X.apply(standardize)\n",
    "\n",
    "X = X.drop([\"Unnamed: 0\",\"step\"],axis=1)\n",
    "X= X.values\n",
    "Y= Y.values"
   ]
  },
  {
   "cell_type": "code",
   "execution_count": 7,
   "metadata": {},
   "outputs": [],
   "source": [
    "X_train, X_test, y_train, y_test = train_test_split(X, Y, test_size=0.2)\n"
   ]
  },
  {
   "cell_type": "code",
   "execution_count": 8,
   "metadata": {},
   "outputs": [
    {
     "name": "stderr",
     "output_type": "stream",
     "text": [
      "/home/local/ASURITE/speddira/miniconda3/envs/cobra/lib/python3.10/site-packages/pytorch_tabnet/abstract_model.py:82: UserWarning: Device used : cuda\n",
      "  warnings.warn(f\"Device used : {self.device}\")\n"
     ]
    }
   ],
   "source": [
    "clf = TabNetClassifier(n_d=64, n_a=64, momentum=0.3, n_steps=5, optimizer_fn=torch.optim.Adam,\n",
    "    optimizer_params=dict(lr=2e-2),\n",
    "    scheduler_params = {\"gamma\": 0.95,\n",
    "                     \"step_size\": 20},\n",
    "    scheduler_fn=torch.optim.lr_scheduler.StepLR, epsilon=1e-15)"
   ]
  },
  {
   "cell_type": "code",
   "execution_count": 9,
   "metadata": {},
   "outputs": [
    {
     "name": "stderr",
     "output_type": "stream",
     "text": [
      "/home/local/ASURITE/speddira/miniconda3/envs/cobra/lib/python3.10/site-packages/pytorch_tabnet/abstract_model.py:687: UserWarning: No early stopping will be performed, last training weights will be used.\n",
      "  warnings.warn(wrn_msg)\n"
     ]
    },
    {
     "name": "stdout",
     "output_type": "stream",
     "text": [
      "epoch 0  | loss: 0.45636 |  0:00:36s\n",
      "epoch 1  | loss: 0.26494 |  0:01:15s\n",
      "epoch 2  | loss: 0.11904 |  0:01:56s\n",
      "epoch 3  | loss: 0.02226 |  0:02:37s\n",
      "epoch 4  | loss: 0.01345 |  0:03:21s\n",
      "epoch 5  | loss: 0.01587 |  0:04:04s\n",
      "epoch 6  | loss: 0.00888 |  0:04:40s\n",
      "epoch 7  | loss: 0.00738 |  0:05:24s\n",
      "epoch 8  | loss: 0.00603 |  0:06:08s\n",
      "epoch 9  | loss: 0.00626 |  0:06:50s\n",
      "epoch 10 | loss: 0.00527 |  0:07:33s\n",
      "epoch 11 | loss: 0.00674 |  0:08:15s\n",
      "epoch 12 | loss: 0.0062  |  0:08:54s\n",
      "epoch 13 | loss: 0.00686 |  0:09:41s\n",
      "epoch 14 | loss: 0.00329 |  0:10:25s\n",
      "epoch 15 | loss: 0.00308 |  0:11:10s\n",
      "epoch 16 | loss: 0.00417 |  0:11:53s\n",
      "epoch 17 | loss: 0.00324 |  0:12:36s\n",
      "epoch 18 | loss: 0.00242 |  0:13:15s\n",
      "epoch 19 | loss: 0.00477 |  0:13:58s\n",
      "epoch 20 | loss: 0.00242 |  0:14:42s\n",
      "epoch 21 | loss: 0.00306 |  0:15:24s\n",
      "epoch 22 | loss: 0.00288 |  0:16:02s\n",
      "epoch 23 | loss: 0.00211 |  0:16:47s\n",
      "epoch 24 | loss: 0.00273 |  0:17:31s\n",
      "epoch 25 | loss: 0.0026  |  0:18:11s\n",
      "epoch 26 | loss: 0.00274 |  0:18:54s\n",
      "epoch 27 | loss: 0.00185 |  0:19:38s\n",
      "epoch 28 | loss: 0.00204 |  0:20:27s\n",
      "epoch 29 | loss: 0.00301 |  0:21:11s\n",
      "epoch 30 | loss: 0.00104 |  0:21:51s\n",
      "epoch 31 | loss: 0.00196 |  0:22:34s\n",
      "epoch 32 | loss: 0.00219 |  0:23:15s\n",
      "epoch 33 | loss: 0.00195 |  0:23:58s\n",
      "epoch 34 | loss: 0.00122 |  0:24:42s\n",
      "epoch 35 | loss: 0.00182 |  0:25:21s\n",
      "epoch 36 | loss: 0.00135 |  0:25:57s\n",
      "epoch 37 | loss: 0.00204 |  0:26:42s\n",
      "epoch 38 | loss: 0.00248 |  0:27:23s\n",
      "epoch 39 | loss: 0.00168 |  0:28:05s\n",
      "epoch 40 | loss: 0.00194 |  0:28:48s\n",
      "epoch 41 | loss: 0.00104 |  0:29:32s\n",
      "epoch 42 | loss: 0.00201 |  0:30:11s\n",
      "epoch 43 | loss: 0.00093 |  0:30:53s\n",
      "epoch 44 | loss: 0.00119 |  0:31:39s\n",
      "epoch 45 | loss: 0.00173 |  0:32:24s\n",
      "epoch 46 | loss: 0.00106 |  0:33:11s\n",
      "epoch 47 | loss: 0.00206 |  0:33:55s\n",
      "epoch 48 | loss: 0.00095 |  0:34:37s\n",
      "epoch 49 | loss: 0.00127 |  0:35:16s\n",
      "epoch 50 | loss: 0.00139 |  0:36:01s\n",
      "epoch 51 | loss: 0.00154 |  0:36:49s\n",
      "epoch 52 | loss: 0.00088 |  0:37:33s\n",
      "epoch 53 | loss: 0.00142 |  0:38:17s\n",
      "epoch 54 | loss: 0.00099 |  0:39:04s\n",
      "epoch 55 | loss: 0.00197 |  0:39:50s\n",
      "epoch 56 | loss: 0.00151 |  0:40:34s\n",
      "epoch 57 | loss: 0.00099 |  0:41:17s\n",
      "epoch 58 | loss: 0.00138 |  0:42:00s\n",
      "epoch 59 | loss: 0.00105 |  0:42:45s\n",
      "epoch 60 | loss: 0.0013  |  0:43:31s\n",
      "epoch 61 | loss: 0.00141 |  0:44:13s\n",
      "epoch 62 | loss: 0.00124 |  0:45:00s\n",
      "epoch 63 | loss: 0.00142 |  0:45:39s\n",
      "epoch 64 | loss: 0.00085 |  0:46:20s\n",
      "epoch 65 | loss: 0.00059 |  0:47:05s\n",
      "epoch 66 | loss: 0.00138 |  0:47:47s\n",
      "epoch 67 | loss: 0.00195 |  0:48:28s\n",
      "epoch 68 | loss: 0.00044 |  0:49:06s\n",
      "epoch 69 | loss: 0.0021  |  0:49:46s\n",
      "epoch 70 | loss: 0.00077 |  0:50:33s\n",
      "epoch 71 | loss: 0.00122 |  0:51:12s\n",
      "epoch 72 | loss: 0.00144 |  0:51:56s\n",
      "epoch 73 | loss: 0.00067 |  0:52:41s\n",
      "epoch 74 | loss: 0.00122 |  0:53:22s\n",
      "epoch 75 | loss: 0.00074 |  0:54:03s\n",
      "epoch 76 | loss: 0.00089 |  0:54:46s\n",
      "epoch 77 | loss: 0.00097 |  0:55:23s\n",
      "epoch 78 | loss: 0.00109 |  0:55:58s\n",
      "epoch 79 | loss: 0.0007  |  0:56:34s\n"
     ]
    }
   ],
   "source": [
    "clf.fit(\n",
    "  X_train, y_train,num_workers = 10,max_epochs=80\n",
    ")"
   ]
  },
  {
   "cell_type": "code",
   "execution_count": 10,
   "metadata": {},
   "outputs": [
    {
     "name": "stdout",
     "output_type": "stream",
     "text": [
      "Successfully saved model at tab_net_4_jun_severity.zip\n"
     ]
    }
   ],
   "source": [
    "saving_path_name = \"tab_net_4_jun_severity\"\n",
    "saved_filepath = clf.save_model(saving_path_name)"
   ]
  },
  {
   "cell_type": "code",
   "execution_count": 11,
   "metadata": {},
   "outputs": [
    {
     "name": "stdout",
     "output_type": "stream",
     "text": [
      "Accuracy: 99.96%\n",
      "precision: 100.00%\n",
      "f1: 99.97%\n",
      "recall: 99.95%\n",
      "*****************************************************************\n"
     ]
    }
   ],
   "source": [
    "X= X_test\n",
    "Y= y_test\n",
    "y_pred = clf.predict(X)\n",
    "y_pred = list(y_pred)\n",
    "y_test = list(Y)\n",
    "\n",
    "accuracy = accuracy_score(y_test, y_pred)\n",
    "precision = precision_score(y_test, y_pred)\n",
    "f1 = f1_score(y_test, y_pred)\n",
    "recall = recall_score(y_test, y_pred)\n",
    "print(\"Accuracy: %.2f%%\" % (accuracy * 100.0))\n",
    "print(\"precision: %.2f%%\" % (precision * 100.0))\n",
    "print(\"f1: %.2f%%\" % (f1 * 100.0))\n",
    "print(\"recall: %.2f%%\" % (recall * 100.0))\n",
    "\n",
    "print(\"*****************************************************************\")\n"
   ]
  },
  {
   "cell_type": "code",
   "execution_count": null,
   "metadata": {},
   "outputs": [],
   "source": []
  }
 ],
 "metadata": {
  "kernelspec": {
   "display_name": "Python 3 (ipykernel)",
   "language": "python",
   "name": "python3"
  }
 },
 "nbformat": 4,
 "nbformat_minor": 2
}
