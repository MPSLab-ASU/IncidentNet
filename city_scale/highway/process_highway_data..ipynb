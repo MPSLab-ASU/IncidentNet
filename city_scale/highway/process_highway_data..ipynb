{
 "cells": [
  {
   "cell_type": "code",
   "execution_count": 5,
   "metadata": {},
   "outputs": [],
   "source": [
    "import pandas as dd"
   ]
  },
  {
   "cell_type": "code",
   "execution_count": 1,
   "metadata": {},
   "outputs": [],
   "source": [
    "NUM_OF_JUNCTIONS = 2\n",
    "ROLLING_WINDOW_LENGTH = 600\n",
    "TRAVEL_TIME_WINDOW = 600\n",
    "TRAFFIC_DATASET = \"/home/local/ASURITE/kharapan/highway_trafficDataset_2024-3-27_2348hours_1296000steps.csv\"\n",
    "VEHICLE_DATASET = \"/home/local/ASURITE/kharapan/highway_vehicleDataset_2024-3-27_2348hours_1296000steps.csv\"\n",
    "LENGTH_OF_SIM = 1_296_000\n",
    "generate_incidents_csv = True"
   ]
  },
  {
   "cell_type": "code",
   "execution_count": 2,
   "metadata": {},
   "outputs": [
    {
     "name": "stdout",
     "output_type": "stream",
     "text": [
      "Number of junctions considered for dataset prep: 2\n",
      "Rolling window length considered for dataset prep: 600\n",
      "Travel time window length considered for dataset prep: 600\n"
     ]
    }
   ],
   "source": [
    "print(f\"Number of junctions considered for dataset prep: {NUM_OF_JUNCTIONS}\")\n",
    "print(f\"Rolling window length considered for dataset prep: {ROLLING_WINDOW_LENGTH}\")\n",
    "print(f\"Travel time window length considered for dataset prep: {TRAVEL_TIME_WINDOW}\")"
   ]
  },
  {
   "cell_type": "code",
   "execution_count": 7,
   "metadata": {},
   "outputs": [
    {
     "name": "stderr",
     "output_type": "stream",
     "text": [
      "/tmp/ipykernel_1965160/3322267942.py:1: DtypeWarning: Columns (16) have mixed types. Specify dtype option on import or set low_memory=False.\n",
      "  df_traffic = dd.read_csv(TRAFFIC_DATASET)\n"
     ]
    }
   ],
   "source": [
    "df_traffic = dd.read_csv(TRAFFIC_DATASET)"
   ]
  },
  {
   "cell_type": "code",
   "execution_count": 8,
   "metadata": {},
   "outputs": [
    {
     "data": {
      "text/html": [
       "<div>\n",
       "<style scoped>\n",
       "    .dataframe tbody tr th:only-of-type {\n",
       "        vertical-align: middle;\n",
       "    }\n",
       "\n",
       "    .dataframe tbody tr th {\n",
       "        vertical-align: top;\n",
       "    }\n",
       "\n",
       "    .dataframe thead th {\n",
       "        text-align: right;\n",
       "    }\n",
       "</style>\n",
       "<table border=\"1\" class=\"dataframe\">\n",
       "  <thead>\n",
       "    <tr style=\"text-align: right;\">\n",
       "      <th></th>\n",
       "      <th>step</th>\n",
       "      <th>time_of_day</th>\n",
       "      <th>identified_edge</th>\n",
       "      <th>junction_mean_speed</th>\n",
       "      <th>traffic_count</th>\n",
       "      <th>traffic_occupancy</th>\n",
       "      <th>vehicles_per_lane_1</th>\n",
       "      <th>vehicles_per_lane_0</th>\n",
       "      <th>lane_mean_speed_0</th>\n",
       "      <th>lane_mean_speed_1</th>\n",
       "      <th>incident_edge</th>\n",
       "      <th>incident_start_time</th>\n",
       "      <th>incident_type</th>\n",
       "      <th>accident_label</th>\n",
       "      <th>accident_id</th>\n",
       "      <th>accident_duration</th>\n",
       "      <th>incident_lane</th>\n",
       "    </tr>\n",
       "  </thead>\n",
       "  <tbody>\n",
       "    <tr>\n",
       "      <th>0</th>\n",
       "      <td>0</td>\n",
       "      <td>0</td>\n",
       "      <td>93676377#2-AddedOnRampEdge</td>\n",
       "      <td>0.0</td>\n",
       "      <td>0</td>\n",
       "      <td>0.0</td>\n",
       "      <td>0.0</td>\n",
       "      <td>0.0</td>\n",
       "      <td>0.0</td>\n",
       "      <td>0.0</td>\n",
       "      <td>NaN</td>\n",
       "      <td>0</td>\n",
       "      <td>NaN</td>\n",
       "      <td>False</td>\n",
       "      <td>NaN</td>\n",
       "      <td>0</td>\n",
       "      <td>-1</td>\n",
       "    </tr>\n",
       "    <tr>\n",
       "      <th>1</th>\n",
       "      <td>0</td>\n",
       "      <td>0</td>\n",
       "      <td>85756582#1-AddedOffRampEdge</td>\n",
       "      <td>0.0</td>\n",
       "      <td>0</td>\n",
       "      <td>0.0</td>\n",
       "      <td>0.0</td>\n",
       "      <td>0.0</td>\n",
       "      <td>0.0</td>\n",
       "      <td>0.0</td>\n",
       "      <td>NaN</td>\n",
       "      <td>0</td>\n",
       "      <td>NaN</td>\n",
       "      <td>False</td>\n",
       "      <td>NaN</td>\n",
       "      <td>0</td>\n",
       "      <td>-1</td>\n",
       "    </tr>\n",
       "    <tr>\n",
       "      <th>2</th>\n",
       "      <td>1</td>\n",
       "      <td>1</td>\n",
       "      <td>93676377#2-AddedOnRampEdge</td>\n",
       "      <td>0.0</td>\n",
       "      <td>0</td>\n",
       "      <td>0.0</td>\n",
       "      <td>0.0</td>\n",
       "      <td>0.0</td>\n",
       "      <td>0.0</td>\n",
       "      <td>0.0</td>\n",
       "      <td>NaN</td>\n",
       "      <td>0</td>\n",
       "      <td>NaN</td>\n",
       "      <td>False</td>\n",
       "      <td>NaN</td>\n",
       "      <td>0</td>\n",
       "      <td>-1</td>\n",
       "    </tr>\n",
       "    <tr>\n",
       "      <th>3</th>\n",
       "      <td>1</td>\n",
       "      <td>1</td>\n",
       "      <td>85756582#1-AddedOffRampEdge</td>\n",
       "      <td>0.0</td>\n",
       "      <td>0</td>\n",
       "      <td>0.0</td>\n",
       "      <td>0.0</td>\n",
       "      <td>0.0</td>\n",
       "      <td>0.0</td>\n",
       "      <td>0.0</td>\n",
       "      <td>NaN</td>\n",
       "      <td>0</td>\n",
       "      <td>NaN</td>\n",
       "      <td>False</td>\n",
       "      <td>NaN</td>\n",
       "      <td>0</td>\n",
       "      <td>-1</td>\n",
       "    </tr>\n",
       "    <tr>\n",
       "      <th>4</th>\n",
       "      <td>2</td>\n",
       "      <td>2</td>\n",
       "      <td>93676377#2-AddedOnRampEdge</td>\n",
       "      <td>0.0</td>\n",
       "      <td>0</td>\n",
       "      <td>0.0</td>\n",
       "      <td>0.0</td>\n",
       "      <td>0.0</td>\n",
       "      <td>0.0</td>\n",
       "      <td>0.0</td>\n",
       "      <td>NaN</td>\n",
       "      <td>0</td>\n",
       "      <td>NaN</td>\n",
       "      <td>False</td>\n",
       "      <td>NaN</td>\n",
       "      <td>0</td>\n",
       "      <td>-1</td>\n",
       "    </tr>\n",
       "  </tbody>\n",
       "</table>\n",
       "</div>"
      ],
      "text/plain": [
       "   step  time_of_day              identified_edge  junction_mean_speed  \\\n",
       "0     0            0   93676377#2-AddedOnRampEdge                  0.0   \n",
       "1     0            0  85756582#1-AddedOffRampEdge                  0.0   \n",
       "2     1            1   93676377#2-AddedOnRampEdge                  0.0   \n",
       "3     1            1  85756582#1-AddedOffRampEdge                  0.0   \n",
       "4     2            2   93676377#2-AddedOnRampEdge                  0.0   \n",
       "\n",
       "   traffic_count  traffic_occupancy  vehicles_per_lane_1  vehicles_per_lane_0  \\\n",
       "0              0                0.0                  0.0                  0.0   \n",
       "1              0                0.0                  0.0                  0.0   \n",
       "2              0                0.0                  0.0                  0.0   \n",
       "3              0                0.0                  0.0                  0.0   \n",
       "4              0                0.0                  0.0                  0.0   \n",
       "\n",
       "   lane_mean_speed_0  lane_mean_speed_1 incident_edge  incident_start_time  \\\n",
       "0                0.0                0.0           NaN                    0   \n",
       "1                0.0                0.0           NaN                    0   \n",
       "2                0.0                0.0           NaN                    0   \n",
       "3                0.0                0.0           NaN                    0   \n",
       "4                0.0                0.0           NaN                    0   \n",
       "\n",
       "  incident_type  accident_label accident_id  accident_duration incident_lane  \n",
       "0           NaN           False         NaN                  0            -1  \n",
       "1           NaN           False         NaN                  0            -1  \n",
       "2           NaN           False         NaN                  0            -1  \n",
       "3           NaN           False         NaN                  0            -1  \n",
       "4           NaN           False         NaN                  0            -1  "
      ]
     },
     "execution_count": 8,
     "metadata": {},
     "output_type": "execute_result"
    }
   ],
   "source": [
    "df_traffic.head()"
   ]
  },
  {
   "cell_type": "code",
   "execution_count": 9,
   "metadata": {},
   "outputs": [
    {
     "name": "stdout",
     "output_type": "stream",
     "text": [
      "Generating incidents csv\n",
      "Getting head of incidents dataset\n",
      "   incident_start_time incident_edge            incident_type  \\\n",
      "0                 7980    85756582#0  multi_vehicle_collision   \n",
      "1                15805    85756582#0  multi_vehicle_collision   \n",
      "2                23658    85756582#0  multi_vehicle_collision   \n",
      "3                31472    85756582#0  multi_vehicle_collision   \n",
      "4                39289    85756582#0  multi_vehicle_collision   \n",
      "\n",
      "   accident_duration incident_lane  \n",
      "0               4298             2  \n",
      "1               5664  85756582#0_0  \n",
      "2               2802  85756582#0_0  \n",
      "3               4796  85756582#0_0  \n",
      "4               6728  85756582#0_0  \n",
      "Number of incidents in this simulation 165\n",
      "Number of incidents in this simulation with less severe incidents 8\n",
      "Number of incidents in this simulation with more severe incidents 157\n",
      "Input traffic raw data shape is (2592000, 17)\n"
     ]
    }
   ],
   "source": [
    "if(generate_incidents_csv):\n",
    "    print(\"Generating incidents csv\")\n",
    "    df_incidents_info = df_traffic[df_traffic[\"accident_label\"]][[\"incident_edge\", \"incident_type\", 'incident_start_time',\"accident_duration\", \"incident_lane\"]]\n",
    "\n",
    "    df_pandas_incidents = df_incidents_info.groupby(\"incident_start_time\").first().reset_index()\n",
    "\n",
    "    print(\"Getting head of incidents dataset\")\n",
    "\n",
    "    print(df_pandas_incidents.head())\n",
    "\n",
    "    # df_pandas_incidents =  df_incidents_info2.compute()\n",
    "\n",
    "    df_pandas_incidents.to_csv(\"incidents_data.csv\")\n",
    "\n",
    "    print(f\"Number of incidents in this simulation {len(df_pandas_incidents)}\")\n",
    "    print(f\"Number of incidents in this simulation with less severe incidents {len(df_pandas_incidents[df_pandas_incidents['incident_type']=='stalled_vehicle'])}\")\n",
    "    print(f\"Number of incidents in this simulation with more severe incidents {len(df_pandas_incidents[df_pandas_incidents['incident_type']=='multi_vehicle_collision'])}\")\n",
    "\n",
    "    print(f\"Input traffic raw data shape is {df_traffic.shape}\")\n",
    "    \n",
    "else:\n",
    "    \n",
    "    print(\"Skipping generation of incidents data\")"
   ]
  },
  {
   "cell_type": "code",
   "execution_count": 10,
   "metadata": {},
   "outputs": [],
   "source": [
    "df_traffic = df_traffic.drop([\"vehicles_per_lane_1\",\"vehicles_per_lane_0\",\"lane_mean_speed_0\",\"lane_mean_speed_1\"],axis=1)"
   ]
  },
  {
   "cell_type": "code",
   "execution_count": 11,
   "metadata": {},
   "outputs": [],
   "source": [
    "outgoing_edges = [\"93676377#2-AddedOnRampEdge\"]\n",
    "incoming_edges = [\"85756582#1-AddedOffRampEdge\"]"
   ]
  },
  {
   "cell_type": "code",
   "execution_count": 12,
   "metadata": {},
   "outputs": [],
   "source": [
    "edges = incoming_edges + outgoing_edges"
   ]
  },
  {
   "cell_type": "code",
   "execution_count": 13,
   "metadata": {},
   "outputs": [],
   "source": [
    "# Apply rolling average to one sensor data : edges[0]\n",
    "count = 0\n",
    "df = df_traffic[df_traffic[\"identified_edge\"] == edges[0] ]\n",
    "df = df.reset_index(drop=True)\n",
    "df[f\"rolling_junction_mean_speed_{count}\"] = df['junction_mean_speed'].rolling(ROLLING_WINDOW_LENGTH).mean()\n",
    "df[f\"rolling_traffic_occupancy_{count}\"] = df['traffic_occupancy'].rolling(ROLLING_WINDOW_LENGTH).mean()\n",
    "df[f\"rolling_traffic_count_{count}\"] = df['traffic_count'].rolling(ROLLING_WINDOW_LENGTH).mean()\n",
    "\n",
    "Y = df[[\"step\",\"time_of_day\",\"incident_edge\",\"incident_start_time\",\"incident_type\",\"accident_id\",\"accident_duration\",\"incident_lane\",\"accident_label\"]]\n",
    "df_data = df[[\"step\",f\"rolling_junction_mean_speed_{count}\",f\"rolling_traffic_count_{count}\",f\"rolling_traffic_occupancy_{count}\"]]\n",
    "count+=1"
   ]
  },
  {
   "cell_type": "code",
   "execution_count": 14,
   "metadata": {},
   "outputs": [
    {
     "name": "stdout",
     "output_type": "stream",
     "text": [
      "Shape so far (1296000, 16)\n"
     ]
    }
   ],
   "source": [
    "print(\"Shape so far\",df.shape) # df.shape[0] should match with number of timesteps"
   ]
  },
  {
   "cell_type": "code",
   "execution_count": 15,
   "metadata": {},
   "outputs": [
    {
     "name": "stdout",
     "output_type": "stream",
     "text": [
      "Processed 1\n"
     ]
    }
   ],
   "source": [
    "#Iterating over all other sensors and merging them\n",
    "for index,edge in enumerate(edges):\n",
    "    \n",
    "    if index == 0:\n",
    "        continue\n",
    "    print(f\"Processed {count}\")\n",
    "    df = df_traffic[df_traffic[\"identified_edge\"] == edge ]\n",
    "    df = df.reset_index(drop=True)\n",
    "    df[f\"rolling_junction_mean_speed_{count}\"] = df['junction_mean_speed'].rolling(ROLLING_WINDOW_LENGTH).mean()\n",
    "    df[f\"rolling_traffic_count_{count}\"] = df['traffic_count'].rolling(ROLLING_WINDOW_LENGTH).mean()\n",
    "    df[f\"rolling_traffic_occupancy_{count}\"] = df['traffic_occupancy'].rolling(ROLLING_WINDOW_LENGTH).mean()\n",
    "    \n",
    "    df_temp = df[[\"step\",f\"rolling_junction_mean_speed_{count}\",f\"rolling_traffic_count_{count}\",f\"rolling_traffic_occupancy_{count}\"]]\n",
    "    df_data = dd.merge(left = df_data, right = df_temp , on = \"step\", how = \"inner\")\n",
    "\n",
    "    count+=1\n",
    "    "
   ]
  },
  {
   "cell_type": "code",
   "execution_count": 16,
   "metadata": {},
   "outputs": [],
   "source": [
    "df_traffic_data = dd.merge(left = df_data, right = Y , on = \"step\", how = \"inner\")"
   ]
  },
  {
   "cell_type": "code",
   "execution_count": 17,
   "metadata": {},
   "outputs": [
    {
     "name": "stdout",
     "output_type": "stream",
     "text": [
      "Shape so far (1296000, 15)\n"
     ]
    }
   ],
   "source": [
    "print(\"Shape so far\",df_traffic_data.shape)"
   ]
  },
  {
   "cell_type": "code",
   "execution_count": 18,
   "metadata": {},
   "outputs": [],
   "source": [
    "df_vehicle = dd.read_csv(VEHICLE_DATASET,)"
   ]
  },
  {
   "cell_type": "code",
   "execution_count": 19,
   "metadata": {},
   "outputs": [],
   "source": [
    "outgoing_edges = [\"93676377#2-AddedOnRampEdge\"]\n",
    "incoming_edges = [\"85756582#1-AddedOffRampEdge\"]"
   ]
  },
  {
   "cell_type": "code",
   "execution_count": 20,
   "metadata": {},
   "outputs": [],
   "source": [
    "# sensor details\n",
    "\n",
    "sensors = {\n",
    "\n",
    "    1: \"93676377#2-AddedOnRampEdge\",\n",
    "    2:\"85756582#1-AddedOffRampEdge\"\n",
    "\n",
    "}"
   ]
  },
  {
   "cell_type": "code",
   "execution_count": 21,
   "metadata": {},
   "outputs": [],
   "source": [
    "junctions_sensor_combo ={\n",
    "    2:[[1,2]]\n",
    "}"
   ]
  },
  {
   "cell_type": "code",
   "execution_count": 22,
   "metadata": {},
   "outputs": [],
   "source": [
    "interested_combo = junctions_sensor_combo[NUM_OF_JUNCTIONS]"
   ]
  },
  {
   "cell_type": "code",
   "execution_count": 23,
   "metadata": {},
   "outputs": [
    {
     "name": "stdout",
     "output_type": "stream",
     "text": [
      "[[1, 2]]\n",
      "1\n"
     ]
    }
   ],
   "source": [
    "print(interested_combo)\n",
    "print(len(interested_combo))"
   ]
  },
  {
   "cell_type": "code",
   "execution_count": 24,
   "metadata": {},
   "outputs": [
    {
     "data": {
      "text/plain": [
       "(1296000, 1)"
      ]
     },
     "execution_count": 24,
     "metadata": {},
     "output_type": "execute_result"
    }
   ],
   "source": [
    "steps = [i for i in range(LENGTH_OF_SIM)]\n",
    "data_dd = {\"steps\":steps}\n",
    "dd_dataframe = dd.DataFrame(data_dd)\n",
    "dd_dataframe.shape"
   ]
  },
  {
   "cell_type": "code",
   "execution_count": 25,
   "metadata": {},
   "outputs": [
    {
     "name": "stdout",
     "output_type": "stream",
     "text": [
      "1\n"
     ]
    }
   ],
   "source": [
    "count = 1\n",
    "for sensor_combination in interested_combo:\n",
    "    print(count)\n",
    "    outgoing_sensor = sensors[sensor_combination[0]]\n",
    "    incoming_sensor = sensors[sensor_combination[1]]\n",
    "    df_outgoing = df_vehicle[df_vehicle['identified_edge'] == outgoing_sensor]\n",
    "    df_incoming = df_vehicle[df_vehicle['identified_edge'] == incoming_sensor]\n",
    "    df_incoming = df_incoming.reset_index(drop=True)\n",
    "    df_outgoing = df_outgoing.reset_index(drop=True)\n",
    "\n",
    "    df_outgoing_unique = df_outgoing[df_outgoing[\"car_id\"].notnull()]\n",
    "    df_incoming_unique = df_incoming[df_incoming[\"car_id\"].notnull()]\n",
    "\n",
    "    df_outgoing_unique = df_outgoing_unique.groupby('car_id').first().reset_index()\n",
    "    df_incoming_unique = df_incoming_unique.groupby('car_id').first().reset_index()\n",
    "\n",
    "    df_outgoing_unique = df_outgoing_unique.sort_values(by = 'step')\n",
    "    df_incoming_unique = df_incoming_unique.sort_values(by = 'step')\n",
    "    \n",
    "    df_merged = dd.merge(left = df_incoming_unique,right = df_outgoing_unique, on='car_id', how='inner')\n",
    "\n",
    "    df_merged[\"travel_time\"] = df_merged[\"step_x\"] - df_merged[\"step_y\"]\n",
    "\n",
    "    df_travel_time_data = df_merged[[\"step_x\",\"travel_time\"]]\n",
    "    df_travel_time_data = df_travel_time_data.groupby(\"step_x\").mean().reset_index()\n",
    "    \n",
    "    df_travel_time_data2 = dd.merge(left = df_travel_time_data,right = dd_dataframe, right_on='steps',left_on=\"step_x\", how='right')\n",
    "\n",
    "    df_travel_time_data2[f\"rolling_travel_time_{sensor_combination[0]}_{sensor_combination[1]}\"] = df_travel_time_data2[\"travel_time\"].rolling(300,min_periods=1).mean()\n",
    "\n",
    "    df_travel_time_data2 = df_travel_time_data2.drop([\"step_x\",\"travel_time\"],axis=1)\n",
    "    df_traffic_data = dd.merge(left = df_traffic_data, right = df_travel_time_data2 , left_on = \"step\",right_on = \"steps\", how = \"inner\")\n",
    "    df_traffic_data = df_traffic_data.drop([\"steps\"],axis=1)\n",
    "    count+=1"
   ]
  },
  {
   "cell_type": "code",
   "execution_count": 26,
   "metadata": {},
   "outputs": [
    {
     "data": {
      "text/html": [
       "<div>\n",
       "<style scoped>\n",
       "    .dataframe tbody tr th:only-of-type {\n",
       "        vertical-align: middle;\n",
       "    }\n",
       "\n",
       "    .dataframe tbody tr th {\n",
       "        vertical-align: top;\n",
       "    }\n",
       "\n",
       "    .dataframe thead th {\n",
       "        text-align: right;\n",
       "    }\n",
       "</style>\n",
       "<table border=\"1\" class=\"dataframe\">\n",
       "  <thead>\n",
       "    <tr style=\"text-align: right;\">\n",
       "      <th></th>\n",
       "      <th>step</th>\n",
       "      <th>rolling_junction_mean_speed_0</th>\n",
       "      <th>rolling_traffic_count_0</th>\n",
       "      <th>rolling_traffic_occupancy_0</th>\n",
       "      <th>rolling_junction_mean_speed_1</th>\n",
       "      <th>rolling_traffic_count_1</th>\n",
       "      <th>rolling_traffic_occupancy_1</th>\n",
       "      <th>time_of_day</th>\n",
       "      <th>incident_edge</th>\n",
       "      <th>incident_start_time</th>\n",
       "      <th>incident_type</th>\n",
       "      <th>accident_id</th>\n",
       "      <th>accident_duration</th>\n",
       "      <th>incident_lane</th>\n",
       "      <th>accident_label</th>\n",
       "      <th>rolling_travel_time_1_2</th>\n",
       "    </tr>\n",
       "  </thead>\n",
       "  <tbody>\n",
       "    <tr>\n",
       "      <th>0</th>\n",
       "      <td>0</td>\n",
       "      <td>NaN</td>\n",
       "      <td>NaN</td>\n",
       "      <td>NaN</td>\n",
       "      <td>NaN</td>\n",
       "      <td>NaN</td>\n",
       "      <td>NaN</td>\n",
       "      <td>0</td>\n",
       "      <td>NaN</td>\n",
       "      <td>0</td>\n",
       "      <td>NaN</td>\n",
       "      <td>NaN</td>\n",
       "      <td>0</td>\n",
       "      <td>-1</td>\n",
       "      <td>False</td>\n",
       "      <td>NaN</td>\n",
       "    </tr>\n",
       "    <tr>\n",
       "      <th>1</th>\n",
       "      <td>1</td>\n",
       "      <td>NaN</td>\n",
       "      <td>NaN</td>\n",
       "      <td>NaN</td>\n",
       "      <td>NaN</td>\n",
       "      <td>NaN</td>\n",
       "      <td>NaN</td>\n",
       "      <td>1</td>\n",
       "      <td>NaN</td>\n",
       "      <td>0</td>\n",
       "      <td>NaN</td>\n",
       "      <td>NaN</td>\n",
       "      <td>0</td>\n",
       "      <td>-1</td>\n",
       "      <td>False</td>\n",
       "      <td>NaN</td>\n",
       "    </tr>\n",
       "    <tr>\n",
       "      <th>2</th>\n",
       "      <td>2</td>\n",
       "      <td>NaN</td>\n",
       "      <td>NaN</td>\n",
       "      <td>NaN</td>\n",
       "      <td>NaN</td>\n",
       "      <td>NaN</td>\n",
       "      <td>NaN</td>\n",
       "      <td>2</td>\n",
       "      <td>NaN</td>\n",
       "      <td>0</td>\n",
       "      <td>NaN</td>\n",
       "      <td>NaN</td>\n",
       "      <td>0</td>\n",
       "      <td>-1</td>\n",
       "      <td>False</td>\n",
       "      <td>NaN</td>\n",
       "    </tr>\n",
       "    <tr>\n",
       "      <th>3</th>\n",
       "      <td>3</td>\n",
       "      <td>NaN</td>\n",
       "      <td>NaN</td>\n",
       "      <td>NaN</td>\n",
       "      <td>NaN</td>\n",
       "      <td>NaN</td>\n",
       "      <td>NaN</td>\n",
       "      <td>3</td>\n",
       "      <td>NaN</td>\n",
       "      <td>0</td>\n",
       "      <td>NaN</td>\n",
       "      <td>NaN</td>\n",
       "      <td>0</td>\n",
       "      <td>-1</td>\n",
       "      <td>False</td>\n",
       "      <td>NaN</td>\n",
       "    </tr>\n",
       "    <tr>\n",
       "      <th>4</th>\n",
       "      <td>4</td>\n",
       "      <td>NaN</td>\n",
       "      <td>NaN</td>\n",
       "      <td>NaN</td>\n",
       "      <td>NaN</td>\n",
       "      <td>NaN</td>\n",
       "      <td>NaN</td>\n",
       "      <td>4</td>\n",
       "      <td>NaN</td>\n",
       "      <td>0</td>\n",
       "      <td>NaN</td>\n",
       "      <td>NaN</td>\n",
       "      <td>0</td>\n",
       "      <td>-1</td>\n",
       "      <td>False</td>\n",
       "      <td>NaN</td>\n",
       "    </tr>\n",
       "  </tbody>\n",
       "</table>\n",
       "</div>"
      ],
      "text/plain": [
       "   step  rolling_junction_mean_speed_0  rolling_traffic_count_0  \\\n",
       "0     0                            NaN                      NaN   \n",
       "1     1                            NaN                      NaN   \n",
       "2     2                            NaN                      NaN   \n",
       "3     3                            NaN                      NaN   \n",
       "4     4                            NaN                      NaN   \n",
       "\n",
       "   rolling_traffic_occupancy_0  rolling_junction_mean_speed_1  \\\n",
       "0                          NaN                            NaN   \n",
       "1                          NaN                            NaN   \n",
       "2                          NaN                            NaN   \n",
       "3                          NaN                            NaN   \n",
       "4                          NaN                            NaN   \n",
       "\n",
       "   rolling_traffic_count_1  rolling_traffic_occupancy_1  time_of_day  \\\n",
       "0                      NaN                          NaN            0   \n",
       "1                      NaN                          NaN            1   \n",
       "2                      NaN                          NaN            2   \n",
       "3                      NaN                          NaN            3   \n",
       "4                      NaN                          NaN            4   \n",
       "\n",
       "  incident_edge  incident_start_time incident_type accident_id  \\\n",
       "0           NaN                    0           NaN         NaN   \n",
       "1           NaN                    0           NaN         NaN   \n",
       "2           NaN                    0           NaN         NaN   \n",
       "3           NaN                    0           NaN         NaN   \n",
       "4           NaN                    0           NaN         NaN   \n",
       "\n",
       "   accident_duration incident_lane  accident_label  rolling_travel_time_1_2  \n",
       "0                  0            -1           False                      NaN  \n",
       "1                  0            -1           False                      NaN  \n",
       "2                  0            -1           False                      NaN  \n",
       "3                  0            -1           False                      NaN  \n",
       "4                  0            -1           False                      NaN  "
      ]
     },
     "execution_count": 26,
     "metadata": {},
     "output_type": "execute_result"
    }
   ],
   "source": [
    "df_traffic_data.head()"
   ]
  },
  {
   "cell_type": "code",
   "execution_count": 27,
   "metadata": {},
   "outputs": [
    {
     "data": {
      "text/plain": [
       "step                                  0\n",
       "rolling_junction_mean_speed_0       599\n",
       "rolling_traffic_count_0             599\n",
       "rolling_traffic_occupancy_0         599\n",
       "rolling_junction_mean_speed_1       599\n",
       "rolling_traffic_count_1             599\n",
       "rolling_traffic_occupancy_1         599\n",
       "time_of_day                           0\n",
       "incident_edge                    506656\n",
       "incident_start_time                   0\n",
       "incident_type                    506997\n",
       "accident_id                      506997\n",
       "accident_duration                     0\n",
       "incident_lane                         0\n",
       "accident_label                        0\n",
       "rolling_travel_time_1_2           36580\n",
       "dtype: int64"
      ]
     },
     "execution_count": 27,
     "metadata": {},
     "output_type": "execute_result"
    }
   ],
   "source": [
    "df_traffic_data.isna().sum()"
   ]
  },
  {
   "cell_type": "code",
   "execution_count": 28,
   "metadata": {},
   "outputs": [],
   "source": [
    "df_traffic_data.to_csv(f\"highway_processed_dataset.csv\")"
   ]
  },
  {
   "cell_type": "code",
   "execution_count": 29,
   "metadata": {},
   "outputs": [
    {
     "data": {
      "text/html": [
       "<div>\n",
       "<style scoped>\n",
       "    .dataframe tbody tr th:only-of-type {\n",
       "        vertical-align: middle;\n",
       "    }\n",
       "\n",
       "    .dataframe tbody tr th {\n",
       "        vertical-align: top;\n",
       "    }\n",
       "\n",
       "    .dataframe thead th {\n",
       "        text-align: right;\n",
       "    }\n",
       "</style>\n",
       "<table border=\"1\" class=\"dataframe\">\n",
       "  <thead>\n",
       "    <tr style=\"text-align: right;\">\n",
       "      <th></th>\n",
       "      <th>step</th>\n",
       "      <th>rolling_junction_mean_speed_0</th>\n",
       "      <th>rolling_traffic_count_0</th>\n",
       "      <th>rolling_traffic_occupancy_0</th>\n",
       "      <th>rolling_junction_mean_speed_1</th>\n",
       "      <th>rolling_traffic_count_1</th>\n",
       "      <th>rolling_traffic_occupancy_1</th>\n",
       "      <th>time_of_day</th>\n",
       "      <th>incident_edge</th>\n",
       "      <th>incident_start_time</th>\n",
       "      <th>incident_type</th>\n",
       "      <th>accident_id</th>\n",
       "      <th>accident_duration</th>\n",
       "      <th>incident_lane</th>\n",
       "      <th>accident_label</th>\n",
       "      <th>rolling_travel_time_1_2</th>\n",
       "    </tr>\n",
       "  </thead>\n",
       "  <tbody>\n",
       "    <tr>\n",
       "      <th>0</th>\n",
       "      <td>0</td>\n",
       "      <td>NaN</td>\n",
       "      <td>NaN</td>\n",
       "      <td>NaN</td>\n",
       "      <td>NaN</td>\n",
       "      <td>NaN</td>\n",
       "      <td>NaN</td>\n",
       "      <td>0</td>\n",
       "      <td>NaN</td>\n",
       "      <td>0</td>\n",
       "      <td>NaN</td>\n",
       "      <td>NaN</td>\n",
       "      <td>0</td>\n",
       "      <td>-1</td>\n",
       "      <td>False</td>\n",
       "      <td>NaN</td>\n",
       "    </tr>\n",
       "    <tr>\n",
       "      <th>1</th>\n",
       "      <td>1</td>\n",
       "      <td>NaN</td>\n",
       "      <td>NaN</td>\n",
       "      <td>NaN</td>\n",
       "      <td>NaN</td>\n",
       "      <td>NaN</td>\n",
       "      <td>NaN</td>\n",
       "      <td>1</td>\n",
       "      <td>NaN</td>\n",
       "      <td>0</td>\n",
       "      <td>NaN</td>\n",
       "      <td>NaN</td>\n",
       "      <td>0</td>\n",
       "      <td>-1</td>\n",
       "      <td>False</td>\n",
       "      <td>NaN</td>\n",
       "    </tr>\n",
       "    <tr>\n",
       "      <th>2</th>\n",
       "      <td>2</td>\n",
       "      <td>NaN</td>\n",
       "      <td>NaN</td>\n",
       "      <td>NaN</td>\n",
       "      <td>NaN</td>\n",
       "      <td>NaN</td>\n",
       "      <td>NaN</td>\n",
       "      <td>2</td>\n",
       "      <td>NaN</td>\n",
       "      <td>0</td>\n",
       "      <td>NaN</td>\n",
       "      <td>NaN</td>\n",
       "      <td>0</td>\n",
       "      <td>-1</td>\n",
       "      <td>False</td>\n",
       "      <td>NaN</td>\n",
       "    </tr>\n",
       "    <tr>\n",
       "      <th>3</th>\n",
       "      <td>3</td>\n",
       "      <td>NaN</td>\n",
       "      <td>NaN</td>\n",
       "      <td>NaN</td>\n",
       "      <td>NaN</td>\n",
       "      <td>NaN</td>\n",
       "      <td>NaN</td>\n",
       "      <td>3</td>\n",
       "      <td>NaN</td>\n",
       "      <td>0</td>\n",
       "      <td>NaN</td>\n",
       "      <td>NaN</td>\n",
       "      <td>0</td>\n",
       "      <td>-1</td>\n",
       "      <td>False</td>\n",
       "      <td>NaN</td>\n",
       "    </tr>\n",
       "    <tr>\n",
       "      <th>4</th>\n",
       "      <td>4</td>\n",
       "      <td>NaN</td>\n",
       "      <td>NaN</td>\n",
       "      <td>NaN</td>\n",
       "      <td>NaN</td>\n",
       "      <td>NaN</td>\n",
       "      <td>NaN</td>\n",
       "      <td>4</td>\n",
       "      <td>NaN</td>\n",
       "      <td>0</td>\n",
       "      <td>NaN</td>\n",
       "      <td>NaN</td>\n",
       "      <td>0</td>\n",
       "      <td>-1</td>\n",
       "      <td>False</td>\n",
       "      <td>NaN</td>\n",
       "    </tr>\n",
       "  </tbody>\n",
       "</table>\n",
       "</div>"
      ],
      "text/plain": [
       "   step  rolling_junction_mean_speed_0  rolling_traffic_count_0  \\\n",
       "0     0                            NaN                      NaN   \n",
       "1     1                            NaN                      NaN   \n",
       "2     2                            NaN                      NaN   \n",
       "3     3                            NaN                      NaN   \n",
       "4     4                            NaN                      NaN   \n",
       "\n",
       "   rolling_traffic_occupancy_0  rolling_junction_mean_speed_1  \\\n",
       "0                          NaN                            NaN   \n",
       "1                          NaN                            NaN   \n",
       "2                          NaN                            NaN   \n",
       "3                          NaN                            NaN   \n",
       "4                          NaN                            NaN   \n",
       "\n",
       "   rolling_traffic_count_1  rolling_traffic_occupancy_1  time_of_day  \\\n",
       "0                      NaN                          NaN            0   \n",
       "1                      NaN                          NaN            1   \n",
       "2                      NaN                          NaN            2   \n",
       "3                      NaN                          NaN            3   \n",
       "4                      NaN                          NaN            4   \n",
       "\n",
       "  incident_edge  incident_start_time incident_type accident_id  \\\n",
       "0           NaN                    0           NaN         NaN   \n",
       "1           NaN                    0           NaN         NaN   \n",
       "2           NaN                    0           NaN         NaN   \n",
       "3           NaN                    0           NaN         NaN   \n",
       "4           NaN                    0           NaN         NaN   \n",
       "\n",
       "   accident_duration incident_lane  accident_label  rolling_travel_time_1_2  \n",
       "0                  0            -1           False                      NaN  \n",
       "1                  0            -1           False                      NaN  \n",
       "2                  0            -1           False                      NaN  \n",
       "3                  0            -1           False                      NaN  \n",
       "4                  0            -1           False                      NaN  "
      ]
     },
     "execution_count": 29,
     "metadata": {},
     "output_type": "execute_result"
    }
   ],
   "source": [
    "df_traffic_data.head()"
   ]
  },
  {
   "cell_type": "code",
   "execution_count": 30,
   "metadata": {},
   "outputs": [
    {
     "data": {
      "text/plain": [
       "(1296000, 16)"
      ]
     },
     "execution_count": 30,
     "metadata": {},
     "output_type": "execute_result"
    }
   ],
   "source": [
    "df_traffic_data.shape"
   ]
  },
  {
   "cell_type": "code",
   "execution_count": null,
   "metadata": {},
   "outputs": [],
   "source": []
  }
 ],
 "metadata": {
  "kernelspec": {
   "display_name": "Python 3 (ipykernel)",
   "language": "python",
   "name": "python3"
  },
  "language_info": {
   "codemirror_mode": {
    "name": "ipython",
    "version": 3
   },
   "file_extension": ".py",
   "mimetype": "text/x-python",
   "name": "python",
   "nbconvert_exporter": "python",
   "pygments_lexer": "ipython3",
   "version": "3.10.13"
  }
 },
 "nbformat": 4,
 "nbformat_minor": 2
}
