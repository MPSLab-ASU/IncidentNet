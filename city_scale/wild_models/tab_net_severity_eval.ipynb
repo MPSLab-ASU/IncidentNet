{
 "cells": [
  {
   "cell_type": "code",
   "execution_count": 1,
   "metadata": {},
   "outputs": [],
   "source": [
    "import pandas as pd\n",
    "import pickle\n",
    "import pandas as pd\n",
    "import numpy as np\n",
    "import pandas as pd\n",
    "from sklearn.model_selection import train_test_split\n",
    "from sklearn.metrics import accuracy_score\n",
    "from sklearn.metrics import precision_score\n",
    "from sklearn.metrics import recall_score\n",
    "from sklearn.metrics import f1_score\n",
    "from sklearn.utils.class_weight import compute_sample_weight\n",
    "from xgboost import XGBClassifier\n",
    "from sklearn.metrics import accuracy_score\n",
    "from pytorch_tabnet.tab_model import TabNetClassifier, TabNetRegressor\n",
    "import os\n",
    "import pickle\n",
    "import numpy as np\n",
    "from tqdm import tqdm"
   ]
  },
  {
   "cell_type": "code",
   "execution_count": 2,
   "metadata": {},
   "outputs": [],
   "source": [
    "pd.set_option('display.max_columns', None)\n",
    "pd.set_option('display.max_rows', None)"
   ]
  },
  {
   "cell_type": "code",
   "execution_count": 3,
   "metadata": {},
   "outputs": [],
   "source": [
    "def standardize(col):\n",
    "   return (col - col.mean()) / col.std()"
   ]
  },
  {
   "cell_type": "code",
   "execution_count": 4,
   "metadata": {},
   "outputs": [
    {
     "name": "stderr",
     "output_type": "stream",
     "text": [
      "/tmp/ipykernel_1671912/1010777656.py:3: DtypeWarning: Columns (51,53,54,56) have mixed types. Specify dtype option on import or set low_memory=False.\n",
      "  df = pd.read_csv(dataset_path)\n",
      "/tmp/ipykernel_1671912/1010777656.py:10: DtypeWarning: Columns (53,54) have mixed types. Specify dtype option on import or set low_memory=False.\n",
      "  df = pd.read_csv(dataset_path,dtype=data_types)\n"
     ]
    }
   ],
   "source": [
    "dataset_path = \"/home/local/ASURITE/speddira/dev/traffic_sense_net/city_scale/xgboost/evaluation_proccessed/proc_3_600_600.csv\"\n",
    "\n",
    "df = pd.read_csv(dataset_path)\n",
    "\n",
    "data_types = {\n",
    "    'incident_edge': 'object',  # Replace 'Column_Name1' with the actual column name\n",
    "    'incident_lane': 'object'  # Replace 'Column_Name2' with the actual column name\n",
    "}\n",
    "\n",
    "df = pd.read_csv(dataset_path,dtype=data_types)"
   ]
  },
  {
   "cell_type": "code",
   "execution_count": 5,
   "metadata": {},
   "outputs": [
    {
     "name": "stderr",
     "output_type": "stream",
     "text": [
      "/tmp/ipykernel_1671912/212309119.py:14: FutureWarning: Downcasting object dtype arrays on .fillna, .ffill, .bfill is deprecated and will change in a future version. Call result.infer_objects(copy=False) instead. To opt-in to the future behavior, set `pd.set_option('future.no_silent_downcasting', True)`\n",
      "  df = df.fillna(-1)\n"
     ]
    }
   ],
   "source": [
    "df = df[df[\"accident_label\"] == True]\n",
    "df['label'] = None\n",
    "\n",
    "incident_category = [\"stalled_vehicle\",\"multi_vehicle_collision\"]\n",
    "for category in incident_category:\n",
    "# Find rows where incident_edge is in the current set of edges\n",
    "    mask = df['incident_type'] == category\n",
    "# Set the appropriate label column to 1 for these rows\n",
    "    if category ==  \"stalled_vehicle\":\n",
    "        df.loc[mask, 'label'] = 0\n",
    "    else:\n",
    "        df.loc[mask, 'label'] = 1\n",
    "\n",
    "df = df.fillna(-1)\n",
    "\n",
    "Y = df[\"label\"]\n",
    "\n",
    "X = df.drop([\"incident_edge\",\"incident_start_time\",\"incident_type\",\"accident_id\",\"accident_duration\",\"incident_lane\",\"accident_label\",\"label\"],axis=1)\n",
    "X = X.apply(standardize)\n",
    "\n",
    "X = X.drop([\"Unnamed: 0\",\"step\"],axis=1)\n",
    "X= X.values\n",
    "Y= Y.values"
   ]
  },
  {
   "cell_type": "code",
   "execution_count": 6,
   "metadata": {},
   "outputs": [
    {
     "name": "stderr",
     "output_type": "stream",
     "text": [
      "/home/local/ASURITE/speddira/miniconda3/envs/cobra/lib/python3.10/site-packages/pytorch_tabnet/abstract_model.py:82: UserWarning: Device used : cuda\n",
      "  warnings.warn(f\"Device used : {self.device}\")\n"
     ]
    }
   ],
   "source": [
    "from pytorch_tabnet.tab_model import TabNetClassifier\n",
    "model_path = \"/home/local/ASURITE/speddira/dev/traffic_sense_net/city_scale/wild_models/saved_models/tab_net_3_jun_severity.zip\"\n",
    "loaded_clf = TabNetClassifier()\n",
    "loaded_clf.load_model(model_path)"
   ]
  },
  {
   "cell_type": "code",
   "execution_count": 7,
   "metadata": {},
   "outputs": [
    {
     "name": "stdout",
     "output_type": "stream",
     "text": [
      "Accuracy: 70.46%\n",
      "FAR 29.543627062468474\n",
      "precision: 78.81%\n",
      "f1: 80.97%\n",
      "recall: 83.25%\n"
     ]
    }
   ],
   "source": [
    "y_pred = loaded_clf.predict(X)\n",
    "y_test = list(Y)\n",
    "\n",
    "\n",
    "accuracy = accuracy_score(y_test, y_pred)*100\n",
    "precision = precision_score(y_test, y_pred)\n",
    "f1 = f1_score(y_test, y_pred)\n",
    "recall = recall_score(y_test, y_pred)\n",
    "print(\"Accuracy: %.2f%%\" % (accuracy))\n",
    "print(f\"FAR {100-accuracy}\")\n",
    "print(\"precision: %.2f%%\" % (precision * 100.0))\n",
    "print(\"f1: %.2f%%\" % (f1 * 100.0))\n",
    "print(\"recall: %.2f%%\" % (recall * 100.0))"
   ]
  }
 ],
 "metadata": {
  "kernelspec": {
   "display_name": "Python 3 (ipykernel)",
   "language": "python",
   "name": "python3"
  },
  "language_info": {
   "codemirror_mode": {
    "name": "ipython",
    "version": 3
   },
   "file_extension": ".py",
   "mimetype": "text/x-python",
   "name": "python",
   "nbconvert_exporter": "python",
   "pygments_lexer": "ipython3",
   "version": "3.10.13"
  }
 },
 "nbformat": 4,
 "nbformat_minor": 2
}
