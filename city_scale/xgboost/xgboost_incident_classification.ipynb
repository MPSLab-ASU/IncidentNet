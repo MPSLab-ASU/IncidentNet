{
 "cells": [
  {
   "cell_type": "code",
   "execution_count": 3,
   "metadata": {},
   "outputs": [],
   "source": [
    "import pandas as pd\n",
    "from sklearn.model_selection import train_test_split\n",
    "from sklearn.metrics import accuracy_score\n",
    "from sklearn.metrics import precision_score\n",
    "from sklearn.metrics import recall_score\n",
    "from sklearn.metrics import f1_score\n",
    "from sklearn.utils.class_weight import compute_sample_weight\n",
    "from xgboost import XGBClassifier\n",
    "from sklearn.metrics import accuracy_score\n",
    "import os\n",
    "import pickle\n",
    "import numpy as np\n",
    "pd.set_option('display.max_rows', None)\n",
    "pd.set_option('display.max_columns', None)\n",
    "np.set_printoptions (threshold=None, edgeitems=None, linewidth=None, suppress=None)\n"
   ]
  },
  {
   "cell_type": "code",
   "execution_count": 4,
   "metadata": {},
   "outputs": [],
   "source": [
    "def standardize(col):\n",
    "   return (col - col.mean()) / col.std()"
   ]
  },
  {
   "cell_type": "code",
   "execution_count": 7,
   "metadata": {},
   "outputs": [],
   "source": [
    "def model_fit(file_path,experiment,df):\n",
    "    \n",
    "    road_name_edge_id = {\n",
    "    1:{\"934465920\",\"5614812#0\",\"889439250\",\"436794672#0\",\"1078715158\"},\n",
    "    2:{\"532215357#0\",\"436794668#0\",\"436794668#7\",\"436794677#0\",\"436794673#0\"},\n",
    "    3:{\"436791116\",\"436791119#0\",\"436791122#0\",\"436791121#0\",\"436791111\"},\n",
    "    4:{\"1070423862#0\",\"5602753#1\",\"5602753#2\",\"436790493#0\",\"533573789#0\",\"533573789#2\",\"436790492#0\",\"436790484\",\"512811687#0\"},\n",
    "    5:{\"436942365#0\",\"436942382#0\",\"436942369#0\",\"436942367\",\"436942384#0\",\"436942364\",\"436942372\",\"395215600\",\"966303717\",\"436942386#0\"},\n",
    "    6:{\"532227836\",\"532227834#0\",\"436789544#0\",\"436789576#0\",\"436789539#0\",\"436789539#2\",\"436789539#7\",\"436789570#0\"},\n",
    "    7:{\"-436942361#7\",\"-436942361#3\",\"-436942361#1\",\"-436942358#5\",\"-436942358#3\",\"-436942358#0\",\"345713658#0\"},\n",
    "    8:{\"-436789319\",\"395490730\",\"1051025192\"},\n",
    "    9:{\"436940273#0\",\"692089619#0\",\"692089616#0\",\"692089616#2\",\"436940272#0\",\"436940271#0\",\"5635238\",\"692089613#0\",\"692089613#2\",\"692089613#6\",\"692089611#0\"},\n",
    "    10:{\"512810351#0\",\"436943782\",\"436943780\",\"436943781\"},\n",
    "    11:{\"436943721\",\"436943716\",\"436943727#0\",\"406379830#0\",\"436943736\",\"436943731#0\",\"436943728\",\"436943723\",\"436943726\",\"436943720\",\"436943747#0\",\"436943754#0\",\"436943740\",\"436943735\",\"436943729\",\"436943741#0\",\"436943752#0\"},\n",
    "    12:{\"-436943756#2\",\"-911576955#2\",\"909831620\",\"911576960\",\"-327757100#6\"}\n",
    "\n",
    "    }\n",
    "    \n",
    "\n",
    "    \n",
    "    df = df[df[\"accident_label\"] == True]\n",
    "    df['label'] = None\n",
    "    \n",
    "    incident_category = [\"stalled_vehicle\",\"multi_vehicle_collision\"]\n",
    "    for category in incident_category:\n",
    "    # Find rows where incident_edge is in the current set of edges\n",
    "        mask = df['incident_type'] == category\n",
    "    # Set the appropriate label column to 1 for these rows\n",
    "        if category ==  \"stalled_vehicle\":\n",
    "            df.loc[mask, 'label'] = 0\n",
    "        else:\n",
    "            df.loc[mask, 'label'] = 1\n",
    "    \n",
    "    Y = df[\"label\"]\n",
    "    \n",
    "    X = df.drop([\"incident_edge\",\"incident_start_time\",\"incident_type\",\"accident_id\",\"accident_duration\",\"incident_lane\",\"accident_label\",\"label\"],axis=1)\n",
    "    X = X.apply(standardize)\n",
    "    \n",
    "    X = X.drop([\"Unnamed: 0\",\"step\"],axis=1)\n",
    "    X= X.values\n",
    "    Y= Y.values\n",
    "    \n",
    "    print(\"Splitting into test train\")\n",
    "    X_train, X_test, y_train, y_test = train_test_split(X, Y, test_size=0.2)\n",
    "    \n",
    "    model = XGBClassifier()\n",
    "    print(\"Model training\")\n",
    "    model.fit(X_train, y_train)\n",
    "    print(\"Model predicting\")\n",
    "    y_pred = model.predict(X_test)\n",
    "    y_pred = list(y_pred)\n",
    "    y_test = list(y_test)\n",
    "\n",
    "    accuracy = accuracy_score(y_test, y_pred)\n",
    "    precision = precision_score(y_test, y_pred)\n",
    "    f1 = f1_score(y_test, y_pred)\n",
    "    recall = recall_score(y_test, y_pred)\n",
    "    print(\"Accuracy: %.2f%%\" % (accuracy * 100.0))\n",
    "    print(\"precision: %.2f%%\" % (precision * 100.0))\n",
    "    print(\"f1: %.2f%%\" % (f1 * 100.0))\n",
    "    print(\"recall: %.2f%%\" % (recall * 100.0))\n",
    "    \n",
    "    print(\"*****************************************************************\")\n",
    "    model_path = f\"/home/local/ASURITE/speddira/dev/traffic_sense_net/city_scale/xgboost/saved_models/V{experiment}\"\n",
    "    \n",
    "    os.makedirs(model_path,exist_ok=True)\n",
    "    pickle.dump(model, open(f\"{model_path}/incident_classification_xg_model.pkl\", \"wb\"))\n",
    "    \n",
    "    with open(f\"{model_path}/logger_classification.txt\",'w') as f:\n",
    "        \n",
    "        f.write(f\"Processed dataset {file_path}\\n\")\n",
    "        f.write(\"Accuracy: %.2f%% \\n\" % (accuracy * 100.0))\n",
    "        f.write(\"precision: %.2f%% \\n\" % (precision * 100.0))\n",
    "        f.write(\"f1: %.2f%% \\n\" % (f1 * 100.0))\n",
    "        f.write(\"recall: %.2f%% \\n\" % (recall * 100.0))\n"
   ]
  },
  {
   "cell_type": "code",
   "execution_count": 8,
   "metadata": {},
   "outputs": [
    {
     "name": "stdout",
     "output_type": "stream",
     "text": [
      "/home/local/ASURITE/speddira/dev/traffic_sense_net/city_scale/processed_datasets/2024-2-16_1915hours_3jun_300_win_300twin.csv\n",
      "Reading csv\n"
     ]
    },
    {
     "name": "stderr",
     "output_type": "stream",
     "text": [
      "/tmp/ipykernel_521369/3083892485.py:22: SettingWithCopyWarning: \n",
      "A value is trying to be set on a copy of a slice from a DataFrame.\n",
      "Try using .loc[row_indexer,col_indexer] = value instead\n",
      "\n",
      "See the caveats in the documentation: https://pandas.pydata.org/pandas-docs/stable/user_guide/indexing.html#returning-a-view-versus-a-copy\n",
      "  df['label'] = None\n"
     ]
    },
    {
     "name": "stdout",
     "output_type": "stream",
     "text": [
      "Splitting into test train\n",
      "Model training\n",
      "Model predicting\n",
      "Accuracy: 96.17%\n",
      "precision: 96.23%\n",
      "f1: 97.42%\n",
      "recall: 98.64%\n",
      "*****************************************************************\n",
      "/home/local/ASURITE/speddira/dev/traffic_sense_net/city_scale/processed_datasets/2024-2-16_1915hours_3jun_600_win_300twin.csv\n",
      "Reading csv\n"
     ]
    },
    {
     "name": "stderr",
     "output_type": "stream",
     "text": [
      "/tmp/ipykernel_521369/3083892485.py:22: SettingWithCopyWarning: \n",
      "A value is trying to be set on a copy of a slice from a DataFrame.\n",
      "Try using .loc[row_indexer,col_indexer] = value instead\n",
      "\n",
      "See the caveats in the documentation: https://pandas.pydata.org/pandas-docs/stable/user_guide/indexing.html#returning-a-view-versus-a-copy\n",
      "  df['label'] = None\n"
     ]
    },
    {
     "name": "stdout",
     "output_type": "stream",
     "text": [
      "Splitting into test train\n",
      "Model training\n",
      "Model predicting\n",
      "Accuracy: 98.37%\n",
      "precision: 98.42%\n",
      "f1: 98.89%\n",
      "recall: 99.37%\n",
      "*****************************************************************\n",
      "/home/local/ASURITE/speddira/dev/traffic_sense_net/city_scale/processed_datasets/2024-2-16_1915hours_3jun_600_win_600twin.csv\n",
      "Reading csv\n"
     ]
    },
    {
     "name": "stderr",
     "output_type": "stream",
     "text": [
      "/tmp/ipykernel_521369/3083892485.py:22: SettingWithCopyWarning: \n",
      "A value is trying to be set on a copy of a slice from a DataFrame.\n",
      "Try using .loc[row_indexer,col_indexer] = value instead\n",
      "\n",
      "See the caveats in the documentation: https://pandas.pydata.org/pandas-docs/stable/user_guide/indexing.html#returning-a-view-versus-a-copy\n",
      "  df['label'] = None\n"
     ]
    },
    {
     "name": "stdout",
     "output_type": "stream",
     "text": [
      "Splitting into test train\n",
      "Model training\n",
      "Model predicting\n",
      "Accuracy: 99.17%\n",
      "precision: 99.18%\n",
      "f1: 99.44%\n",
      "recall: 99.69%\n",
      "*****************************************************************\n",
      "/home/local/ASURITE/speddira/dev/traffic_sense_net/city_scale/processed_datasets/2024-2-16_1915hours_3jun_900_win_300twin.csv\n",
      "Reading csv\n"
     ]
    },
    {
     "name": "stderr",
     "output_type": "stream",
     "text": [
      "/tmp/ipykernel_521369/3083892485.py:22: SettingWithCopyWarning: \n",
      "A value is trying to be set on a copy of a slice from a DataFrame.\n",
      "Try using .loc[row_indexer,col_indexer] = value instead\n",
      "\n",
      "See the caveats in the documentation: https://pandas.pydata.org/pandas-docs/stable/user_guide/indexing.html#returning-a-view-versus-a-copy\n",
      "  df['label'] = None\n"
     ]
    },
    {
     "name": "stdout",
     "output_type": "stream",
     "text": [
      "Splitting into test train\n",
      "Model training\n",
      "Model predicting\n",
      "Accuracy: 99.18%\n",
      "precision: 99.16%\n",
      "f1: 99.44%\n",
      "recall: 99.72%\n",
      "*****************************************************************\n",
      "/home/local/ASURITE/speddira/dev/traffic_sense_net/city_scale/processed_datasets/2024-2-16_1915hours_4jun_300_win_300twin.csv\n",
      "Reading csv\n"
     ]
    },
    {
     "name": "stderr",
     "output_type": "stream",
     "text": [
      "/tmp/ipykernel_521369/3083892485.py:22: SettingWithCopyWarning: \n",
      "A value is trying to be set on a copy of a slice from a DataFrame.\n",
      "Try using .loc[row_indexer,col_indexer] = value instead\n",
      "\n",
      "See the caveats in the documentation: https://pandas.pydata.org/pandas-docs/stable/user_guide/indexing.html#returning-a-view-versus-a-copy\n",
      "  df['label'] = None\n"
     ]
    },
    {
     "name": "stdout",
     "output_type": "stream",
     "text": [
      "Splitting into test train\n",
      "Model training\n",
      "Model predicting\n",
      "Accuracy: 97.86%\n",
      "precision: 98.27%\n",
      "f1: 98.55%\n",
      "recall: 98.83%\n",
      "*****************************************************************\n",
      "/home/local/ASURITE/speddira/dev/traffic_sense_net/city_scale/processed_datasets/2024-2-16_1915hours_4jun_600_win_300twin.csv\n",
      "Reading csv\n"
     ]
    },
    {
     "name": "stderr",
     "output_type": "stream",
     "text": [
      "/tmp/ipykernel_521369/3083892485.py:22: SettingWithCopyWarning: \n",
      "A value is trying to be set on a copy of a slice from a DataFrame.\n",
      "Try using .loc[row_indexer,col_indexer] = value instead\n",
      "\n",
      "See the caveats in the documentation: https://pandas.pydata.org/pandas-docs/stable/user_guide/indexing.html#returning-a-view-versus-a-copy\n",
      "  df['label'] = None\n"
     ]
    },
    {
     "name": "stdout",
     "output_type": "stream",
     "text": [
      "Splitting into test train\n",
      "Model training\n",
      "Model predicting\n",
      "Accuracy: 99.42%\n",
      "precision: 99.50%\n",
      "f1: 99.60%\n",
      "recall: 99.71%\n",
      "*****************************************************************\n",
      "/home/local/ASURITE/speddira/dev/traffic_sense_net/city_scale/processed_datasets/2024-2-16_1915hours_4jun_600_win_600twin.csv\n",
      "Reading csv\n"
     ]
    },
    {
     "name": "stderr",
     "output_type": "stream",
     "text": [
      "/tmp/ipykernel_521369/3083892485.py:22: SettingWithCopyWarning: \n",
      "A value is trying to be set on a copy of a slice from a DataFrame.\n",
      "Try using .loc[row_indexer,col_indexer] = value instead\n",
      "\n",
      "See the caveats in the documentation: https://pandas.pydata.org/pandas-docs/stable/user_guide/indexing.html#returning-a-view-versus-a-copy\n",
      "  df['label'] = None\n"
     ]
    },
    {
     "name": "stdout",
     "output_type": "stream",
     "text": [
      "Splitting into test train\n",
      "Model training\n",
      "Model predicting\n",
      "Accuracy: 99.64%\n",
      "precision: 99.73%\n",
      "f1: 99.75%\n",
      "recall: 99.78%\n",
      "*****************************************************************\n",
      "/home/local/ASURITE/speddira/dev/traffic_sense_net/city_scale/processed_datasets/2024-2-16_1915hours_4jun_900_win_300twin.csv\n",
      "Reading csv\n"
     ]
    },
    {
     "name": "stderr",
     "output_type": "stream",
     "text": [
      "/tmp/ipykernel_521369/3083892485.py:22: SettingWithCopyWarning: \n",
      "A value is trying to be set on a copy of a slice from a DataFrame.\n",
      "Try using .loc[row_indexer,col_indexer] = value instead\n",
      "\n",
      "See the caveats in the documentation: https://pandas.pydata.org/pandas-docs/stable/user_guide/indexing.html#returning-a-view-versus-a-copy\n",
      "  df['label'] = None\n"
     ]
    },
    {
     "name": "stdout",
     "output_type": "stream",
     "text": [
      "Splitting into test train\n",
      "Model training\n",
      "Model predicting\n",
      "Accuracy: 99.81%\n",
      "precision: 99.86%\n",
      "f1: 99.87%\n",
      "recall: 99.88%\n",
      "*****************************************************************\n",
      "/home/local/ASURITE/speddira/dev/traffic_sense_net/city_scale/processed_datasets/2024-2-16_1915hours_5jun_300_win_300twin.csv\n",
      "Reading csv\n"
     ]
    },
    {
     "name": "stderr",
     "output_type": "stream",
     "text": [
      "/tmp/ipykernel_521369/3083892485.py:22: SettingWithCopyWarning: \n",
      "A value is trying to be set on a copy of a slice from a DataFrame.\n",
      "Try using .loc[row_indexer,col_indexer] = value instead\n",
      "\n",
      "See the caveats in the documentation: https://pandas.pydata.org/pandas-docs/stable/user_guide/indexing.html#returning-a-view-versus-a-copy\n",
      "  df['label'] = None\n"
     ]
    },
    {
     "name": "stdout",
     "output_type": "stream",
     "text": [
      "Splitting into test train\n",
      "Model training\n",
      "Model predicting\n",
      "Accuracy: 99.16%\n",
      "precision: 99.59%\n",
      "f1: 99.43%\n",
      "recall: 99.27%\n",
      "*****************************************************************\n",
      "/home/local/ASURITE/speddira/dev/traffic_sense_net/city_scale/processed_datasets/2024-2-16_1915hours_5jun_600_win_300twin.csv\n",
      "Reading csv\n"
     ]
    },
    {
     "name": "stderr",
     "output_type": "stream",
     "text": [
      "/tmp/ipykernel_521369/3083892485.py:22: SettingWithCopyWarning: \n",
      "A value is trying to be set on a copy of a slice from a DataFrame.\n",
      "Try using .loc[row_indexer,col_indexer] = value instead\n",
      "\n",
      "See the caveats in the documentation: https://pandas.pydata.org/pandas-docs/stable/user_guide/indexing.html#returning-a-view-versus-a-copy\n",
      "  df['label'] = None\n"
     ]
    },
    {
     "name": "stdout",
     "output_type": "stream",
     "text": [
      "Splitting into test train\n",
      "Model training\n",
      "Model predicting\n",
      "Accuracy: 99.69%\n",
      "precision: 99.82%\n",
      "f1: 99.79%\n",
      "recall: 99.76%\n",
      "*****************************************************************\n",
      "/home/local/ASURITE/speddira/dev/traffic_sense_net/city_scale/processed_datasets/2024-2-16_1915hours_5jun_600_win_600twin.csv\n",
      "Reading csv\n"
     ]
    },
    {
     "name": "stderr",
     "output_type": "stream",
     "text": [
      "/tmp/ipykernel_521369/3083892485.py:22: SettingWithCopyWarning: \n",
      "A value is trying to be set on a copy of a slice from a DataFrame.\n",
      "Try using .loc[row_indexer,col_indexer] = value instead\n",
      "\n",
      "See the caveats in the documentation: https://pandas.pydata.org/pandas-docs/stable/user_guide/indexing.html#returning-a-view-versus-a-copy\n",
      "  df['label'] = None\n"
     ]
    },
    {
     "name": "stdout",
     "output_type": "stream",
     "text": [
      "Splitting into test train\n",
      "Model training\n",
      "Model predicting\n",
      "Accuracy: 99.92%\n",
      "precision: 99.96%\n",
      "f1: 99.95%\n",
      "recall: 99.93%\n",
      "*****************************************************************\n",
      "/home/local/ASURITE/speddira/dev/traffic_sense_net/city_scale/processed_datasets/2024-2-16_1915hours_5jun_900_win_300twin.csv\n",
      "Reading csv\n"
     ]
    },
    {
     "name": "stderr",
     "output_type": "stream",
     "text": [
      "/tmp/ipykernel_521369/3083892485.py:22: SettingWithCopyWarning: \n",
      "A value is trying to be set on a copy of a slice from a DataFrame.\n",
      "Try using .loc[row_indexer,col_indexer] = value instead\n",
      "\n",
      "See the caveats in the documentation: https://pandas.pydata.org/pandas-docs/stable/user_guide/indexing.html#returning-a-view-versus-a-copy\n",
      "  df['label'] = None\n"
     ]
    },
    {
     "name": "stdout",
     "output_type": "stream",
     "text": [
      "Splitting into test train\n",
      "Model training\n",
      "Model predicting\n",
      "Accuracy: 99.88%\n",
      "precision: 99.94%\n",
      "f1: 99.92%\n",
      "recall: 99.89%\n",
      "*****************************************************************\n",
      "/home/local/ASURITE/speddira/dev/traffic_sense_net/city_scale/processed_datasets/2024-2-16_1915hours_6jun_300_win_300twin.csv\n",
      "Reading csv\n"
     ]
    },
    {
     "name": "stderr",
     "output_type": "stream",
     "text": [
      "/tmp/ipykernel_521369/4213585206.py:15: DtypeWarning: Columns (95,96) have mixed types. Specify dtype option on import or set low_memory=False.\n",
      "  df = pd.read_csv(path,dtype=data_types)\n",
      "/tmp/ipykernel_521369/3083892485.py:22: SettingWithCopyWarning: \n",
      "A value is trying to be set on a copy of a slice from a DataFrame.\n",
      "Try using .loc[row_indexer,col_indexer] = value instead\n",
      "\n",
      "See the caveats in the documentation: https://pandas.pydata.org/pandas-docs/stable/user_guide/indexing.html#returning-a-view-versus-a-copy\n",
      "  df['label'] = None\n"
     ]
    },
    {
     "name": "stdout",
     "output_type": "stream",
     "text": [
      "Splitting into test train\n",
      "Model training\n",
      "Model predicting\n",
      "Accuracy: 99.21%\n",
      "precision: 99.58%\n",
      "f1: 99.46%\n",
      "recall: 99.35%\n",
      "*****************************************************************\n",
      "/home/local/ASURITE/speddira/dev/traffic_sense_net/city_scale/processed_datasets/2024-2-16_1915hours_6jun_600_win_300twin.csv\n",
      "Reading csv\n"
     ]
    },
    {
     "name": "stderr",
     "output_type": "stream",
     "text": [
      "/tmp/ipykernel_521369/4213585206.py:15: DtypeWarning: Columns (95,96) have mixed types. Specify dtype option on import or set low_memory=False.\n",
      "  df = pd.read_csv(path,dtype=data_types)\n",
      "/tmp/ipykernel_521369/3083892485.py:22: SettingWithCopyWarning: \n",
      "A value is trying to be set on a copy of a slice from a DataFrame.\n",
      "Try using .loc[row_indexer,col_indexer] = value instead\n",
      "\n",
      "See the caveats in the documentation: https://pandas.pydata.org/pandas-docs/stable/user_guide/indexing.html#returning-a-view-versus-a-copy\n",
      "  df['label'] = None\n"
     ]
    },
    {
     "name": "stdout",
     "output_type": "stream",
     "text": [
      "Splitting into test train\n",
      "Model training\n",
      "Model predicting\n",
      "Accuracy: 99.69%\n",
      "precision: 99.84%\n",
      "f1: 99.79%\n",
      "recall: 99.74%\n",
      "*****************************************************************\n",
      "/home/local/ASURITE/speddira/dev/traffic_sense_net/city_scale/processed_datasets/2024-2-16_1915hours_6jun_600_win_600twin.csv\n",
      "Reading csv\n"
     ]
    },
    {
     "name": "stderr",
     "output_type": "stream",
     "text": [
      "/tmp/ipykernel_521369/4213585206.py:15: DtypeWarning: Columns (95,96) have mixed types. Specify dtype option on import or set low_memory=False.\n",
      "  df = pd.read_csv(path,dtype=data_types)\n",
      "/tmp/ipykernel_521369/3083892485.py:22: SettingWithCopyWarning: \n",
      "A value is trying to be set on a copy of a slice from a DataFrame.\n",
      "Try using .loc[row_indexer,col_indexer] = value instead\n",
      "\n",
      "See the caveats in the documentation: https://pandas.pydata.org/pandas-docs/stable/user_guide/indexing.html#returning-a-view-versus-a-copy\n",
      "  df['label'] = None\n"
     ]
    },
    {
     "name": "stdout",
     "output_type": "stream",
     "text": [
      "Splitting into test train\n",
      "Model training\n",
      "Model predicting\n",
      "Accuracy: 99.93%\n",
      "precision: 99.98%\n",
      "f1: 99.96%\n",
      "recall: 99.93%\n",
      "*****************************************************************\n",
      "/home/local/ASURITE/speddira/dev/traffic_sense_net/city_scale/processed_datasets/2024-2-16_1915hours_6jun_900_win_300twin.csv\n",
      "Reading csv\n"
     ]
    },
    {
     "name": "stderr",
     "output_type": "stream",
     "text": [
      "/tmp/ipykernel_521369/4213585206.py:15: DtypeWarning: Columns (95,96) have mixed types. Specify dtype option on import or set low_memory=False.\n",
      "  df = pd.read_csv(path,dtype=data_types)\n",
      "/tmp/ipykernel_521369/3083892485.py:22: SettingWithCopyWarning: \n",
      "A value is trying to be set on a copy of a slice from a DataFrame.\n",
      "Try using .loc[row_indexer,col_indexer] = value instead\n",
      "\n",
      "See the caveats in the documentation: https://pandas.pydata.org/pandas-docs/stable/user_guide/indexing.html#returning-a-view-versus-a-copy\n",
      "  df['label'] = None\n"
     ]
    },
    {
     "name": "stdout",
     "output_type": "stream",
     "text": [
      "Splitting into test train\n",
      "Model training\n",
      "Model predicting\n",
      "Accuracy: 99.88%\n",
      "precision: 99.94%\n",
      "f1: 99.92%\n",
      "recall: 99.89%\n",
      "*****************************************************************\n",
      "/home/local/ASURITE/speddira/dev/traffic_sense_net/city_scale/processed_datasets/2024-2-16_1915hours_7jun_300_win_300twin.csv\n",
      "Reading csv\n"
     ]
    },
    {
     "name": "stderr",
     "output_type": "stream",
     "text": [
      "/tmp/ipykernel_521369/4213585206.py:15: DtypeWarning: Columns (113,114) have mixed types. Specify dtype option on import or set low_memory=False.\n",
      "  df = pd.read_csv(path,dtype=data_types)\n",
      "/tmp/ipykernel_521369/3083892485.py:22: SettingWithCopyWarning: \n",
      "A value is trying to be set on a copy of a slice from a DataFrame.\n",
      "Try using .loc[row_indexer,col_indexer] = value instead\n",
      "\n",
      "See the caveats in the documentation: https://pandas.pydata.org/pandas-docs/stable/user_guide/indexing.html#returning-a-view-versus-a-copy\n",
      "  df['label'] = None\n"
     ]
    },
    {
     "name": "stdout",
     "output_type": "stream",
     "text": [
      "Splitting into test train\n",
      "Model training\n",
      "Model predicting\n",
      "Accuracy: 99.32%\n",
      "precision: 99.62%\n",
      "f1: 99.54%\n",
      "recall: 99.46%\n",
      "*****************************************************************\n",
      "/home/local/ASURITE/speddira/dev/traffic_sense_net/city_scale/processed_datasets/2024-2-16_1915hours_7jun_600_win_300twin.csv\n",
      "Reading csv\n"
     ]
    },
    {
     "name": "stderr",
     "output_type": "stream",
     "text": [
      "/tmp/ipykernel_521369/4213585206.py:15: DtypeWarning: Columns (113,114) have mixed types. Specify dtype option on import or set low_memory=False.\n",
      "  df = pd.read_csv(path,dtype=data_types)\n",
      "/tmp/ipykernel_521369/3083892485.py:22: SettingWithCopyWarning: \n",
      "A value is trying to be set on a copy of a slice from a DataFrame.\n",
      "Try using .loc[row_indexer,col_indexer] = value instead\n",
      "\n",
      "See the caveats in the documentation: https://pandas.pydata.org/pandas-docs/stable/user_guide/indexing.html#returning-a-view-versus-a-copy\n",
      "  df['label'] = None\n"
     ]
    },
    {
     "name": "stdout",
     "output_type": "stream",
     "text": [
      "Splitting into test train\n",
      "Model training\n",
      "Model predicting\n",
      "Accuracy: 99.78%\n",
      "precision: 99.91%\n",
      "f1: 99.85%\n",
      "recall: 99.80%\n",
      "*****************************************************************\n",
      "/home/local/ASURITE/speddira/dev/traffic_sense_net/city_scale/processed_datasets/2024-2-16_1915hours_7jun_600_win_600twin.csv\n",
      "Reading csv\n"
     ]
    },
    {
     "name": "stderr",
     "output_type": "stream",
     "text": [
      "/tmp/ipykernel_521369/4213585206.py:15: DtypeWarning: Columns (113,114) have mixed types. Specify dtype option on import or set low_memory=False.\n",
      "  df = pd.read_csv(path,dtype=data_types)\n",
      "/tmp/ipykernel_521369/3083892485.py:22: SettingWithCopyWarning: \n",
      "A value is trying to be set on a copy of a slice from a DataFrame.\n",
      "Try using .loc[row_indexer,col_indexer] = value instead\n",
      "\n",
      "See the caveats in the documentation: https://pandas.pydata.org/pandas-docs/stable/user_guide/indexing.html#returning-a-view-versus-a-copy\n",
      "  df['label'] = None\n"
     ]
    },
    {
     "name": "stdout",
     "output_type": "stream",
     "text": [
      "Splitting into test train\n",
      "Model training\n",
      "Model predicting\n",
      "Accuracy: 99.92%\n",
      "precision: 99.98%\n",
      "f1: 99.94%\n",
      "recall: 99.91%\n",
      "*****************************************************************\n",
      "/home/local/ASURITE/speddira/dev/traffic_sense_net/city_scale/processed_datasets/2024-2-16_1915hours_7jun_900_win_300twin.csv\n",
      "Reading csv\n"
     ]
    },
    {
     "name": "stderr",
     "output_type": "stream",
     "text": [
      "/tmp/ipykernel_521369/4213585206.py:15: DtypeWarning: Columns (113,114) have mixed types. Specify dtype option on import or set low_memory=False.\n",
      "  df = pd.read_csv(path,dtype=data_types)\n",
      "/tmp/ipykernel_521369/3083892485.py:22: SettingWithCopyWarning: \n",
      "A value is trying to be set on a copy of a slice from a DataFrame.\n",
      "Try using .loc[row_indexer,col_indexer] = value instead\n",
      "\n",
      "See the caveats in the documentation: https://pandas.pydata.org/pandas-docs/stable/user_guide/indexing.html#returning-a-view-versus-a-copy\n",
      "  df['label'] = None\n"
     ]
    },
    {
     "name": "stdout",
     "output_type": "stream",
     "text": [
      "Splitting into test train\n",
      "Model training\n",
      "Model predicting\n",
      "Accuracy: 99.90%\n",
      "precision: 99.97%\n",
      "f1: 99.93%\n",
      "recall: 99.90%\n",
      "*****************************************************************\n",
      "/home/local/ASURITE/speddira/dev/traffic_sense_net/city_scale/processed_datasets/2024-2-16_1915hours_8jun_300_win_300twin.csv\n",
      "Reading csv\n"
     ]
    },
    {
     "name": "stderr",
     "output_type": "stream",
     "text": [
      "/tmp/ipykernel_521369/4213585206.py:15: DtypeWarning: Columns (131,132) have mixed types. Specify dtype option on import or set low_memory=False.\n",
      "  df = pd.read_csv(path,dtype=data_types)\n",
      "/tmp/ipykernel_521369/3083892485.py:22: SettingWithCopyWarning: \n",
      "A value is trying to be set on a copy of a slice from a DataFrame.\n",
      "Try using .loc[row_indexer,col_indexer] = value instead\n",
      "\n",
      "See the caveats in the documentation: https://pandas.pydata.org/pandas-docs/stable/user_guide/indexing.html#returning-a-view-versus-a-copy\n",
      "  df['label'] = None\n"
     ]
    },
    {
     "name": "stdout",
     "output_type": "stream",
     "text": [
      "Splitting into test train\n",
      "Model training\n",
      "Model predicting\n",
      "Accuracy: 99.43%\n",
      "precision: 99.86%\n",
      "f1: 99.62%\n",
      "recall: 99.37%\n",
      "*****************************************************************\n",
      "/home/local/ASURITE/speddira/dev/traffic_sense_net/city_scale/processed_datasets/2024-2-16_1915hours_8jun_600_win_300twin.csv\n",
      "Reading csv\n"
     ]
    },
    {
     "name": "stderr",
     "output_type": "stream",
     "text": [
      "/tmp/ipykernel_521369/4213585206.py:15: DtypeWarning: Columns (131,132) have mixed types. Specify dtype option on import or set low_memory=False.\n",
      "  df = pd.read_csv(path,dtype=data_types)\n",
      "/tmp/ipykernel_521369/3083892485.py:22: SettingWithCopyWarning: \n",
      "A value is trying to be set on a copy of a slice from a DataFrame.\n",
      "Try using .loc[row_indexer,col_indexer] = value instead\n",
      "\n",
      "See the caveats in the documentation: https://pandas.pydata.org/pandas-docs/stable/user_guide/indexing.html#returning-a-view-versus-a-copy\n",
      "  df['label'] = None\n"
     ]
    },
    {
     "name": "stdout",
     "output_type": "stream",
     "text": [
      "Splitting into test train\n",
      "Model training\n",
      "Model predicting\n",
      "Accuracy: 99.76%\n",
      "precision: 99.97%\n",
      "f1: 99.84%\n",
      "recall: 99.71%\n",
      "*****************************************************************\n",
      "/home/local/ASURITE/speddira/dev/traffic_sense_net/city_scale/processed_datasets/2024-2-16_1915hours_8jun_600_win_600twin.csv\n",
      "Reading csv\n"
     ]
    },
    {
     "name": "stderr",
     "output_type": "stream",
     "text": [
      "/tmp/ipykernel_521369/4213585206.py:15: DtypeWarning: Columns (131,132) have mixed types. Specify dtype option on import or set low_memory=False.\n",
      "  df = pd.read_csv(path,dtype=data_types)\n",
      "/tmp/ipykernel_521369/3083892485.py:22: SettingWithCopyWarning: \n",
      "A value is trying to be set on a copy of a slice from a DataFrame.\n",
      "Try using .loc[row_indexer,col_indexer] = value instead\n",
      "\n",
      "See the caveats in the documentation: https://pandas.pydata.org/pandas-docs/stable/user_guide/indexing.html#returning-a-view-versus-a-copy\n",
      "  df['label'] = None\n"
     ]
    },
    {
     "name": "stdout",
     "output_type": "stream",
     "text": [
      "Splitting into test train\n",
      "Model training\n",
      "Model predicting\n",
      "Accuracy: 99.93%\n",
      "precision: 99.99%\n",
      "f1: 99.95%\n",
      "recall: 99.91%\n",
      "*****************************************************************\n",
      "/home/local/ASURITE/speddira/dev/traffic_sense_net/city_scale/processed_datasets/2024-2-16_1915hours_8jun_900_win_300twin.csv\n",
      "Reading csv\n"
     ]
    },
    {
     "name": "stderr",
     "output_type": "stream",
     "text": [
      "/tmp/ipykernel_521369/4213585206.py:15: DtypeWarning: Columns (131,132) have mixed types. Specify dtype option on import or set low_memory=False.\n",
      "  df = pd.read_csv(path,dtype=data_types)\n",
      "/tmp/ipykernel_521369/3083892485.py:22: SettingWithCopyWarning: \n",
      "A value is trying to be set on a copy of a slice from a DataFrame.\n",
      "Try using .loc[row_indexer,col_indexer] = value instead\n",
      "\n",
      "See the caveats in the documentation: https://pandas.pydata.org/pandas-docs/stable/user_guide/indexing.html#returning-a-view-versus-a-copy\n",
      "  df['label'] = None\n"
     ]
    },
    {
     "name": "stdout",
     "output_type": "stream",
     "text": [
      "Splitting into test train\n",
      "Model training\n",
      "Model predicting\n",
      "Accuracy: 99.96%\n",
      "precision: 99.99%\n",
      "f1: 99.98%\n",
      "recall: 99.96%\n",
      "*****************************************************************\n",
      "Finished successfully\n"
     ]
    }
   ],
   "source": [
    "directory = \"/home/local/ASURITE/speddira/dev/traffic_sense_net/city_scale/processed_datasets\"\n",
    "files = [os.path.join(directory, f) for f in sorted(os.listdir(directory))]\n",
    "\n",
    "data_types = {\n",
    "    'incident_edge': 'object',  # Replace 'Column_Name1' with the actual column name\n",
    "    'incident_lane': 'object'  # Replace 'Column_Name2' with the actual column name\n",
    "}\n",
    "\n",
    "\n",
    "# files=[\"/home/local/ASURITE/speddira/dev/traffic_sense_net/city_scale/processed_datasets/2024-2-16_1915hours_7jun_300_win_300twin.csv\"]\n",
    "experiment = 2\n",
    "for path in files:\n",
    "    print(path)\n",
    "    print(\"Reading csv\")\n",
    "    df = pd.read_csv(path,dtype=data_types)\n",
    "    model_fit(path,experiment,df)\n",
    "    experiment+=1\n",
    "print(\"Finished successfully\")"
   ]
  },
  {
   "cell_type": "code",
   "execution_count": null,
   "metadata": {},
   "outputs": [],
   "source": []
  }
 ],
 "metadata": {
  "kernelspec": {
   "display_name": "Python 3 (ipykernel)",
   "language": "python",
   "name": "python3"
  },
  "language_info": {
   "codemirror_mode": {
    "name": "ipython",
    "version": 3
   },
   "file_extension": ".py",
   "mimetype": "text/x-python",
   "name": "python",
   "nbconvert_exporter": "python",
   "pygments_lexer": "ipython3",
   "version": "3.10.13"
  }
 },
 "nbformat": 4,
 "nbformat_minor": 2
}
