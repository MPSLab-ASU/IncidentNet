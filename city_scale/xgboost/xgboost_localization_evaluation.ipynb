{
 "cells": [
  {
   "cell_type": "code",
   "execution_count": 65,
   "metadata": {},
   "outputs": [],
   "source": [
    "import pandas as pd\n",
    "import pickle\n",
    "import pandas as pd\n",
    "import numpy as np\n",
    "import pandas as pd\n",
    "from sklearn.model_selection import train_test_split\n",
    "from sklearn.metrics import accuracy_score\n",
    "from sklearn.metrics import precision_score\n",
    "from sklearn.metrics import recall_score\n",
    "from sklearn.metrics import f1_score\n",
    "from sklearn.utils.class_weight import compute_sample_weight\n",
    "from xgboost import XGBClassifier\n",
    "from sklearn.metrics import accuracy_score\n",
    "import os\n",
    "import pickle\n",
    "import numpy as np\n",
    "from tqdm import tqdm"
   ]
  },
  {
   "cell_type": "code",
   "execution_count": 66,
   "metadata": {},
   "outputs": [],
   "source": [
    "pd.set_option('display.max_columns', None)\n",
    "pd.set_option('display.max_rows', None)"
   ]
  },
  {
   "cell_type": "code",
   "execution_count": 67,
   "metadata": {},
   "outputs": [],
   "source": [
    "def standardize(col):\n",
    "   return (col - col.mean()) / col.std()"
   ]
  },
  {
   "cell_type": "code",
   "execution_count": 68,
   "metadata": {},
   "outputs": [
    {
     "name": "stderr",
     "output_type": "stream",
     "text": [
      "/tmp/ipykernel_1678575/1010777656.py:3: DtypeWarning: Columns (51,53,54,56) have mixed types. Specify dtype option on import or set low_memory=False.\n",
      "  df = pd.read_csv(dataset_path)\n",
      "/tmp/ipykernel_1678575/1010777656.py:10: DtypeWarning: Columns (53,54) have mixed types. Specify dtype option on import or set low_memory=False.\n",
      "  df = pd.read_csv(dataset_path,dtype=data_types)\n"
     ]
    }
   ],
   "source": [
    "dataset_path = \"/home/local/ASURITE/speddira/dev/traffic_sense_net/city_scale/xgboost/evaluation_proccessed/proc_3_600_600.csv\"\n",
    "\n",
    "df = pd.read_csv(dataset_path)\n",
    "\n",
    "data_types = {\n",
    "    'incident_edge': 'object',  # Replace 'Column_Name1' with the actual column name\n",
    "    'incident_lane': 'object'  # Replace 'Column_Name2' with the actual column name\n",
    "}\n",
    "\n",
    "df = pd.read_csv(dataset_path,dtype=data_types)"
   ]
  },
  {
   "cell_type": "code",
   "execution_count": 69,
   "metadata": {},
   "outputs": [],
   "source": [
    "road_name_edge_id = {\n",
    "1:{\"934465920\",\"5614812#0\",\"889439250\",\"436794672#0\",\"1078715158\"},\n",
    "2:{\"532215357#0\",\"436794668#0\",\"436794668#7\",\"436794677#0\",\"436794673#0\"},\n",
    "3:{\"436791116\",\"436791119#0\",\"436791122#0\",\"436791121#0\",\"436791111\"},\n",
    "4:{\"1070423862#0\",\"5602753#1\",\"5602753#2\",\"436790493#0\",\"533573789#0\",\"533573789#2\",\"436790492#0\",\"436790484\",\"512811687#0\"},\n",
    "5:{\"436942365#0\",\"436942382#0\",\"436942369#0\",\"436942367\",\"436942384#0\",\"436942364\",\"436942372\",\"395215600\",\"966303717\",\"436942386#0\"},\n",
    "6:{\"532227836\",\"532227834#0\",\"436789544#0\",\"436789576#0\",\"436789539#0\",\"436789539#2\",\"436789539#7\",\"436789570#0\"},\n",
    "7:{\"-436942361#7\",\"-436942361#3\",\"-436942361#1\",\"-436942358#5\",\"-436942358#3\",\"-436942358#0\",\"345713658#0\"},\n",
    "8:{\"-436789319\",\"395490730\",\"1051025192\"},\n",
    "9:{\"436940273#0\",\"692089619#0\",\"692089616#0\",\"692089616#2\",\"436940272#0\",\"436940271#0\",\"5635238\",\"692089613#0\",\"692089613#2\",\"692089613#6\",\"692089611#0\"},\n",
    "10:{\"512810351#0\",\"436943782\",\"436943780\",\"436943781\"},\n",
    "11:{\"436943721\",\"436943716\",\"436943727#0\",\"406379830#0\",\"436943736\",\"436943731#0\",\"436943728\",\"436943723\",\"436943726\",\"436943720\",\"436943747#0\",\"436943754#0\",\"436943740\",\"436943735\",\"436943729\",\"436943741#0\",\"436943752#0\"},\n",
    "12:{\"-436943756#2\",\"-911576955#2\",\"909831620\",\"911576960\",\"-327757100#6\"}\n",
    "\n",
    "}"
   ]
  },
  {
   "cell_type": "code",
   "execution_count": 70,
   "metadata": {},
   "outputs": [
    {
     "name": "stderr",
     "output_type": "stream",
     "text": [
      "/tmp/ipykernel_1678575/2978030208.py:10: FutureWarning: Downcasting object dtype arrays on .fillna, .ffill, .bfill is deprecated and will change in a future version. Call result.infer_objects(copy=False) instead. To opt-in to the future behavior, set `pd.set_option('future.no_silent_downcasting', True)`\n",
      "  df = df.fillna(-1)\n"
     ]
    }
   ],
   "source": [
    "df = df[df[\"accident_label\"] == True]\n",
    "df['label'] = None\n",
    "\n",
    "for category, edges in road_name_edge_id.items():\n",
    "# Find rows where incident_edge is in the current set of edges\n",
    "    mask = df['incident_edge'].isin(edges)\n",
    "# Set the appropriate label column to 1 for these rows\n",
    "    df.loc[mask, 'label'] = category-1  # Adjusted index by -1 for zero-based indexing\n",
    "\n",
    "df = df.fillna(-1)\n",
    "\n",
    "Y = df[\"label\"]\n",
    "\n",
    "X = df.drop([\"incident_edge\",\"incident_start_time\",\"incident_type\",\"accident_id\",\"accident_duration\",\"incident_lane\",\"accident_label\",\"label\"],axis=1)\n",
    "X = X.apply(standardize)\n",
    "\n",
    "X = X.drop([\"Unnamed: 0\",\"step\"],axis=1)\n",
    "X= X.values\n",
    "Y= Y.values"
   ]
  },
  {
   "cell_type": "code",
   "execution_count": 71,
   "metadata": {},
   "outputs": [],
   "source": [
    "# file_name = \"/home/local/ASURITE/speddira/dev/traffic_sense_net/city_scale/xgboost/saved_models/V4/xg_model.pkl\"\n",
    "model_path = \"/home/local/ASURITE/speddira/dev/traffic_sense_net/city_scale/xgboost/saved_models/V4/localization_xg_model.pkl\"\n",
    "xgb_model_loaded = pickle.load(open(model_path, \"rb\"))"
   ]
  },
  {
   "cell_type": "code",
   "execution_count": 72,
   "metadata": {},
   "outputs": [],
   "source": [
    "def calculate_top_k_accuracy(y_true, y_pred, k=1):\n",
    "    # Args:\n",
    "    # y_true: numpy array of shape (n_samples,), true class labels\n",
    "    # y_pred: numpy array of shape (n_samples, n_classes), predicted probabilities\n",
    "    # k: int, top k predictions to consider for accuracy calculation\n",
    "    \n",
    "    # Get the indices of the top k predictions for each instance\n",
    "    top_k_preds = np.argsort(y_pred, axis=1)[:, -k:]\n",
    "    \n",
    "    # Check if the true labels are in the top k predictions\n",
    "    match_array = np.any(top_k_preds == y_true[:, None], axis=1)\n",
    "    \n",
    "    # Calculate accuracy\n",
    "    top_k_accuracy = np.mean(match_array)\n",
    "    \n",
    "    return top_k_accuracy"
   ]
  },
  {
   "cell_type": "code",
   "execution_count": 73,
   "metadata": {},
   "outputs": [
    {
     "data": {
      "text/plain": [
       "(346975, 61)"
      ]
     },
     "execution_count": 73,
     "metadata": {},
     "output_type": "execute_result"
    }
   ],
   "source": [
    "X.shape"
   ]
  },
  {
   "cell_type": "code",
   "execution_count": 74,
   "metadata": {},
   "outputs": [
    {
     "name": "stdout",
     "output_type": "stream",
     "text": [
      "Top 3 acc: 0.5076042942575113\n",
      "Top 2 acc: 0.4019655594783486\n",
      "Accuracy: 25.41%\n",
      "FAR 74.59038835650983\n",
      "precision: 26.50%\n",
      "f1: 17.62%\n",
      "recall: 17.99%\n"
     ]
    }
   ],
   "source": [
    "\n",
    "y_pred_proba = xgb_model_loaded.predict_proba(X)\n",
    "y_pred_proba_list = list(y_pred_proba)\n",
    "y_pred = xgb_model_loaded.predict(X)\n",
    "y_test = list(Y)\n",
    "\n",
    "print(\"Top 3 acc:\",calculate_top_k_accuracy(Y, y_pred_proba, k=3))\n",
    "print(\"Top 2 acc:\",calculate_top_k_accuracy(Y, y_pred_proba, k=2))\n",
    "accuracy = accuracy_score(y_test, y_pred)*100\n",
    "precision = precision_score(y_test, y_pred,average = \"macro\")\n",
    "f1 = f1_score(y_test, y_pred,average = \"macro\")\n",
    "recall = recall_score(y_test, y_pred,average = \"macro\")\n",
    "print(\"Accuracy: %.2f%%\" % (accuracy))\n",
    "print(f\"FAR {100-accuracy}\")\n",
    "print(\"precision: %.2f%%\" % (precision * 100.0))\n",
    "print(\"f1: %.2f%%\" % (f1 * 100.0))\n",
    "print(\"recall: %.2f%%\" % (recall * 100.0))"
   ]
  }
 ],
 "metadata": {
  "kernelspec": {
   "display_name": "Python 3 (ipykernel)",
   "language": "python",
   "name": "python3"
  },
  "language_info": {
   "codemirror_mode": {
    "name": "ipython",
    "version": 3
   },
   "file_extension": ".py",
   "mimetype": "text/x-python",
   "name": "python",
   "nbconvert_exporter": "python",
   "pygments_lexer": "ipython3",
   "version": "3.10.13"
  }
 },
 "nbformat": 4,
 "nbformat_minor": 2
}
