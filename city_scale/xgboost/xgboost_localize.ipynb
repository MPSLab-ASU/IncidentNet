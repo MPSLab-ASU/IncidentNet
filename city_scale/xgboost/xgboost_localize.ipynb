{
 "cells": [
  {
   "cell_type": "code",
   "execution_count": 11,
   "metadata": {},
   "outputs": [],
   "source": [
    "import pandas as pd\n",
    "from sklearn.model_selection import train_test_split\n",
    "from sklearn.metrics import accuracy_score\n",
    "from sklearn.metrics import precision_score\n",
    "from sklearn.metrics import recall_score\n",
    "from sklearn.metrics import f1_score\n",
    "from sklearn.utils.class_weight import compute_sample_weight\n",
    "from xgboost import XGBClassifier\n",
    "from sklearn.metrics import accuracy_score\n",
    "import os\n",
    "import pickle\n",
    "import numpy as np\n",
    "pd.set_option('display.max_rows', None)\n",
    "pd.set_option('display.max_columns', None)\n",
    "np.set_printoptions (threshold=None, edgeitems=None, linewidth=None, suppress=None)\n"
   ]
  },
  {
   "cell_type": "code",
   "execution_count": 12,
   "metadata": {},
   "outputs": [],
   "source": [
    "dataset_path = \"/home/local/ASURITE/speddira/dev/traffic_sense_net/city_scale/processed_datasets/2024-2-16_1915hours_3jun_600_win_600twin.csv\"\n",
    "data_types = {\n",
    "    'incident_edge': 'object',  # Replace 'Column_Name1' with the actual column name\n",
    "    'incident_lane': 'object'  # Replace 'Column_Name2' with the actual column name\n",
    "}\n",
    "\n",
    "df = pd.read_csv(dataset_path,dtype=data_types)"
   ]
  },
  {
   "cell_type": "code",
   "execution_count": 13,
   "metadata": {},
   "outputs": [],
   "source": [
    "def standardize(col):\n",
    "   return (col - col.mean()) / col.std()"
   ]
  },
  {
   "cell_type": "code",
   "execution_count": 14,
   "metadata": {},
   "outputs": [
    {
     "name": "stdout",
     "output_type": "stream",
     "text": [
      "Splitting into test train\n",
      "Model training\n",
      "Model predicting\n",
      "Accuracy: 99.99%\n",
      "precision: 99.99%\n",
      "f1: 99.99%\n",
      "recall: 99.99%\n",
      "*****************************************************************\n"
     ]
    }
   ],
   "source": [
    "\n",
    "    \n",
    "road_name_edge_id = {\n",
    "1:{\"934465920\",\"5614812#0\",\"889439250\",\"436794672#0\",\"1078715158\"},\n",
    "2:{\"532215357#0\",\"436794668#0\",\"436794668#7\",\"436794677#0\",\"436794673#0\"},\n",
    "3:{\"436791116\",\"436791119#0\",\"436791122#0\",\"436791121#0\",\"436791111\"},\n",
    "4:{\"1070423862#0\",\"5602753#1\",\"5602753#2\",\"436790493#0\",\"533573789#0\",\"533573789#2\",\"436790492#0\",\"436790484\",\"512811687#0\"},\n",
    "5:{\"436942365#0\",\"436942382#0\",\"436942369#0\",\"436942367\",\"436942384#0\",\"436942364\",\"436942372\",\"395215600\",\"966303717\",\"436942386#0\"},\n",
    "6:{\"532227836\",\"532227834#0\",\"436789544#0\",\"436789576#0\",\"436789539#0\",\"436789539#2\",\"436789539#7\",\"436789570#0\"},\n",
    "7:{\"-436942361#7\",\"-436942361#3\",\"-436942361#1\",\"-436942358#5\",\"-436942358#3\",\"-436942358#0\",\"345713658#0\"},\n",
    "8:{\"-436789319\",\"395490730\",\"1051025192\"},\n",
    "9:{\"436940273#0\",\"692089619#0\",\"692089616#0\",\"692089616#2\",\"436940272#0\",\"436940271#0\",\"5635238\",\"692089613#0\",\"692089613#2\",\"692089613#6\",\"692089611#0\"},\n",
    "10:{\"512810351#0\",\"436943782\",\"436943780\",\"436943781\"},\n",
    "11:{\"436943721\",\"436943716\",\"436943727#0\",\"406379830#0\",\"436943736\",\"436943731#0\",\"436943728\",\"436943723\",\"436943726\",\"436943720\",\"436943747#0\",\"436943754#0\",\"436943740\",\"436943735\",\"436943729\",\"436943741#0\",\"436943752#0\"},\n",
    "12:{\"-436943756#2\",\"-911576955#2\",\"909831620\",\"911576960\",\"-327757100#6\"}\n",
    "\n",
    "}\n",
    "\n",
    "\n",
    "\n",
    "df = df[df[\"accident_label\"] == True]\n",
    "df['label'] = None\n",
    "\n",
    "for category, edges in road_name_edge_id.items():\n",
    "# Find rows where incident_edge is in the current set of edges\n",
    "    mask = df['incident_edge'].isin(edges)\n",
    "# Set the appropriate label column to 1 for these rows\n",
    "    df.loc[mask, 'label'] = category-1  # Adjusted index by -1 for zero-based indexing\n",
    "\n",
    "Y = df[\"label\"]\n",
    "\n",
    "X = df.drop([\"incident_edge\",\"incident_start_time\",\"incident_type\",\"accident_id\",\"accident_duration\",\"incident_lane\",\"accident_label\",\"label\"],axis=1)\n",
    "X = X.apply(standardize)\n",
    "\n",
    "X = X.drop([\"Unnamed: 0\",\"step\"],axis=1)\n",
    "X= X.values\n",
    "Y= Y.values\n",
    "\n",
    "print(\"Splitting into test train\")\n",
    "X_train, X_test, y_train, y_test = train_test_split(X, Y, test_size=0.2)\n",
    "\n",
    "model = XGBClassifier(objective='multi:softmax', num_class=12, use_label_encoder=False, eval_metric='mlogloss',device = 'cuda')\n",
    "print(\"Model training\")\n",
    "model.fit(X_train, y_train)\n",
    "print(\"Model predicting\")\n",
    "y_pred = model.predict(X_test)\n",
    "y_pred = list(y_pred)\n",
    "y_test = list(y_test)\n",
    "\n",
    "accuracy = accuracy_score(y_test, y_pred)\n",
    "precision = precision_score(y_test, y_pred,average='macro')\n",
    "f1 = f1_score(y_test, y_pred,average='macro')\n",
    "recall = recall_score(y_test, y_pred,average='macro')\n",
    "print(\"Accuracy: %.2f%%\" % (accuracy * 100.0))\n",
    "print(\"precision: %.2f%%\" % (precision * 100.0))\n",
    "print(\"f1: %.2f%%\" % (f1 * 100.0))\n",
    "print(\"recall: %.2f%%\" % (recall * 100.0))\n",
    "\n",
    "print(\"*****************************************************************\")\n"
   ]
  },
  {
   "cell_type": "code",
   "execution_count": 15,
   "metadata": {},
   "outputs": [
    {
     "ename": "FileNotFoundError",
     "evalue": "[Errno 2] No such file or directory: '/home/local/ASURITE/speddira/dev/traffic_sense_net/city_scale/xgboost/experiment_saved_models/3jun_inci_local/xg_model.pkl'",
     "output_type": "error",
     "traceback": [
      "\u001b[0;31m---------------------------------------------------------------------------\u001b[0m",
      "\u001b[0;31mFileNotFoundError\u001b[0m                         Traceback (most recent call last)",
      "Cell \u001b[0;32mIn[15], line 2\u001b[0m\n\u001b[1;32m      1\u001b[0m \u001b[38;5;28;01mimport\u001b[39;00m \u001b[38;5;21;01mpickle\u001b[39;00m\n\u001b[0;32m----> 2\u001b[0m pickle\u001b[38;5;241m.\u001b[39mdump(model, \u001b[38;5;28;43mopen\u001b[39;49m\u001b[43m(\u001b[49m\u001b[38;5;124;43m\"\u001b[39;49m\u001b[38;5;124;43m/home/local/ASURITE/speddira/dev/traffic_sense_net/city_scale/xgboost/experiment_saved_models/3jun_inci_local/xg_model.pkl\u001b[39;49m\u001b[38;5;124;43m\"\u001b[39;49m\u001b[43m,\u001b[49m\u001b[43m \u001b[49m\u001b[38;5;124;43m\"\u001b[39;49m\u001b[38;5;124;43mwb\u001b[39;49m\u001b[38;5;124;43m\"\u001b[39;49m\u001b[43m)\u001b[49m)\n",
      "File \u001b[0;32m~/miniconda3/envs/cobra/lib/python3.10/site-packages/IPython/core/interactiveshell.py:324\u001b[0m, in \u001b[0;36m_modified_open\u001b[0;34m(file, *args, **kwargs)\u001b[0m\n\u001b[1;32m    317\u001b[0m \u001b[38;5;28;01mif\u001b[39;00m file \u001b[38;5;129;01min\u001b[39;00m {\u001b[38;5;241m0\u001b[39m, \u001b[38;5;241m1\u001b[39m, \u001b[38;5;241m2\u001b[39m}:\n\u001b[1;32m    318\u001b[0m     \u001b[38;5;28;01mraise\u001b[39;00m \u001b[38;5;167;01mValueError\u001b[39;00m(\n\u001b[1;32m    319\u001b[0m         \u001b[38;5;124mf\u001b[39m\u001b[38;5;124m\"\u001b[39m\u001b[38;5;124mIPython won\u001b[39m\u001b[38;5;124m'\u001b[39m\u001b[38;5;124mt let you open fd=\u001b[39m\u001b[38;5;132;01m{\u001b[39;00mfile\u001b[38;5;132;01m}\u001b[39;00m\u001b[38;5;124m by default \u001b[39m\u001b[38;5;124m\"\u001b[39m\n\u001b[1;32m    320\u001b[0m         \u001b[38;5;124m\"\u001b[39m\u001b[38;5;124mas it is likely to crash IPython. If you know what you are doing, \u001b[39m\u001b[38;5;124m\"\u001b[39m\n\u001b[1;32m    321\u001b[0m         \u001b[38;5;124m\"\u001b[39m\u001b[38;5;124myou can use builtins\u001b[39m\u001b[38;5;124m'\u001b[39m\u001b[38;5;124m open.\u001b[39m\u001b[38;5;124m\"\u001b[39m\n\u001b[1;32m    322\u001b[0m     )\n\u001b[0;32m--> 324\u001b[0m \u001b[38;5;28;01mreturn\u001b[39;00m \u001b[43mio_open\u001b[49m\u001b[43m(\u001b[49m\u001b[43mfile\u001b[49m\u001b[43m,\u001b[49m\u001b[43m \u001b[49m\u001b[38;5;241;43m*\u001b[39;49m\u001b[43margs\u001b[49m\u001b[43m,\u001b[49m\u001b[43m \u001b[49m\u001b[38;5;241;43m*\u001b[39;49m\u001b[38;5;241;43m*\u001b[39;49m\u001b[43mkwargs\u001b[49m\u001b[43m)\u001b[49m\n",
      "\u001b[0;31mFileNotFoundError\u001b[0m: [Errno 2] No such file or directory: '/home/local/ASURITE/speddira/dev/traffic_sense_net/city_scale/xgboost/experiment_saved_models/3jun_inci_local/xg_model.pkl'"
     ]
    }
   ],
   "source": [
    "import pickle\n",
    "pickle.dump(model, open(\"/home/local/ASURITE/speddira/dev/traffic_sense_net/city_scale/xgboost/experiment_saved_models/3jun_inci_local/xg_model.pkl\", \"wb\"))\n"
   ]
  },
  {
   "cell_type": "code",
   "execution_count": null,
   "metadata": {},
   "outputs": [],
   "source": []
  }
 ],
 "metadata": {
  "kernelspec": {
   "display_name": "Python 3 (ipykernel)",
   "language": "python",
   "name": "python3"
  },
  "language_info": {
   "codemirror_mode": {
    "name": "ipython",
    "version": 3
   },
   "file_extension": ".py",
   "mimetype": "text/x-python",
   "name": "python",
   "nbconvert_exporter": "python",
   "pygments_lexer": "ipython3",
   "version": "3.10.13"
  }
 },
 "nbformat": 4,
 "nbformat_minor": 2
}
