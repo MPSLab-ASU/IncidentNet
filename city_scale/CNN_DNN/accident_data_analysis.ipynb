{
 "cells": [
  {
   "cell_type": "code",
   "execution_count": 1,
   "id": "65ef726e-bfef-4087-84de-89c378c8c46a",
   "metadata": {},
   "outputs": [
    {
     "name": "stdout",
     "output_type": "stream",
     "text": [
      "Collecting tensorboard\n",
      "  Using cached tensorboard-2.16.2-py3-none-any.whl (5.5 MB)\n",
      "Collecting markdown>=2.6.8\n",
      "  Using cached Markdown-3.5.2-py3-none-any.whl (103 kB)\n",
      "Requirement already satisfied: numpy>=1.12.0 in d:\\dev\\traffic_sense_net\\environments\\gastorch\\lib\\site-packages (from tensorboard) (1.26.3)\n",
      "Collecting grpcio>=1.48.2\n",
      "  Using cached grpcio-1.62.0-cp310-cp310-win_amd64.whl (3.8 MB)\n",
      "Collecting absl-py>=0.4\n",
      "  Using cached absl_py-2.1.0-py3-none-any.whl (133 kB)\n",
      "Collecting tensorboard-data-server<0.8.0,>=0.7.0\n",
      "  Using cached tensorboard_data_server-0.7.2-py3-none-any.whl (2.4 kB)\n",
      "Collecting werkzeug>=1.0.1\n",
      "  Using cached werkzeug-3.0.1-py3-none-any.whl (226 kB)\n",
      "Requirement already satisfied: setuptools>=41.0.0 in d:\\dev\\traffic_sense_net\\environments\\gastorch\\lib\\site-packages (from tensorboard) (65.5.0)\n",
      "Requirement already satisfied: six>1.9 in d:\\dev\\traffic_sense_net\\environments\\gastorch\\lib\\site-packages (from tensorboard) (1.16.0)\n",
      "Collecting protobuf!=4.24.0,>=3.19.6\n",
      "  Using cached protobuf-4.25.3-cp310-abi3-win_amd64.whl (413 kB)\n",
      "Requirement already satisfied: MarkupSafe>=2.1.1 in d:\\dev\\traffic_sense_net\\environments\\gastorch\\lib\\site-packages (from werkzeug>=1.0.1->tensorboard) (2.1.3)\n",
      "Installing collected packages: werkzeug, tensorboard-data-server, protobuf, markdown, grpcio, absl-py, tensorboard\n",
      "Successfully installed absl-py-2.1.0 grpcio-1.62.0 markdown-3.5.2 protobuf-4.25.3 tensorboard-2.16.2 tensorboard-data-server-0.7.2 werkzeug-3.0.1\n"
     ]
    },
    {
     "name": "stderr",
     "output_type": "stream",
     "text": [
      "\n",
      "[notice] A new release of pip is available: 23.0.1 -> 24.0\n",
      "[notice] To update, run: python.exe -m pip install --upgrade pip\n"
     ]
    }
   ],
   "source": [
    "!pip install tensorboard"
   ]
  },
  {
   "cell_type": "code",
   "execution_count": 3,
   "id": "9eb98729-d321-4bca-9898-c5459c795f7f",
   "metadata": {
    "tags": []
   },
   "outputs": [],
   "source": [
    "import numpy as np\n",
    "import pandas as pd\n",
    "import os"
   ]
  },
  {
   "cell_type": "code",
   "execution_count": 4,
   "id": "69898a2e-2a46-457d-b3b8-5042039ec296",
   "metadata": {
    "tags": []
   },
   "outputs": [],
   "source": [
    "# Building analytics from numpy files"
   ]
  },
  {
   "cell_type": "code",
   "execution_count": 5,
   "id": "f427c88f-4e88-4664-b0ec-43e354b16cd1",
   "metadata": {
    "tags": []
   },
   "outputs": [],
   "source": [
    "x_folder = r\"data/dataset1/features/\"\n",
    "y_folder = r\"data/dataset1/labels/\""
   ]
  },
  {
   "cell_type": "code",
   "execution_count": 6,
   "id": "103893ab-539f-4351-9e7d-dd4d1275f6d6",
   "metadata": {
    "tags": []
   },
   "outputs": [
    {
     "data": {
      "text/plain": [
       "21598"
      ]
     },
     "execution_count": 6,
     "metadata": {},
     "output_type": "execute_result"
    }
   ],
   "source": [
    "x_files = os.listdir(x_folder)\n",
    "len(x_files)"
   ]
  },
  {
   "cell_type": "code",
   "execution_count": 7,
   "id": "414f86d0-e332-4d08-bb00-e59ddfe04458",
   "metadata": {
    "tags": []
   },
   "outputs": [
    {
     "data": {
      "text/plain": [
       "21598"
      ]
     },
     "execution_count": 7,
     "metadata": {},
     "output_type": "execute_result"
    }
   ],
   "source": [
    "y_files = os.listdir(y_folder)\n",
    "len(y_files)"
   ]
  },
  {
   "cell_type": "code",
   "execution_count": 8,
   "id": "b6db2b4d-c4c7-411f-936f-62cef1624546",
   "metadata": {
    "tags": []
   },
   "outputs": [
    {
     "name": "stdout",
     "output_type": "stream",
     "text": [
      "features_11388.npy\n",
      "(300, 24, 3)\n"
     ]
    }
   ],
   "source": [
    "# Shape of an sample feature file\n",
    "sample_file = x_files[1545]\n",
    "print(sample_file)\n",
    "sampleX = np.load(f\"data/dataset1/features/{sample_file}\")\n",
    "print(sampleX.shape)"
   ]
  },
  {
   "cell_type": "code",
   "execution_count": 13,
   "id": "11a53326-f725-412c-adab-e372cf1202c7",
   "metadata": {
    "tags": []
   },
   "outputs": [
    {
     "name": "stdout",
     "output_type": "stream",
     "text": [
      "labels_6760.npy\n",
      "(13,)\n"
     ]
    }
   ],
   "source": [
    "# Shape of an sample labels file\n",
    "sample_file = y_files[18000]\n",
    "print(sample_file)\n",
    "sampleY = np.load(f\"data/dataset1/labels/{sample_file}\")\n",
    "print(sampleY.shape)"
   ]
  },
  {
   "cell_type": "code",
   "execution_count": 14,
   "id": "ddc044ec-67e1-4e54-a7c2-26f0013fdecb",
   "metadata": {},
   "outputs": [
    {
     "name": "stdout",
     "output_type": "stream",
     "text": [
      "[0. 0. 1. 0. 0. 0. 0. 0. 0. 0. 0. 0. 0.]\n"
     ]
    }
   ],
   "source": [
    "print(sampleY)"
   ]
  },
  {
   "cell_type": "code",
   "execution_count": 17,
   "id": "51276265-0aa4-4a79-9a3b-2c0c4302f879",
   "metadata": {
    "tags": []
   },
   "outputs": [],
   "source": [
    "# Analyzing total number of files  and classes they belong to.\n",
    "classes_count_dict = {\n",
    "    0:0,\n",
    "    1:0,\n",
    "    2:0,\n",
    "    3:0,\n",
    "    4:0,\n",
    "    5:0,\n",
    "    6:0,\n",
    "    7:0,\n",
    "    8:0,\n",
    "    9:0,\n",
    "    10:0,\n",
    "    11:0,\n",
    "    12:0\n",
    "}\n",
    "\n",
    "classes_files_dict = {\n",
    "    0:[],\n",
    "    1:[],\n",
    "    2:[],\n",
    "    3:[],\n",
    "    4:[],\n",
    "    5:[],\n",
    "    6:[],\n",
    "    7:[],\n",
    "    8:[],\n",
    "    9:[],\n",
    "    10:[],\n",
    "    11:[],\n",
    "    12:[]\n",
    "}"
   ]
  },
  {
   "cell_type": "code",
   "execution_count": 26,
   "id": "b0e9b97c-7961-4bbb-9d77-272ca394c30f",
   "metadata": {
    "tags": []
   },
   "outputs": [],
   "source": [
    "for file in y_files:\n",
    "    \n",
    "    y = np.load(f\"data/dataset1/labels/{file}\")\n",
    "    indx = np.argmax(y)\n",
    "    if indx != np.where(y==1)[-1]:\n",
    "        # check to see whether any label contains more than one class\n",
    "        print(file)\n",
    "        print(y)\n",
    "        \n",
    "    classes_count_dict[indx] +=1\n",
    "    classes_files_dict[indx].append(file)\n",
    "    "
   ]
  },
  {
   "cell_type": "code",
   "execution_count": 27,
   "id": "11402e1c-d79d-4c57-8d98-7979e4674ec7",
   "metadata": {
    "tags": []
   },
   "outputs": [
    {
     "data": {
      "text/plain": [
       "{0: 526,\n",
       " 1: 618,\n",
       " 2: 528,\n",
       " 3: 708,\n",
       " 4: 511,\n",
       " 5: 469,\n",
       " 6: 669,\n",
       " 7: 264,\n",
       " 8: 1877,\n",
       " 9: 638,\n",
       " 10: 1549,\n",
       " 11: 791,\n",
       " 12: 12451}"
      ]
     },
     "execution_count": 27,
     "metadata": {},
     "output_type": "execute_result"
    }
   ],
   "source": [
    "classes_count_dict"
   ]
  },
  {
   "cell_type": "code",
   "execution_count": 31,
   "id": "517f1622-edae-4326-9159-2c6fc5157727",
   "metadata": {
    "tags": []
   },
   "outputs": [
    {
     "name": "stdout",
     "output_type": "stream",
     "text": [
      "0 :526\n",
      "1 :618\n",
      "2 :528\n",
      "3 :708\n",
      "4 :511\n",
      "5 :469\n",
      "6 :669\n",
      "7 :264\n",
      "8 :1877\n",
      "9 :638\n",
      "10 :1549\n",
      "11 :790\n",
      "12 :12451\n"
     ]
    }
   ],
   "source": [
    "for key in classes_files_dict.keys() :\n",
    "    print(f\"{key} :{len(classes_files_dict[key])}\")"
   ]
  },
  {
   "cell_type": "code",
   "execution_count": null,
   "id": "18732ef7-24ac-403a-ad2f-77cd2232ac19",
   "metadata": {},
   "outputs": [],
   "source": []
  }
 ],
 "metadata": {
  "kernelspec": {
   "display_name": "Python 3 (ipykernel)",
   "language": "python",
   "name": "python3"
  },
  "language_info": {
   "codemirror_mode": {
    "name": "ipython",
    "version": 3
   },
   "file_extension": ".py",
   "mimetype": "text/x-python",
   "name": "python",
   "nbconvert_exporter": "python",
   "pygments_lexer": "ipython3",
   "version": "3.10.11"
  }
 },
 "nbformat": 4,
 "nbformat_minor": 5
}
