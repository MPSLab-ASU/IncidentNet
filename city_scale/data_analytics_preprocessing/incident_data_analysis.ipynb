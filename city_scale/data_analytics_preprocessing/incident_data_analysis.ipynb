{
 "cells": [
  {
   "cell_type": "code",
   "execution_count": 12,
   "metadata": {},
   "outputs": [],
   "source": [
    "import pandas as pd"
   ]
  },
  {
   "cell_type": "code",
   "execution_count": 13,
   "metadata": {},
   "outputs": [],
   "source": [
    "df = pd.read_csv(\"/home/local/ASURITE/speddira/dev/git_repo/traffic_sense_net/city_scale/processed_datasets/incidents_2024-2-16_1915hours_2592000steps.csv\")"
   ]
  },
  {
   "cell_type": "code",
   "execution_count": 14,
   "metadata": {},
   "outputs": [
    {
     "data": {
      "text/html": [
       "<div>\n",
       "<style scoped>\n",
       "    .dataframe tbody tr th:only-of-type {\n",
       "        vertical-align: middle;\n",
       "    }\n",
       "\n",
       "    .dataframe tbody tr th {\n",
       "        vertical-align: top;\n",
       "    }\n",
       "\n",
       "    .dataframe thead th {\n",
       "        text-align: right;\n",
       "    }\n",
       "</style>\n",
       "<table border=\"1\" class=\"dataframe\">\n",
       "  <thead>\n",
       "    <tr style=\"text-align: right;\">\n",
       "      <th></th>\n",
       "      <th>Unnamed: 0</th>\n",
       "      <th>accident_id</th>\n",
       "      <th>step</th>\n",
       "      <th>time_of_day</th>\n",
       "      <th>incident_edge</th>\n",
       "      <th>incident_start_time</th>\n",
       "      <th>incident_type</th>\n",
       "      <th>accident_label</th>\n",
       "      <th>accident_duration</th>\n",
       "    </tr>\n",
       "  </thead>\n",
       "  <tbody>\n",
       "    <tr>\n",
       "      <th>0</th>\n",
       "      <td>292</td>\n",
       "      <td>acc7825</td>\n",
       "      <td>7826</td>\n",
       "      <td>7826</td>\n",
       "      <td>436943731#0</td>\n",
       "      <td>7825</td>\n",
       "      <td>multi_vehicle_collision</td>\n",
       "      <td>True</td>\n",
       "      <td>5982</td>\n",
       "    </tr>\n",
       "    <tr>\n",
       "      <th>1</th>\n",
       "      <td>78</td>\n",
       "      <td>acc15683</td>\n",
       "      <td>15684</td>\n",
       "      <td>15684</td>\n",
       "      <td>436942386#0</td>\n",
       "      <td>15683</td>\n",
       "      <td>multi_vehicle_collision</td>\n",
       "      <td>True</td>\n",
       "      <td>4993</td>\n",
       "    </tr>\n",
       "    <tr>\n",
       "      <th>2</th>\n",
       "      <td>188</td>\n",
       "      <td>acc23568</td>\n",
       "      <td>23569</td>\n",
       "      <td>23569</td>\n",
       "      <td>-327757100#6</td>\n",
       "      <td>23568</td>\n",
       "      <td>stalled_vehicle</td>\n",
       "      <td>True</td>\n",
       "      <td>1419</td>\n",
       "    </tr>\n",
       "    <tr>\n",
       "      <th>3</th>\n",
       "      <td>228</td>\n",
       "      <td>acc31505</td>\n",
       "      <td>31506</td>\n",
       "      <td>31506</td>\n",
       "      <td>-436789319</td>\n",
       "      <td>31505</td>\n",
       "      <td>multi_vehicle_collision</td>\n",
       "      <td>True</td>\n",
       "      <td>3626</td>\n",
       "    </tr>\n",
       "    <tr>\n",
       "      <th>4</th>\n",
       "      <td>239</td>\n",
       "      <td>acc39444</td>\n",
       "      <td>39445</td>\n",
       "      <td>39445</td>\n",
       "      <td>512810351#0</td>\n",
       "      <td>39444</td>\n",
       "      <td>stalled_vehicle</td>\n",
       "      <td>True</td>\n",
       "      <td>1196</td>\n",
       "    </tr>\n",
       "  </tbody>\n",
       "</table>\n",
       "</div>"
      ],
      "text/plain": [
       "   Unnamed: 0 accident_id   step  time_of_day incident_edge  \\\n",
       "0         292     acc7825   7826         7826   436943731#0   \n",
       "1          78    acc15683  15684        15684   436942386#0   \n",
       "2         188    acc23568  23569        23569  -327757100#6   \n",
       "3         228    acc31505  31506        31506    -436789319   \n",
       "4         239    acc39444  39445        39445   512810351#0   \n",
       "\n",
       "   incident_start_time            incident_type  accident_label  \\\n",
       "0                 7825  multi_vehicle_collision            True   \n",
       "1                15683  multi_vehicle_collision            True   \n",
       "2                23568          stalled_vehicle            True   \n",
       "3                31505  multi_vehicle_collision            True   \n",
       "4                39444          stalled_vehicle            True   \n",
       "\n",
       "   accident_duration  \n",
       "0               5982  \n",
       "1               4993  \n",
       "2               1419  \n",
       "3               3626  \n",
       "4               1196  "
      ]
     },
     "execution_count": 14,
     "metadata": {},
     "output_type": "execute_result"
    }
   ],
   "source": [
    "df.head()"
   ]
  },
  {
   "cell_type": "code",
   "execution_count": 16,
   "metadata": {},
   "outputs": [
    {
     "name": "stdout",
     "output_type": "stream",
     "text": [
      "Total number of incidents: 323\n",
      "Total number of severe incidents 164\n",
      "Total number of mild incidents 159\n"
     ]
    }
   ],
   "source": [
    "print(f'Total number of incidents: {df.shape[0]}')\n",
    "\n",
    "df_severe = df[df[\"incident_type\"] == \"multi_vehicle_collision\"]\n",
    "df_mild = df[df[\"incident_type\"] == \"stalled_vehicle\"]\n",
    "\n",
    "print(f\"Total number of severe incidents {df_severe.shape[0]}\")\n",
    "print(f\"Total number of mild incidents {df_mild.shape[0]}\")"
   ]
  },
  {
   "cell_type": "code",
   "execution_count": 18,
   "metadata": {},
   "outputs": [
    {
     "name": "stdout",
     "output_type": "stream",
     "text": [
      "Total number of incidents 164\n",
      "Average accident clearence time 4905.164634146341\n",
      "Max accident clearence time 7193\n",
      "Min accident clearence time 2771\n",
      "Median accident clearence time 5127.0\n"
     ]
    }
   ],
   "source": [
    "print(f\"Total number of incidents {df_severe.shape[0]}\")\n",
    "print(f\"Average accident clearence time {df_severe['accident_duration'].mean()}\")\n",
    "print(f\"Max accident clearence time {df_severe['accident_duration'].max()}\")\n",
    "print(f\"Min accident clearence time {df_severe['accident_duration'].min()}\")\n",
    "print(f\"Median accident clearence time {df_severe['accident_duration'].median()}\")\n"
   ]
  },
  {
   "cell_type": "code",
   "execution_count": 19,
   "metadata": {},
   "outputs": [
    {
     "name": "stdout",
     "output_type": "stream",
     "text": [
      "Total number of incidents 159\n",
      "Average accident clearence time 1842.2704402515724\n",
      "Max accident clearence time 2694\n",
      "Min accident clearence time 902\n",
      "Median accident clearence time 1902.0\n"
     ]
    }
   ],
   "source": [
    "print(f\"Total number of incidents {df_mild.shape[0]}\")\n",
    "print(f\"Average accident clearence time {df_mild['accident_duration'].mean()}\")\n",
    "print(f\"Max accident clearence time {df_mild['accident_duration'].max()}\")\n",
    "print(f\"Min accident clearence time {df_mild['accident_duration'].min()}\")\n",
    "print(f\"Median accident clearence time {df_mild['accident_duration'].median()}\")\n"
   ]
  },
  {
   "cell_type": "code",
   "execution_count": null,
   "metadata": {},
   "outputs": [],
   "source": []
  }
 ],
 "metadata": {
  "language_info": {
   "name": "python"
  }
 },
 "nbformat": 4,
 "nbformat_minor": 2
}
