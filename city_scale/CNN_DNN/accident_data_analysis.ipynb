{
 "cells": [
  {
   "cell_type": "code",
   "execution_count": 3,
   "id": "9eb98729-d321-4bca-9898-c5459c795f7f",
   "metadata": {
    "tags": []
   },
   "outputs": [],
   "source": [
    "import numpy as np\n",
    "import pandas as pd\n",
    "import os"
   ]
  },
  {
   "cell_type": "code",
   "execution_count": 4,
   "id": "69898a2e-2a46-457d-b3b8-5042039ec296",
   "metadata": {
    "tags": []
   },
   "outputs": [],
   "source": [
    "# Building analytics from numpy files"
   ]
  },
  {
   "cell_type": "code",
   "execution_count": 5,
   "id": "f427c88f-4e88-4664-b0ec-43e354b16cd1",
   "metadata": {
    "tags": []
   },
   "outputs": [],
   "source": [
    "x_folder = \"data/dataset1/features/\"\n",
    "y_folder = \"data/dataset1/labels/\""
   ]
  },
  {
   "cell_type": "code",
   "execution_count": 7,
   "id": "103893ab-539f-4351-9e7d-dd4d1275f6d6",
   "metadata": {
    "tags": []
   },
   "outputs": [
    {
     "data": {
      "text/plain": [
       "21598"
      ]
     },
     "execution_count": 7,
     "metadata": {},
     "output_type": "execute_result"
    }
   ],
   "source": [
    "x_files = os.listdir(x_folder)\n",
    "len(x_files)"
   ]
  },
  {
   "cell_type": "code",
   "execution_count": 8,
   "id": "414f86d0-e332-4d08-bb00-e59ddfe04458",
   "metadata": {
    "tags": []
   },
   "outputs": [
    {
     "data": {
      "text/plain": [
       "21598"
      ]
     },
     "execution_count": 8,
     "metadata": {},
     "output_type": "execute_result"
    }
   ],
   "source": [
    "y_files = os.listdir(y_folder)\n",
    "len(y_files)"
   ]
  },
  {
   "cell_type": "code",
   "execution_count": 14,
   "id": "b6db2b4d-c4c7-411f-936f-62cef1624546",
   "metadata": {
    "tags": []
   },
   "outputs": [
    {
     "name": "stdout",
     "output_type": "stream",
     "text": [
      "features_542.npy\n",
      "(300, 24, 3)\n"
     ]
    }
   ],
   "source": [
    "# Shape of an sample feature file\n",
    "sample_file = x_files[1545]\n",
    "print(sample_file)\n",
    "sampleX = np.load(f\"data/dataset1/features/{sample_file}\")\n",
    "print(sampleX.shape)"
   ]
  },
  {
   "cell_type": "code",
   "execution_count": 16,
   "id": "11a53326-f725-412c-adab-e372cf1202c7",
   "metadata": {
    "tags": []
   },
   "outputs": [
    {
     "name": "stdout",
     "output_type": "stream",
     "text": [
      "labels_7730.npy\n",
      "(13,)\n"
     ]
    }
   ],
   "source": [
    "# Shape of an sample labels file\n",
    "sample_file = y_files[1545]\n",
    "print(sample_file)\n",
    "sampleY = np.load(f\"data/dataset1/labels/{sample_file}\")\n",
    "print(sampleY.shape)"
   ]
  },
  {
   "cell_type": "code",
   "execution_count": 17,
   "id": "51276265-0aa4-4a79-9a3b-2c0c4302f879",
   "metadata": {
    "tags": []
   },
   "outputs": [],
   "source": [
    "# Analyzing total number of files  and classes they belong to.\n",
    "classes_count_dict = {\n",
    "    0:0,\n",
    "    1:0,\n",
    "    2:0,\n",
    "    3:0,\n",
    "    4:0,\n",
    "    5:0,\n",
    "    6:0,\n",
    "    7:0,\n",
    "    8:0,\n",
    "    9:0,\n",
    "    10:0,\n",
    "    11:0,\n",
    "    12:0\n",
    "}\n",
    "\n",
    "classes_files_dict = {\n",
    "    0:[],\n",
    "    1:[],\n",
    "    2:[],\n",
    "    3:[],\n",
    "    4:[],\n",
    "    5:[],\n",
    "    6:[],\n",
    "    7:[],\n",
    "    8:[],\n",
    "    9:[],\n",
    "    10:[],\n",
    "    11:[],\n",
    "    12:[]\n",
    "}"
   ]
  },
  {
   "cell_type": "code",
   "execution_count": 26,
   "id": "b0e9b97c-7961-4bbb-9d77-272ca394c30f",
   "metadata": {
    "tags": []
   },
   "outputs": [],
   "source": [
    "for file in y_files:\n",
    "    \n",
    "    y = np.load(f\"data/dataset1/labels/{file}\")\n",
    "    indx = np.argmax(y)\n",
    "    if indx != np.where(y==1)[-1]:\n",
    "        # check to see whether any label contains more than one class\n",
    "        print(file)\n",
    "        print(y)\n",
    "        \n",
    "    classes_count_dict[indx] +=1\n",
    "    classes_files_dict[indx].append(file)\n",
    "    "
   ]
  },
  {
   "cell_type": "code",
   "execution_count": 27,
   "id": "11402e1c-d79d-4c57-8d98-7979e4674ec7",
   "metadata": {
    "tags": []
   },
   "outputs": [
    {
     "data": {
      "text/plain": [
       "{0: 526,\n",
       " 1: 618,\n",
       " 2: 528,\n",
       " 3: 708,\n",
       " 4: 511,\n",
       " 5: 469,\n",
       " 6: 669,\n",
       " 7: 264,\n",
       " 8: 1877,\n",
       " 9: 638,\n",
       " 10: 1549,\n",
       " 11: 791,\n",
       " 12: 12451}"
      ]
     },
     "execution_count": 27,
     "metadata": {},
     "output_type": "execute_result"
    }
   ],
   "source": [
    "classes_count_dict"
   ]
  },
  {
   "cell_type": "code",
   "execution_count": 31,
   "id": "517f1622-edae-4326-9159-2c6fc5157727",
   "metadata": {
    "tags": []
   },
   "outputs": [
    {
     "name": "stdout",
     "output_type": "stream",
     "text": [
      "0 :526\n",
      "1 :618\n",
      "2 :528\n",
      "3 :708\n",
      "4 :511\n",
      "5 :469\n",
      "6 :669\n",
      "7 :264\n",
      "8 :1877\n",
      "9 :638\n",
      "10 :1549\n",
      "11 :790\n",
      "12 :12451\n"
     ]
    }
   ],
   "source": [
    "for key in classes_files_dict.keys() :\n",
    "    print(f\"{key} :{len(classes_files_dict[key])}\")"
   ]
  },
  {
   "cell_type": "code",
   "execution_count": null,
   "id": "18732ef7-24ac-403a-ad2f-77cd2232ac19",
   "metadata": {},
   "outputs": [],
   "source": []
  }
 ],
 "metadata": {
  "kernelspec": {
   "display_name": "Python (Local)",
   "language": "python",
   "name": "base"
  },
  "language_info": {
   "codemirror_mode": {
    "name": "ipython",
    "version": 3
   },
   "file_extension": ".py",
   "mimetype": "text/x-python",
   "name": "python",
   "nbconvert_exporter": "python",
   "pygments_lexer": "ipython3",
   "version": "3.10.13"
  }
 },
 "nbformat": 4,
 "nbformat_minor": 5
}
