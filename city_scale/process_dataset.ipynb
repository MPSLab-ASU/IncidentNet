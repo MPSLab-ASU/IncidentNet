{
 "cells": [
  {
   "cell_type": "code",
   "execution_count": 2,
   "metadata": {},
   "outputs": [],
   "source": [
    "import pandas as dd"
   ]
  },
  {
   "cell_type": "code",
   "execution_count": null,
   "metadata": {},
   "outputs": [],
   "source": [
    "NUM_OF_JUNCTIONS = 8\n",
    "ROLLING_WINDOW_LENGTH = 300\n",
    "TRAVEL_TIME_WINDOW = 300\n",
    "TRAFFIC_DATASET = \"/home/local/ASUAD/speddira/dev/streaming-data-city-scale-incident-detection/datasets/trafficDataset_2024-2-16_1915hours_2592000steps.csv\"\n",
    "VEHICLE_DATASET = \"/home/local/ASUAD/speddira/dev/streaming-data-city-scale-incident-detection/datasets/vehicleDataset_2024-2-16_1915hours_2592000steps.csv\"\n",
    "LENGTH_OF_SIM = 2_592_000\n",
    "generate_incidents_csv = False"
   ]
  },
  {
   "cell_type": "code",
   "execution_count": null,
   "metadata": {},
   "outputs": [],
   "source": [
    "print(f\"Number of junctions considered for dataset prep: {NUM_OF_JUNCTIONS}\")\n",
    "print(f\"Rolling window length considered for dataset prep: {ROLLING_WINDOW_LENGTH}\")\n",
    "print(f\"Travel time window length considered for dataset prep: {TRAVEL_TIME_WINDOW}\")"
   ]
  },
  {
   "cell_type": "code",
   "execution_count": null,
   "metadata": {},
   "outputs": [],
   "source": [
    "dtype = {\n",
    "    'step' : 'int64',\n",
    "    'time_of_day' : 'int64',\n",
    "    'identified_edge' : 'object',\n",
    "    'junction_mean_speed' : 'float64',\n",
    "    'traffic_count' : 'float64',\n",
    "    'traffic_occupancy' : 'float64',\n",
    "    'vehicles_per_lane_1' : 'int64',\n",
    "    'vehicles_per_lane_0' : 'int64',\n",
    "    'lane_mean_speed_0' : 'float64',\n",
    "    'lane_mean_speed_1' : 'float64',\n",
    "    'incident_edge': 'object',\n",
    "    'incident_start_time': 'float64',\n",
    "    'incident_type': 'object',\n",
    "    'accident_label': 'bool',\n",
    "    'accident_id': 'object',\n",
    "    'accident_duration': 'float64',\n",
    "    'incident_lane': 'object'\n",
    "}\n",
    "df_traffic = dd.read_csv(TRAFFIC_DATASET,dtype=dtype)"
   ]
  },
  {
   "cell_type": "code",
   "execution_count": null,
   "metadata": {},
   "outputs": [],
   "source": [
    "\n",
    "if NUM_OF_JUNCTIONS == 3:\n",
    "    print(f\" Number of junctions considered 3\")\n",
    "    incoming_edges = [\"436794680#0\",\"436791113#0\",\"-436942381#3\",\"533371302#0\",\"436942374\",\"436790491\",\"436943750#0\",\"436943762#0\"]\n",
    "    outgoing_edges = [\"533573776#0\",\"5607328#0\",\"436942381#0\",\"436790495\",\"-1033824750\",\"30031286#0\",\"436943743#0\",\"-436943762#2\"]\n",
    "    \n",
    "elif NUM_OF_JUNCTIONS == 4:\n",
    "    print(f\" Number of junctions considered 4\")\n",
    "    incoming_edges = [\"436794680#0\",\"436791113#0\",\"-436942381#3\",\"533371302#0\",\"436942374\",\"436790491\",\"436943750#0\",\"-643913497\",\"436940278\",\"436943762#0\"]\n",
    "    outgoing_edges = [\"533573776#0\",\"5607328#0\",\"436942381#0\",\"436790495\",\"-1033824750\",\"30031286#0\",\"436943743#0\",\"-436943762#2\",\"436940270\",\"519448767\"]\n",
    "    \n",
    "elif NUM_OF_JUNCTIONS == 5:\n",
    "    print(f\" Number of junctions considered 5\")\n",
    "    incoming_edges = [\"436794680#0\",\"436791113#0\",\"-436942381#3\",\"533371302#0\",\"436942374\",\"436790491\",\"436943750#0\",\"-643913497\",\"436940278\",\"436943762#0\",\"436794669\",\"436942357\"]\n",
    "    outgoing_edges = [\"533573776#0\",\"5607328#0\",\"436942381#0\",\"436790495\",\"-1033824750\",\"30031286#0\",\"436943743#0\",\"-436943762#2\",\"436940270\",\"519448767\",\"-436794676#1\",\"531969915#0\"]\n",
    "    \n",
    "elif NUM_OF_JUNCTIONS == 6:\n",
    "    print(f\" Number of junctions considered 6\")\n",
    "    incoming_edges = [\"436794680#0\",\"436791113#0\",\"-436942381#3\",\"533371302#0\",\"436942374\",\"436790491\",\"436943750#0\",\"-643913497\",\"436940278\",\"436943762#0\",\"436794669\",\"436942357\",\"-436942356#1\",\"436942362#0\",\"436789580#1\"]\n",
    "    outgoing_edges = [\"533573776#0\",\"5607328#0\",\"436942381#0\",\"436790495\",\"-1033824750\",\"30031286#0\",\"436943743#0\",\"-436943762#2\",\"436940270\",\"519448767\",\"-436794676#1\",\"531969915#0\",\"436942356#0\",\"-436942362#3\",\"436789564#0\"]\n",
    "    \n",
    "elif NUM_OF_JUNCTIONS == 7:\n",
    "    print(f\" Number of junctions considered 7\")\n",
    "    incoming_edges = [\"436794680#0\",\"436791113#0\",\"-436942381#3\",\"533371302#0\",\"436942374\",\"436790491\",\"436943750#0\",\"-643913497\",\"436940278\",\"436943762#0\",\"436794669\",\"436942357\",\"-436942356#1\",\"436942362#0\",\"436789580#1\",\"436794670\",\"1051038541#0\",\"-436794679#3\"]\n",
    "    outgoing_edges = [\"533573776#0\",\"5607328#0\",\"436942381#0\",\"436790495\",\"-1033824750\",\"30031286#0\",\"436943743#0\",\"-436943762#2\",\"436940270\",\"519448767\",\"-436794676#1\",\"531969915#0\",\"436942356#0\",\"-436942362#3\",\"436789564#0\",\"A-1088637809#1\",\"A436942385#0\",\"A436794679#0\"]\n",
    "    \n",
    "elif NUM_OF_JUNCTIONS == 8:\n",
    "    print(f\" Number of junctions considered 8\")\n",
    "    incoming_edges = [\"436794680#0\",\"436791113#0\",\"-436942381#3\",\"533371302#0\",\"436942374\",\"436790491\",\"436943750#0\",\"-643913497\",\"436940278\",\"436943762#0\",\"436794669\",\"436942357\",\"-436942356#1\",\"436942362#0\",\"436789580#1\",\"436794670\",\"1051038541#0\",\"-436794679#3\",\"436943745#0\",\"351673438\",\"-613687451#1\"]\n",
    "    outgoing_edges = [\"533573776#0\",\"5607328#0\",\"436942381#0\",\"436790495\",\"-1033824750\",\"30031286#0\",\"436943743#0\",\"-436943762#2\",\"436940270\",\"519448767\",\"-436794676#1\",\"531969915#0\",\"436942356#0\",\"-436942362#3\",\"436789564#0\",\"-1088637809#1\",\"436942385#0\",\"436794679#0\",\"-436943745#2\",\"436943742\",\"436943774\"]\n",
    "    \n",
    "\n",
    "else:\n",
    "    print(f\" Number of junctions considered {NUM_OF_JUNCTIONS}\")\n",
    "    print(\"Entered too many sensors resorting to 8 sensors\")\n",
    "    incoming_edges = [\"436794680#0\",\"436791113#0\",\"-436942381#3\",\"533371302#0\",\"436942374\",\"436790491\",\"436943750#0\",\"-643913497\",\"436940278\",\"436943762#0\",\"436794669\",\"436942357\",\"-436942356#1\",\"436942362#0\",\"436789580#1\",\"436794670\",\"1051038541#0\",\"-436794679#3\",\"436943745#0\",\"351673438\",\"-613687451#1\"]\n",
    "    outgoing_edges = [\"533573776#0\",\"5607328#0\",\"436942381#0\",\"436790495\",\"-1033824750\",\"30031286#0\",\"436943743#0\",\"-436943762#2\",\"436940270\",\"519448767\",\"-436794676#1\",\"531969915#0\",\"436942356#0\",\"-436942362#3\",\"436789564#0\",\"-1088637809#1\",\"436942385#0\",\"436794679#0\",\"-436943745#2\",\"436943742\",\"436943774\"]\n",
    "    "
   ]
  },
  {
   "cell_type": "code",
   "execution_count": null,
   "metadata": {},
   "outputs": [],
   "source": [
    "edges = incoming_edges + outgoing_edges"
   ]
  },
  {
   "cell_type": "code",
   "execution_count": null,
   "metadata": {},
   "outputs": [],
   "source": [
    "count = 0\n",
    "df = df_traffic[df_traffic[\"identified_edge\"] == edges[0] ]\n",
    "df = df.reset_index(drop=True)\n",
    "df[f\"rolling_junction_mean_speed_{count}\"] = df['junction_mean_speed'].rolling(ROLLING_WINDOW_LENGTH).mean()\n",
    "df[f\"rolling_traffic_occupancy_{count}\"] = df['traffic_occupancy'].rolling(ROLLING_WINDOW_LENGTH).mean()\n",
    "df[f\"rolling_traffic_count_{count}\"] = df['traffic_count'].rolling(ROLLING_WINDOW_LENGTH).mean()\n",
    "\n",
    "Y = df[[\"step\",\"time_of_day\",\"incident_edge\",\"incident_start_time\",\"incident_type\",\"accident_id\",\"accident_duration\",\"incident_lane\",\"accident_label\"]]\n",
    "df_data = df[[\"step\",f\"rolling_junction_mean_speed_{count}\",f\"rolling_traffic_count_{count}\",f\"rolling_traffic_occupancy_{count}\"]]\n",
    "count+=1"
   ]
  },
  {
   "cell_type": "code",
   "execution_count": null,
   "metadata": {},
   "outputs": [],
   "source": [
    "a = df.shape\n",
    "\n",
    "print(\"Shape so far\",a[0],a[1])"
   ]
  },
  {
   "cell_type": "code",
   "execution_count": null,
   "metadata": {},
   "outputs": [],
   "source": [
    "for index,edge in enumerate(edges):\n",
    "    \n",
    "    if index == 0:\n",
    "        continue\n",
    "    print(f\"Processed {count}\")\n",
    "    df = df_traffic[df_traffic[\"identified_edge\"] == edge ]\n",
    "    df = df.reset_index(drop=True)\n",
    "    df[f\"rolling_junction_mean_speed_{count}\"] = df['junction_mean_speed'].rolling(ROLLING_WINDOW_LENGTH).mean()\n",
    "    df[f\"rolling_traffic_count_{count}\"] = df['traffic_count'].rolling(ROLLING_WINDOW_LENGTH).mean()\n",
    "    df[f\"rolling_traffic_occupancy_{count}\"] = df['traffic_occupancy'].rolling(ROLLING_WINDOW_LENGTH).mean()\n",
    "    \n",
    "    df_temp = df[[\"step\",f\"rolling_junction_mean_speed_{count}\",f\"rolling_traffic_count_{count}\",f\"rolling_traffic_occupancy_{count}\"]]\n",
    "    df_data = dd.merge(left = df_data, right = df_temp , on = \"step\", how = \"inner\")\n",
    "\n",
    "    count+=1\n",
    "    "
   ]
  },
  {
   "cell_type": "code",
   "execution_count": null,
   "metadata": {},
   "outputs": [],
   "source": [
    "df_traffic_data = dd.merge(left = df_data, right = Y , on = \"step\", how = \"inner\")"
   ]
  },
  {
   "cell_type": "code",
   "execution_count": null,
   "metadata": {},
   "outputs": [],
   "source": [
    "dtype = {\n",
    "'step':'int64',\n",
    "'time_of_day':'int64',\n",
    "'car_id':'object',\n",
    "'identified_edge':'object',\n",
    "'identified_lane':'float64',\n",
    "'junction_mean_speed':'float64',\n",
    "'vehicle_speed':'float64',\n",
    "'vehicle_acceleration':'float64'\n",
    "}\n",
    "df_vehicle = dd.read_csv(VEHICLE_DATASET,dtype=dtype)"
   ]
  },
  {
   "cell_type": "code",
   "execution_count": null,
   "metadata": {},
   "outputs": [],
   "source": [
    "\n",
    "if NUM_OF_JUNCTIONS == 3:\n",
    "    print(f\" Number of junctions considered 3\")\n",
    "    incoming_edges = [\"436794680#0\",\"436791113#0\",\"-436942381#3\",\"533371302#0\",\"436942374\",\"436790491\",\"436943750#0\",\"436943762#0\"]\n",
    "    outgoing_edges = [\"533573776#0\",\"5607328#0\",\"436942381#0\",\"436790495\",\"-1033824750\",\"30031286#0\",\"436943743#0\",\"-436943762#2\"]\n",
    "    \n",
    "elif NUM_OF_JUNCTIONS == 4:\n",
    "    print(f\" Number of junctions considered 4\")\n",
    "    incoming_edges = [\"436794680#0\",\"436791113#0\",\"-436942381#3\",\"533371302#0\",\"436942374\",\"436790491\",\"436943750#0\",\"-643913497\",\"436940278\",\"436943762#0\"]\n",
    "    outgoing_edges = [\"533573776#0\",\"5607328#0\",\"436942381#0\",\"436790495\",\"-1033824750\",\"30031286#0\",\"436943743#0\",\"-436943762#2\",\"436940270\",\"519448767\"]\n",
    "    \n",
    "elif NUM_OF_JUNCTIONS == 5:\n",
    "    print(f\" Number of junctions considered 5\")\n",
    "    incoming_edges = [\"436794680#0\",\"436791113#0\",\"-436942381#3\",\"533371302#0\",\"436942374\",\"436790491\",\"436943750#0\",\"-643913497\",\"436940278\",\"436943762#0\",\"436794669\",\"436942357\"]\n",
    "    outgoing_edges = [\"533573776#0\",\"5607328#0\",\"436942381#0\",\"436790495\",\"-1033824750\",\"30031286#0\",\"436943743#0\",\"-436943762#2\",\"436940270\",\"519448767\",\"-436794676#1\",\"531969915#0\"]\n",
    "    \n",
    "elif NUM_OF_JUNCTIONS == 6:\n",
    "    print(f\" Number of junctions considered 6\")\n",
    "    incoming_edges = [\"436794680#0\",\"436791113#0\",\"-436942381#3\",\"533371302#0\",\"436942374\",\"436790491\",\"436943750#0\",\"-643913497\",\"436940278\",\"436943762#0\",\"436794669\",\"436942357\",\"-436942356#1\",\"436942362#0\",\"436789580#1\"]\n",
    "    outgoing_edges = [\"533573776#0\",\"5607328#0\",\"436942381#0\",\"436790495\",\"-1033824750\",\"30031286#0\",\"436943743#0\",\"-436943762#2\",\"436940270\",\"519448767\",\"-436794676#1\",\"531969915#0\",\"436942356#0\",\"-436942362#3\",\"436789564#0\"]\n",
    "    \n",
    "elif NUM_OF_JUNCTIONS == 7:\n",
    "    print(f\" Number of junctions considered 7\")\n",
    "    incoming_edges = [\"436794680#0\",\"436791113#0\",\"-436942381#3\",\"533371302#0\",\"436942374\",\"436790491\",\"436943750#0\",\"-643913497\",\"436940278\",\"436943762#0\",\"436794669\",\"436942357\",\"-436942356#1\",\"436942362#0\",\"436789580#1\",\"436794670\",\"1051038541#0\",\"-436794679#3\"]\n",
    "    outgoing_edges = [\"533573776#0\",\"5607328#0\",\"436942381#0\",\"436790495\",\"-1033824750\",\"30031286#0\",\"436943743#0\",\"-436943762#2\",\"436940270\",\"519448767\",\"-436794676#1\",\"531969915#0\",\"436942356#0\",\"-436942362#3\",\"436789564#0\",\"A-1088637809#1\",\"A436942385#0\",\"A436794679#0\"]\n",
    "    \n",
    "elif NUM_OF_JUNCTIONS == 8:\n",
    "    print(f\" Number of junctions considered 8\")\n",
    "    incoming_edges = [\"436794680#0\",\"436791113#0\",\"-436942381#3\",\"533371302#0\",\"436942374\",\"436790491\",\"436943750#0\",\"-643913497\",\"436940278\",\"436943762#0\",\"436794669\",\"436942357\",\"-436942356#1\",\"436942362#0\",\"436789580#1\",\"436794670\",\"1051038541#0\",\"-436794679#3\",\"436943745#0\",\"351673438\",\"-613687451#1\"]\n",
    "    outgoing_edges = [\"533573776#0\",\"5607328#0\",\"436942381#0\",\"436790495\",\"-1033824750\",\"30031286#0\",\"436943743#0\",\"-436943762#2\",\"436940270\",\"519448767\",\"-436794676#1\",\"531969915#0\",\"436942356#0\",\"-436942362#3\",\"436789564#0\",\"-1088637809#1\",\"436942385#0\",\"436794679#0\",\"-436943745#2\",\"436943742\",\"436943774\"]\n",
    "    \n",
    "\n",
    "else:\n",
    "    print(f\" Number of junctions considered {NUM_OF_JUNCTIONS}\")\n",
    "    print(\"Entered too many sensors resorting to 8 sensors\")\n",
    "    incoming_edges = [\"436794680#0\",\"436791113#0\",\"-436942381#3\",\"533371302#0\",\"436942374\",\"436790491\",\"436943750#0\",\"-643913497\",\"436940278\",\"436943762#0\",\"436794669\",\"436942357\",\"-436942356#1\",\"436942362#0\",\"436789580#1\",\"436794670\",\"1051038541#0\",\"-436794679#3\",\"436943745#0\",\"351673438\",\"-613687451#1\"]\n",
    "    outgoing_edges = [\"533573776#0\",\"5607328#0\",\"436942381#0\",\"436790495\",\"-1033824750\",\"30031286#0\",\"436943743#0\",\"-436943762#2\",\"436940270\",\"519448767\",\"-436794676#1\",\"531969915#0\",\"436942356#0\",\"-436942362#3\",\"436789564#0\",\"-1088637809#1\",\"436942385#0\",\"436794679#0\",\"-436943745#2\",\"436943742\",\"436943774\"]\n",
    "    "
   ]
  },
  {
   "cell_type": "code",
   "execution_count": null,
   "metadata": {},
   "outputs": [],
   "source": [
    "# sensor details\n",
    "\n",
    "sensors = {\n",
    "\n",
    "    1: \"5607328#0\",\n",
    "    2:\"436791113#0\",\n",
    "    3:\"533573776#0\",\n",
    "    4:\"436794680#0\",\n",
    "    5:\"436794670\",\n",
    "    6:\"436942385#0\",\n",
    "    7:\"1051038541#0\",\n",
    "    8:\"436794679#0\",\n",
    "    9:\"-436794679#3\",\n",
    "    10:\"-1088637809#1\",\n",
    "    11:\"436794669\",\n",
    "    12:\"531969915#0\",\n",
    "    13:\"436942357\",\n",
    "    14:\"-436794676#1\",\n",
    "    15:\"436790495\",\n",
    "    16:\"533371302#0\",\n",
    "    17:\"-1033824750\",\n",
    "    18:\"436942374\",\n",
    "    19:\"30031286#0\",\n",
    "    20:\"436790491\",\n",
    "    21:\"436942381#0\",\n",
    "    22:\"-436942381#3\",\n",
    "    23:\"436789580#1\",\n",
    "    24:\"436942356#0\",\n",
    "    25:\"-436942356#1\",\n",
    "    26:\"-436942362#3\",\n",
    "    27:\"436942362#0\",\n",
    "    28:\"436789564#0\",\n",
    "    29:\"436940278\",\n",
    "    30:\"436940270\",\n",
    "    31:\"-643913497\",\n",
    "    32:\"519448767\",\n",
    "    33:\"436943745#0\",\n",
    "    34:\"436943742\",\n",
    "    35:\"351673438\",\n",
    "    36:\"436943774\",\n",
    "    37:\"-613687451#1\",\n",
    "    38:\"-436943745#2\",\n",
    "    39:\"436943750#0\",\n",
    "    40:\"-436943762#2\",\n",
    "    41:\"436943762#0\",\n",
    "    42:\"436943743#0\"\n",
    "\n",
    "}"
   ]
  },
  {
   "cell_type": "code",
   "execution_count": null,
   "metadata": {},
   "outputs": [],
   "source": [
    "junctions_sensor_combo ={\n",
    "\n",
    "    3:[[3,22],[21,4],[1,16],[15,2],[40,20],[19,41],[42,18],[17,39],[3,41],[42,2],[1,39],[40,4]],\n",
    "\n",
    "    4:[[3,22],[21,4],[1,16],[15,2],[40,20],[19,41],[42,18],[17,39],[3,41],[42,31],[30,39],[40,4],[32,2],[1,29],[32,16],[15,29],[30,18],[17,31]],\n",
    "    \n",
    "    5:[[3,11],[14,4],[30,39],[42,31],[32,2],[1,29],[40,13],[12,41],[3,22],[14,22],[21,4],[21,11],[1,16],[15,2],[19,13],[12,20],[32,16],[15,29],[30,18],[17,31],[17,39],[42,18],[19,41],[40,20]],\n",
    "\n",
    "    6:[[3,11],[14,4],[30,39],[42,31],[32,2],[1,29],[26,13],[12,27],[40,25],[24,41],[3,22],[14,22],[21,4],[21,11],[1,16],[15,2],[19,23],[28,20],[32,16],[15,29],[30,18],[17,31],[17,39],[42,18]],\n",
    "\n",
    "    7:[[3,5],[10,4],[8,11],[14,9],[30,39],[42,31],[32,2],[1,29],[26,13],[12,27],[40,25],[24,41],[6,22],[21,7],[1,16],[15,2],[19,23],[28,20],[32,16],[15,29],[30,18],[17,31],[17,39],[42,18]],\n",
    "\n",
    "    8:[[3,5],[10,4],[8,11],[14,9],[30,33],[38,31],[34,39],[42,35],[32,2],[1,29],[26,13],[12,27],[40,25],[24,41],[6,22],[21,7],[1,16],[15,2],[19,23],[28,20],[32,16],[15,29],[36,18],[17,37]]\n",
    "\n",
    "}"
   ]
  },
  {
   "cell_type": "code",
   "execution_count": null,
   "metadata": {},
   "outputs": [],
   "source": [
    "interested_combo = junctions_sensor_combo[NUM_OF_JUNCTIONS]"
   ]
  },
  {
   "cell_type": "code",
   "execution_count": null,
   "metadata": {},
   "outputs": [],
   "source": [
    "print(interested_combo)\n",
    "print(len(interested_combo))"
   ]
  },
  {
   "cell_type": "code",
   "execution_count": null,
   "metadata": {},
   "outputs": [],
   "source": [
    "steps = [i for i in range(SIM_DURATION)]\n",
    "data_dd = {\"steps\":steps}\n",
    "dd_dataframe = pd.DataFrame(data_dd)\n",
    "dd_dataframe.shape"
   ]
  },
  {
   "cell_type": "code",
   "execution_count": null,
   "metadata": {},
   "outputs": [],
   "source": [
    "count = 1\n",
    "for sensor_combination in interested_combo:\n",
    "    print(count)\n",
    "    outgoing_sensor = sensors[sensor_combination[0]]\n",
    "    incoming_sensor = sensors[sensor_combination[1]]\n",
    "    df_outgoing = df_vehicle[df_vehicle['identified_edge'] == outgoing_sensor]\n",
    "    df_incoming = df_vehicle[df_vehicle['identified_edge'] == incoming_sensor]\n",
    "    df_incoming = df_incoming.reset_index(drop=True)\n",
    "    df_outgoing = df_outgoing.reset_index(drop=True)\n",
    "\n",
    "    df_outgoing_unique = df_outgoing[df_outgoing[\"car_id\"].notnull()]\n",
    "    df_incoming_unique = df_incoming[df_incoming[\"car_id\"].notnull()]\n",
    "\n",
    "    df_outgoing_unique = df_outgoing_unique.groupby('car_id').first().reset_index()\n",
    "    df_incoming_unique = df_incoming_unique.groupby('car_id').first().reset_index()\n",
    "\n",
    "    df_outgoing_unique = df_outgoing_unique.sort_values(by = 'step')\n",
    "    df_incoming_unique = df_incoming_unique.sort_values(by = 'step')\n",
    "    \n",
    "    df_merged = dd.merge(left = df_incoming_unique,right = df_outgoing_unique, on='car_id', how='inner')\n",
    "\n",
    "    df_merged[\"travel_time\"] = df_merged[\"step_x\"] - df_merged[\"step_y\"]\n",
    "\n",
    "    df_travel_time_data = df_merged[[\"step_x\",\"travel_time\"]]\n",
    "\n",
    "    \n",
    "    df_travel_time_data2 = dd.merge(left = df_travel_time_data,right = dd_dataframe, right_on='steps',left_on=\"step_x\", how='right')\n",
    "\n",
    "    df_travel_time_data2[f\"rolling_travel_time_{sensor_combination[0]}_{sensor_combination[1]}\"] = df_travel_time_data2[\"travel_time\"].rolling(300,min_periods=1).mean()\n",
    "\n",
    "    df_travel_time_data2 = df_travel_time_data2.drop([\"step_x\",\"travel_time\"],axis=1)\n",
    "    df_traffic_data = dd.merge(left = df_traffic_data, right = df_travel_time_data2 , left_on = \"step\",right_on = \"steps\", how = \"inner\")\n",
    "    df_traffic_data = df_traffic_data.drop([\"steps\"],axis=1)\n",
    "    df_traffic_data = df_traffic_data.persist()\n",
    "    count+=1"
   ]
  },
  {
   "cell_type": "code",
   "execution_count": null,
   "metadata": {},
   "outputs": [],
   "source": [
    "df_final_dataset.to_csv(\"Dataset.csv\")"
   ]
  }
 ],
 "metadata": {
  "kernelspec": {
   "display_name": "Python 3 (ipykernel)",
   "language": "python",
   "name": "python3"
  }
 },
 "nbformat": 4,
 "nbformat_minor": 2
}
