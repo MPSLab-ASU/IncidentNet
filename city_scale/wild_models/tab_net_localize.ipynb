{
 "cells": [
  {
   "cell_type": "code",
   "execution_count": 1,
   "metadata": {},
   "outputs": [],
   "source": [
    "from pytorch_tabnet.tab_model import TabNetClassifier\n",
    "import pandas as pd\n",
    "from sklearn.model_selection import train_test_split\n",
    "from sklearn.metrics import accuracy_score\n",
    "from sklearn.metrics import precision_score\n",
    "from sklearn.metrics import recall_score\n",
    "from sklearn.metrics import f1_score\n",
    "import sklearn.metrics as metrics\n",
    "from sklearn.utils.class_weight import compute_sample_weight\n",
    "import numpy as np\n",
    "np.set_printoptions (threshold=None, edgeitems=None, linewidth=None, suppress=None)"
   ]
  },
  {
   "cell_type": "code",
   "execution_count": 2,
   "metadata": {},
   "outputs": [],
   "source": [
    "import torch"
   ]
  },
  {
   "cell_type": "code",
   "execution_count": 3,
   "metadata": {},
   "outputs": [],
   "source": [
    "def standardize(col):\n",
    "   return (col - col.mean()) / col.std()"
   ]
  },
  {
   "cell_type": "code",
   "execution_count": 4,
   "metadata": {},
   "outputs": [
    {
     "name": "stderr",
     "output_type": "stream",
     "text": [
      "/tmp/ipykernel_1637211/4036539136.py:3: DtypeWarning: Columns (63,68) have mixed types. Specify dtype option on import or set low_memory=False.\n",
      "  df = pd.read_csv(dataset_path)\n"
     ]
    }
   ],
   "source": [
    "dataset_path = \"/home/local/ASURITE/speddira/dev/traffic_sense_net/city_scale/processed_datasets/2024-2-16_1915hours_4jun_600_win_600twin.csv\"\n",
    "\n",
    "df = pd.read_csv(dataset_path)\n",
    "\n",
    "data_types = {\n",
    "    'incident_edge': 'object',  # Replace 'Column_Name1' with the actual column name\n",
    "    'incident_lane': 'object'  # Replace 'Column_Name2' with the actual column name\n",
    "}\n",
    "\n",
    "df = pd.read_csv(dataset_path,dtype=data_types)"
   ]
  },
  {
   "cell_type": "code",
   "execution_count": 5,
   "metadata": {},
   "outputs": [],
   "source": [
    "road_name_edge_id = {\n",
    "1:{\"934465920\",\"5614812#0\",\"889439250\",\"436794672#0\",\"1078715158\"},\n",
    "2:{\"532215357#0\",\"436794668#0\",\"436794668#7\",\"436794677#0\",\"436794673#0\"},\n",
    "3:{\"436791116\",\"436791119#0\",\"436791122#0\",\"436791121#0\",\"436791111\"},\n",
    "4:{\"1070423862#0\",\"5602753#1\",\"5602753#2\",\"436790493#0\",\"533573789#0\",\"533573789#2\",\"436790492#0\",\"436790484\",\"512811687#0\"},\n",
    "5:{\"436942365#0\",\"436942382#0\",\"436942369#0\",\"436942367\",\"436942384#0\",\"436942364\",\"436942372\",\"395215600\",\"966303717\",\"436942386#0\"},\n",
    "6:{\"532227836\",\"532227834#0\",\"436789544#0\",\"436789576#0\",\"436789539#0\",\"436789539#2\",\"436789539#7\",\"436789570#0\"},\n",
    "7:{\"-436942361#7\",\"-436942361#3\",\"-436942361#1\",\"-436942358#5\",\"-436942358#3\",\"-436942358#0\",\"345713658#0\"},\n",
    "8:{\"-436789319\",\"395490730\",\"1051025192\"},\n",
    "9:{\"436940273#0\",\"692089619#0\",\"692089616#0\",\"692089616#2\",\"436940272#0\",\"436940271#0\",\"5635238\",\"692089613#0\",\"692089613#2\",\"692089613#6\",\"692089611#0\"},\n",
    "10:{\"512810351#0\",\"436943782\",\"436943780\",\"436943781\"},\n",
    "11:{\"436943721\",\"436943716\",\"436943727#0\",\"406379830#0\",\"436943736\",\"436943731#0\",\"436943728\",\"436943723\",\"436943726\",\"436943720\",\"436943747#0\",\"436943754#0\",\"436943740\",\"436943735\",\"436943729\",\"436943741#0\",\"436943752#0\"},\n",
    "12:{\"-436943756#2\",\"-911576955#2\",\"909831620\",\"911576960\",\"-327757100#6\"}\n",
    "\n",
    "}"
   ]
  },
  {
   "cell_type": "code",
   "execution_count": 6,
   "metadata": {},
   "outputs": [
    {
     "name": "stderr",
     "output_type": "stream",
     "text": [
      "/tmp/ipykernel_1637211/2978030208.py:10: FutureWarning: Downcasting object dtype arrays on .fillna, .ffill, .bfill is deprecated and will change in a future version. Call result.infer_objects(copy=False) instead. To opt-in to the future behavior, set `pd.set_option('future.no_silent_downcasting', True)`\n",
      "  df = df.fillna(-1)\n"
     ]
    }
   ],
   "source": [
    "df = df[df[\"accident_label\"] == True]\n",
    "df['label'] = None\n",
    "\n",
    "for category, edges in road_name_edge_id.items():\n",
    "# Find rows where incident_edge is in the current set of edges\n",
    "    mask = df['incident_edge'].isin(edges)\n",
    "# Set the appropriate label column to 1 for these rows\n",
    "    df.loc[mask, 'label'] = category-1  # Adjusted index by -1 for zero-based indexing\n",
    "\n",
    "df = df.fillna(-1)\n",
    "\n",
    "Y = df[\"label\"]\n",
    "\n",
    "X = df.drop([\"incident_edge\",\"incident_start_time\",\"incident_type\",\"accident_id\",\"accident_duration\",\"incident_lane\",\"accident_label\",\"label\"],axis=1)\n",
    "X = X.apply(standardize)\n",
    "\n",
    "X = X.drop([\"Unnamed: 0\",\"step\"],axis=1)\n",
    "X= X.values\n",
    "Y= Y.values"
   ]
  },
  {
   "cell_type": "code",
   "execution_count": 7,
   "metadata": {},
   "outputs": [
    {
     "name": "stdout",
     "output_type": "stream",
     "text": [
      "Splitting into test train\n"
     ]
    }
   ],
   "source": [
    "print(\"Splitting into test train\")\n",
    "X_train, X_test, y_train, y_test = train_test_split(X, Y, test_size=0.2)"
   ]
  },
  {
   "cell_type": "code",
   "execution_count": 8,
   "metadata": {},
   "outputs": [
    {
     "name": "stderr",
     "output_type": "stream",
     "text": [
      "/home/local/ASURITE/speddira/miniconda3/envs/cobra/lib/python3.10/site-packages/pytorch_tabnet/abstract_model.py:82: UserWarning: Device used : cuda\n",
      "  warnings.warn(f\"Device used : {self.device}\")\n"
     ]
    }
   ],
   "source": [
    "clf = TabNetClassifier(n_d=64, n_a=64, momentum=0.3, n_steps=5, optimizer_fn=torch.optim.Adam,\n",
    "    optimizer_params=dict(lr=2e-2),\n",
    "    scheduler_params = {\"gamma\": 0.95,\n",
    "                     \"step_size\": 20},\n",
    "    scheduler_fn=torch.optim.lr_scheduler.StepLR, epsilon=1e-15)"
   ]
  },
  {
   "cell_type": "code",
   "execution_count": 9,
   "metadata": {},
   "outputs": [
    {
     "name": "stderr",
     "output_type": "stream",
     "text": [
      "/home/local/ASURITE/speddira/miniconda3/envs/cobra/lib/python3.10/site-packages/pytorch_tabnet/abstract_model.py:687: UserWarning: No early stopping will be performed, last training weights will be used.\n",
      "  warnings.warn(wrn_msg)\n"
     ]
    },
    {
     "name": "stdout",
     "output_type": "stream",
     "text": [
      "epoch 0  | loss: 1.34015 |  0:00:53s\n",
      "epoch 1  | loss: 0.37119 |  0:01:44s\n",
      "epoch 2  | loss: 0.09436 |  0:02:31s\n",
      "epoch 3  | loss: 0.05137 |  0:03:29s\n",
      "epoch 4  | loss: 0.03612 |  0:04:26s\n",
      "epoch 5  | loss: 0.0304  |  0:05:25s\n",
      "epoch 6  | loss: 0.02694 |  0:06:22s\n",
      "epoch 7  | loss: 0.02306 |  0:07:17s\n",
      "epoch 8  | loss: 0.02078 |  0:08:14s\n",
      "epoch 9  | loss: 0.02058 |  0:09:08s\n",
      "epoch 10 | loss: 0.01723 |  0:10:08s\n",
      "epoch 11 | loss: 0.0166  |  0:11:02s\n",
      "epoch 12 | loss: 0.01496 |  0:12:03s\n",
      "epoch 13 | loss: 0.01376 |  0:13:00s\n",
      "epoch 14 | loss: 0.01535 |  0:13:58s\n",
      "epoch 15 | loss: 0.01038 |  0:14:55s\n",
      "epoch 16 | loss: 0.01108 |  0:15:50s\n",
      "epoch 17 | loss: 0.01245 |  0:16:38s\n",
      "epoch 18 | loss: 0.01009 |  0:17:27s\n",
      "epoch 19 | loss: 0.00832 |  0:18:16s\n",
      "epoch 20 | loss: 0.01084 |  0:19:09s\n",
      "epoch 21 | loss: 0.00874 |  0:20:01s\n",
      "epoch 22 | loss: 0.00891 |  0:20:56s\n",
      "epoch 23 | loss: 0.00884 |  0:21:51s\n",
      "epoch 24 | loss: 0.00716 |  0:22:42s\n",
      "epoch 25 | loss: 0.0072  |  0:23:34s\n",
      "epoch 26 | loss: 0.00895 |  0:24:28s\n",
      "epoch 27 | loss: 0.00631 |  0:25:23s\n",
      "epoch 28 | loss: 0.00636 |  0:26:18s\n",
      "epoch 29 | loss: 0.00731 |  0:27:19s\n",
      "epoch 30 | loss: 0.00688 |  0:28:19s\n",
      "epoch 31 | loss: 0.0063  |  0:29:10s\n",
      "epoch 32 | loss: 0.00519 |  0:30:05s\n",
      "epoch 33 | loss: 0.0059  |  0:30:54s\n",
      "epoch 34 | loss: 0.00637 |  0:31:45s\n",
      "epoch 35 | loss: 0.00508 |  0:32:40s\n",
      "epoch 36 | loss: 0.00573 |  0:33:37s\n",
      "epoch 37 | loss: 0.00444 |  0:34:29s\n",
      "epoch 38 | loss: 0.00558 |  0:35:25s\n",
      "epoch 39 | loss: 0.00554 |  0:36:20s\n",
      "epoch 40 | loss: 0.00436 |  0:37:16s\n",
      "epoch 41 | loss: 0.00481 |  0:38:08s\n",
      "epoch 42 | loss: 0.00405 |  0:39:01s\n",
      "epoch 43 | loss: 0.00505 |  0:39:58s\n",
      "epoch 44 | loss: 0.00546 |  0:40:44s\n",
      "epoch 45 | loss: 0.00359 |  0:41:39s\n",
      "epoch 46 | loss: 0.0041  |  0:42:36s\n",
      "epoch 47 | loss: 0.00443 |  0:43:31s\n",
      "epoch 48 | loss: 0.0048  |  0:44:29s\n",
      "epoch 49 | loss: 0.00398 |  0:45:30s\n",
      "epoch 50 | loss: 0.003   |  0:46:24s\n",
      "epoch 51 | loss: 0.00406 |  0:47:14s\n",
      "epoch 52 | loss: 0.00359 |  0:48:03s\n",
      "epoch 53 | loss: 0.00396 |  0:48:58s\n",
      "epoch 54 | loss: 0.00429 |  0:49:58s\n",
      "epoch 55 | loss: 0.00333 |  0:50:51s\n",
      "epoch 56 | loss: 0.00363 |  0:51:56s\n",
      "epoch 57 | loss: 0.00321 |  0:52:48s\n",
      "epoch 58 | loss: 0.00346 |  0:53:34s\n",
      "epoch 59 | loss: 0.00391 |  0:54:25s\n",
      "epoch 60 | loss: 0.00331 |  0:55:31s\n",
      "epoch 61 | loss: 0.00288 |  0:56:29s\n",
      "epoch 62 | loss: 0.00435 |  0:57:27s\n",
      "epoch 63 | loss: 0.00284 |  0:58:24s\n",
      "epoch 64 | loss: 0.00303 |  0:59:12s\n",
      "epoch 65 | loss: 0.00439 |  1:00:10s\n",
      "epoch 66 | loss: 0.0032  |  1:01:03s\n",
      "epoch 67 | loss: 0.00308 |  1:01:55s\n",
      "epoch 68 | loss: 0.00348 |  1:02:47s\n",
      "epoch 69 | loss: 0.00401 |  1:03:44s\n",
      "epoch 70 | loss: 0.00266 |  1:04:40s\n",
      "epoch 71 | loss: 0.00268 |  1:05:37s\n",
      "epoch 72 | loss: 0.00322 |  1:06:33s\n",
      "epoch 73 | loss: 0.00287 |  1:07:26s\n",
      "epoch 74 | loss: 0.00319 |  1:08:21s\n",
      "epoch 75 | loss: 0.00291 |  1:09:18s\n",
      "epoch 76 | loss: 0.00291 |  1:10:07s\n",
      "epoch 77 | loss: 0.00311 |  1:11:00s\n",
      "epoch 78 | loss: 0.00309 |  1:11:55s\n",
      "epoch 79 | loss: 0.00273 |  1:12:50s\n"
     ]
    }
   ],
   "source": [
    "clf.fit(\n",
    "  X_train, y_train,num_workers = 10,max_epochs=80\n",
    ")"
   ]
  },
  {
   "cell_type": "code",
   "execution_count": 11,
   "metadata": {},
   "outputs": [
    {
     "name": "stdout",
     "output_type": "stream",
     "text": [
      "Successfully saved model at tab_net_4_jun_localize.zip\n"
     ]
    }
   ],
   "source": [
    "saving_path_name = \"tab_net_4_jun_localize\"\n",
    "saved_filepath = clf.save_model(saving_path_name)"
   ]
  },
  {
   "cell_type": "code",
   "execution_count": 10,
   "metadata": {},
   "outputs": [
    {
     "name": "stdout",
     "output_type": "stream",
     "text": [
      "Accuracy: 99.95%\n",
      "FAR 0.04509449346129202\n",
      "precision: 99.95%\n",
      "f1: 99.96%\n",
      "recall: 99.98%\n"
     ]
    }
   ],
   "source": [
    "X= X_test\n",
    "Y= y_test\n",
    "y_pred = clf.predict(X)\n",
    "y_pred = list(y_pred)\n",
    "y_test = list(Y)\n",
    "\n",
    "accuracy = accuracy_score(y_test, y_pred)*100\n",
    "precision = precision_score(y_test, y_pred,average = \"macro\")\n",
    "f1 = f1_score(y_test, y_pred,average = \"macro\")\n",
    "recall = recall_score(y_test, y_pred,average = \"macro\")\n",
    "print(\"Accuracy: %.2f%%\" % (accuracy))\n",
    "print(f\"FAR {100-accuracy}\")\n",
    "print(\"precision: %.2f%%\" % (precision * 100.0))\n",
    "print(\"f1: %.2f%%\" % (f1 * 100.0))\n",
    "print(\"recall: %.2f%%\" % (recall * 100.0))"
   ]
  },
  {
   "cell_type": "code",
   "execution_count": null,
   "metadata": {},
   "outputs": [],
   "source": []
  }
 ],
 "metadata": {
  "kernelspec": {
   "display_name": "Python 3 (ipykernel)",
   "language": "python",
   "name": "python3"
  }
 },
 "nbformat": 4,
 "nbformat_minor": 2
}
