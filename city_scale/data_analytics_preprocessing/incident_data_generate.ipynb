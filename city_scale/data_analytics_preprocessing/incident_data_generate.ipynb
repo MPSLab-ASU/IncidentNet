{
 "cells": [
  {
   "cell_type": "code",
   "execution_count": 3,
   "metadata": {},
   "outputs": [],
   "source": [
    "import pandas as pd"
   ]
  },
  {
   "cell_type": "code",
   "execution_count": 4,
   "metadata": {},
   "outputs": [],
   "source": [
    "raw_data = f\"/home/local/ASURITE/speddira/dev/archived/traffic_sense_net/city_scale/raw_datasets/trafficDataset_2024-2-16_1915hours_2592000steps.csv\""
   ]
  },
  {
   "cell_type": "code",
   "execution_count": 5,
   "metadata": {},
   "outputs": [],
   "source": [
    "# Exploring raw dataset"
   ]
  },
  {
   "cell_type": "code",
   "execution_count": 6,
   "metadata": {},
   "outputs": [
    {
     "name": "stderr",
     "output_type": "stream",
     "text": [
      "/tmp/ipykernel_433310/4210370588.py:1: DtypeWarning: Columns (10,12,14,16) have mixed types. Specify dtype option on import or set low_memory=False.\n",
      "  df = pd.read_csv(raw_data)\n"
     ]
    }
   ],
   "source": [
    "df = pd.read_csv(raw_data)"
   ]
  },
  {
   "cell_type": "code",
   "execution_count": 7,
   "metadata": {},
   "outputs": [
    {
     "name": "stdout",
     "output_type": "stream",
     "text": [
      "Index(['step', 'time_of_day', 'identified_edge', 'junction_mean_speed',\n",
      "       'traffic_count', 'traffic_occupancy', 'vehicles_per_lane_1',\n",
      "       'vehicles_per_lane_0', 'lane_mean_speed_0', 'lane_mean_speed_1',\n",
      "       'incident_edge', 'incident_start_time', 'incident_type',\n",
      "       'accident_label', 'accident_id', 'accident_duration', 'incident_lane'],\n",
      "      dtype='object')\n"
     ]
    }
   ],
   "source": [
    "print(df.columns)"
   ]
  },
  {
   "cell_type": "code",
   "execution_count": 10,
   "metadata": {},
   "outputs": [
    {
     "name": "stdout",
     "output_type": "stream",
     "text": [
      "> time_of_day : mean = 43199.5\n",
      "> junction_mean_speed : mean = 6.2749956622983545\n",
      "> traffic_count : mean = 2.8009439392269253\n",
      "> traffic_occupancy : mean = 0.06723721450838108\n",
      "> vehicles_per_lane_1 : mean = 0.7505871178718401\n",
      "> vehicles_per_lane_0 : mean = 0.954426917989418\n",
      "> lane_mean_speed_0 : mean = 6.427117795384521\n",
      "> lane_mean_speed_1 : mean = 6.488110213117882\n"
     ]
    }
   ],
   "source": [
    "print(f\"> time_of_day : mean = {df['time_of_day'].mean()}\")\n",
    "print(f\"> junction_mean_speed : mean = {df['junction_mean_speed'].mean()}\")\n",
    "print(f\"> traffic_count : mean = {df['traffic_count'].mean()}\")\n",
    "print(f\"> traffic_occupancy : mean = {df['traffic_occupancy'].mean()}\")\n",
    "print(f\"> vehicles_per_lane_1 : mean = {df['vehicles_per_lane_1'].mean()}\")\n",
    "print(f\"> vehicles_per_lane_0 : mean = {df['vehicles_per_lane_0'].mean()}\")\n",
    "print(f\"> lane_mean_speed_0 : mean = {df['lane_mean_speed_0'].mean()}\")\n",
    "print(f\"> lane_mean_speed_1 : mean = {df['lane_mean_speed_1'].mean()}\")"
   ]
  },
  {
   "cell_type": "code",
   "execution_count": 11,
   "metadata": {},
   "outputs": [
    {
     "name": "stdout",
     "output_type": "stream",
     "text": [
      "> time_of_day : mean = 24941.531741873143\n",
      "> junction_mean_speed : mean = 6.739877219264939\n",
      "> traffic_count : mean = 4.409552154621656\n",
      "> traffic_occupancy : mean = 0.10430443296540168\n",
      "> vehicles_per_lane_1 : mean = 1.4010183857602532\n",
      "> vehicles_per_lane_0 : mean = 1.6808605383541053\n",
      "> lane_mean_speed_0 : mean = 8.000877363566543\n",
      "> lane_mean_speed_1 : mean = 8.100514560194172\n"
     ]
    }
   ],
   "source": [
    "print(f\"> time_of_day : mean = {df['time_of_day'].std()}\")\n",
    "print(f\"> junction_mean_speed : mean = {df['junction_mean_speed'].std()}\")\n",
    "print(f\"> traffic_count : mean = {df['traffic_count'].std()}\")\n",
    "print(f\"> traffic_occupancy : mean = {df['traffic_occupancy'].std()}\")\n",
    "print(f\"> vehicles_per_lane_1 : mean = {df['vehicles_per_lane_1'].std()}\")\n",
    "print(f\"> vehicles_per_lane_0 : mean = {df['vehicles_per_lane_0'].std()}\")\n",
    "print(f\"> lane_mean_speed_0 : mean = {df['lane_mean_speed_0'].std()}\")\n",
    "print(f\"> lane_mean_speed_1 : mean = {df['lane_mean_speed_1'].std()}\")"
   ]
  },
  {
   "cell_type": "code",
   "execution_count": 12,
   "metadata": {},
   "outputs": [],
   "source": [
    "raw_data_vehicle = f\"/home/local/ASURITE/speddira/dev/archived/traffic_sense_net/city_scale/raw_datasets/vehicleDataset_2024-2-16_1915hours_2592000steps.csv\""
   ]
  },
  {
   "cell_type": "code",
   "execution_count": 13,
   "metadata": {},
   "outputs": [],
   "source": [
    "df_vehicle = pd.read_csv(raw_data_vehicle)"
   ]
  },
  {
   "cell_type": "code",
   "execution_count": 14,
   "metadata": {},
   "outputs": [
    {
     "data": {
      "text/plain": [
       "Index(['step', 'time_of_day', 'car_id', 'identified_edge', 'identified_lane',\n",
       "       'vehicle_speed', 'vehicle_acceleration'],\n",
       "      dtype='object')"
      ]
     },
     "execution_count": 14,
     "metadata": {},
     "output_type": "execute_result"
    }
   ],
   "source": [
    "df_vehicle.columns"
   ]
  },
  {
   "cell_type": "code",
   "execution_count": 15,
   "metadata": {},
   "outputs": [
    {
     "name": "stdout",
     "output_type": "stream",
     "text": [
      "> step : mean = 1287566.6035033534\n",
      "> time_of_day : mean = 34842.23772767879\n",
      "> vehicle_speed : mean = 4.236559232296789\n",
      "> vehicle_acceleration : mean = -0.06251854029763695\n"
     ]
    }
   ],
   "source": [
    "print(f\"> step : mean = {df_vehicle['step'].mean()}\")\n",
    "print(f\"> time_of_day : mean = {df_vehicle['time_of_day'].mean()}\")\n",
    "print(f\"> vehicle_speed : mean = {df_vehicle['vehicle_speed'].mean()}\")\n",
    "print(f\"> vehicle_acceleration : mean = {df_vehicle['vehicle_acceleration'].mean()}\")"
   ]
  },
  {
   "cell_type": "code",
   "execution_count": 16,
   "metadata": {},
   "outputs": [
    {
     "name": "stdout",
     "output_type": "stream",
     "text": [
      "> step : std = 748867.0366722837\n",
      "> time_of_day : std = 23092.331963811575\n",
      "> vehicle_speed : std = 6.128495987684285\n",
      "> vehicle_acceleration : std = 1.3273572131450249\n"
     ]
    }
   ],
   "source": [
    "print(f\"> step : std = {df_vehicle['step'].std()}\")\n",
    "print(f\"> time_of_day : std = {df_vehicle['time_of_day'].std()}\")\n",
    "print(f\"> vehicle_speed : std = {df_vehicle['vehicle_speed'].std()}\")\n",
    "print(f\"> vehicle_acceleration : std = {df_vehicle['vehicle_acceleration'].std()}\")"
   ]
  },
  {
   "cell_type": "code",
   "execution_count": 5,
   "metadata": {},
   "outputs": [
    {
     "data": {
      "text/html": [
       "<div>\n",
       "<style scoped>\n",
       "    .dataframe tbody tr th:only-of-type {\n",
       "        vertical-align: middle;\n",
       "    }\n",
       "\n",
       "    .dataframe tbody tr th {\n",
       "        vertical-align: top;\n",
       "    }\n",
       "\n",
       "    .dataframe thead th {\n",
       "        text-align: right;\n",
       "    }\n",
       "</style>\n",
       "<table border=\"1\" class=\"dataframe\">\n",
       "  <thead>\n",
       "    <tr style=\"text-align: right;\">\n",
       "      <th></th>\n",
       "      <th>step</th>\n",
       "      <th>time_of_day</th>\n",
       "      <th>identified_edge</th>\n",
       "      <th>junction_mean_speed</th>\n",
       "      <th>traffic_count</th>\n",
       "      <th>traffic_occupancy</th>\n",
       "      <th>vehicles_per_lane_1</th>\n",
       "      <th>vehicles_per_lane_0</th>\n",
       "      <th>lane_mean_speed_0</th>\n",
       "      <th>lane_mean_speed_1</th>\n",
       "      <th>incident_edge</th>\n",
       "      <th>incident_start_time</th>\n",
       "      <th>incident_type</th>\n",
       "      <th>accident_label</th>\n",
       "      <th>accident_id</th>\n",
       "      <th>accident_duration</th>\n",
       "      <th>incident_lane</th>\n",
       "    </tr>\n",
       "  </thead>\n",
       "  <tbody>\n",
       "    <tr>\n",
       "      <th>0</th>\n",
       "      <td>0</td>\n",
       "      <td>0</td>\n",
       "      <td>436794670</td>\n",
       "      <td>0.0</td>\n",
       "      <td>0</td>\n",
       "      <td>0.0</td>\n",
       "      <td>0</td>\n",
       "      <td>0</td>\n",
       "      <td>0.0</td>\n",
       "      <td>0.0</td>\n",
       "      <td>NaN</td>\n",
       "      <td>0</td>\n",
       "      <td>NaN</td>\n",
       "      <td>False</td>\n",
       "      <td>NaN</td>\n",
       "      <td>0</td>\n",
       "      <td>-1</td>\n",
       "    </tr>\n",
       "    <tr>\n",
       "      <th>1</th>\n",
       "      <td>0</td>\n",
       "      <td>0</td>\n",
       "      <td>436791113#0</td>\n",
       "      <td>0.0</td>\n",
       "      <td>0</td>\n",
       "      <td>0.0</td>\n",
       "      <td>0</td>\n",
       "      <td>0</td>\n",
       "      <td>0.0</td>\n",
       "      <td>0.0</td>\n",
       "      <td>NaN</td>\n",
       "      <td>0</td>\n",
       "      <td>NaN</td>\n",
       "      <td>False</td>\n",
       "      <td>NaN</td>\n",
       "      <td>0</td>\n",
       "      <td>-1</td>\n",
       "    </tr>\n",
       "    <tr>\n",
       "      <th>2</th>\n",
       "      <td>0</td>\n",
       "      <td>0</td>\n",
       "      <td>436794680#0</td>\n",
       "      <td>0.0</td>\n",
       "      <td>0</td>\n",
       "      <td>0.0</td>\n",
       "      <td>0</td>\n",
       "      <td>0</td>\n",
       "      <td>0.0</td>\n",
       "      <td>0.0</td>\n",
       "      <td>NaN</td>\n",
       "      <td>0</td>\n",
       "      <td>NaN</td>\n",
       "      <td>False</td>\n",
       "      <td>NaN</td>\n",
       "      <td>0</td>\n",
       "      <td>-1</td>\n",
       "    </tr>\n",
       "    <tr>\n",
       "      <th>3</th>\n",
       "      <td>0</td>\n",
       "      <td>0</td>\n",
       "      <td>436940278</td>\n",
       "      <td>0.0</td>\n",
       "      <td>0</td>\n",
       "      <td>0.0</td>\n",
       "      <td>0</td>\n",
       "      <td>0</td>\n",
       "      <td>0.0</td>\n",
       "      <td>0.0</td>\n",
       "      <td>NaN</td>\n",
       "      <td>0</td>\n",
       "      <td>NaN</td>\n",
       "      <td>False</td>\n",
       "      <td>NaN</td>\n",
       "      <td>0</td>\n",
       "      <td>-1</td>\n",
       "    </tr>\n",
       "    <tr>\n",
       "      <th>4</th>\n",
       "      <td>0</td>\n",
       "      <td>0</td>\n",
       "      <td>-643913497</td>\n",
       "      <td>0.0</td>\n",
       "      <td>0</td>\n",
       "      <td>0.0</td>\n",
       "      <td>0</td>\n",
       "      <td>0</td>\n",
       "      <td>0.0</td>\n",
       "      <td>0.0</td>\n",
       "      <td>NaN</td>\n",
       "      <td>0</td>\n",
       "      <td>NaN</td>\n",
       "      <td>False</td>\n",
       "      <td>NaN</td>\n",
       "      <td>0</td>\n",
       "      <td>-1</td>\n",
       "    </tr>\n",
       "  </tbody>\n",
       "</table>\n",
       "</div>"
      ],
      "text/plain": [
       "   step  time_of_day identified_edge  junction_mean_speed  traffic_count  \\\n",
       "0     0            0       436794670                  0.0              0   \n",
       "1     0            0     436791113#0                  0.0              0   \n",
       "2     0            0     436794680#0                  0.0              0   \n",
       "3     0            0       436940278                  0.0              0   \n",
       "4     0            0      -643913497                  0.0              0   \n",
       "\n",
       "   traffic_occupancy  vehicles_per_lane_1  vehicles_per_lane_0  \\\n",
       "0                0.0                    0                    0   \n",
       "1                0.0                    0                    0   \n",
       "2                0.0                    0                    0   \n",
       "3                0.0                    0                    0   \n",
       "4                0.0                    0                    0   \n",
       "\n",
       "   lane_mean_speed_0  lane_mean_speed_1 incident_edge  incident_start_time  \\\n",
       "0                0.0                0.0           NaN                    0   \n",
       "1                0.0                0.0           NaN                    0   \n",
       "2                0.0                0.0           NaN                    0   \n",
       "3                0.0                0.0           NaN                    0   \n",
       "4                0.0                0.0           NaN                    0   \n",
       "\n",
       "  incident_type  accident_label accident_id  accident_duration incident_lane  \n",
       "0           NaN           False         NaN                  0            -1  \n",
       "1           NaN           False         NaN                  0            -1  \n",
       "2           NaN           False         NaN                  0            -1  \n",
       "3           NaN           False         NaN                  0            -1  \n",
       "4           NaN           False         NaN                  0            -1  "
      ]
     },
     "execution_count": 5,
     "metadata": {},
     "output_type": "execute_result"
    }
   ],
   "source": [
    "df.head()"
   ]
  },
  {
   "cell_type": "code",
   "execution_count": 6,
   "metadata": {},
   "outputs": [],
   "source": [
    "df_incident = df[df[\"accident_label\"]][[\"step\",\"time_of_day\",\"incident_edge\",\"incident_start_time\",\"incident_type\",\"accident_label\",\"accident_id\",\"accident_duration\"]]"
   ]
  },
  {
   "cell_type": "code",
   "execution_count": 7,
   "metadata": {},
   "outputs": [
    {
     "data": {
      "text/html": [
       "<div>\n",
       "<style scoped>\n",
       "    .dataframe tbody tr th:only-of-type {\n",
       "        vertical-align: middle;\n",
       "    }\n",
       "\n",
       "    .dataframe tbody tr th {\n",
       "        vertical-align: top;\n",
       "    }\n",
       "\n",
       "    .dataframe thead th {\n",
       "        text-align: right;\n",
       "    }\n",
       "</style>\n",
       "<table border=\"1\" class=\"dataframe\">\n",
       "  <thead>\n",
       "    <tr style=\"text-align: right;\">\n",
       "      <th></th>\n",
       "      <th>step</th>\n",
       "      <th>time_of_day</th>\n",
       "      <th>incident_edge</th>\n",
       "      <th>incident_start_time</th>\n",
       "      <th>incident_type</th>\n",
       "      <th>accident_label</th>\n",
       "      <th>accident_id</th>\n",
       "      <th>accident_duration</th>\n",
       "    </tr>\n",
       "  </thead>\n",
       "  <tbody>\n",
       "    <tr>\n",
       "      <th>328692</th>\n",
       "      <td>7826</td>\n",
       "      <td>7826</td>\n",
       "      <td>436943731#0</td>\n",
       "      <td>7825</td>\n",
       "      <td>multi_vehicle_collision</td>\n",
       "      <td>True</td>\n",
       "      <td>acc7825</td>\n",
       "      <td>5982</td>\n",
       "    </tr>\n",
       "    <tr>\n",
       "      <th>328693</th>\n",
       "      <td>7826</td>\n",
       "      <td>7826</td>\n",
       "      <td>436943731#0</td>\n",
       "      <td>7825</td>\n",
       "      <td>multi_vehicle_collision</td>\n",
       "      <td>True</td>\n",
       "      <td>acc7825</td>\n",
       "      <td>5982</td>\n",
       "    </tr>\n",
       "    <tr>\n",
       "      <th>328694</th>\n",
       "      <td>7826</td>\n",
       "      <td>7826</td>\n",
       "      <td>436943731#0</td>\n",
       "      <td>7825</td>\n",
       "      <td>multi_vehicle_collision</td>\n",
       "      <td>True</td>\n",
       "      <td>acc7825</td>\n",
       "      <td>5982</td>\n",
       "    </tr>\n",
       "    <tr>\n",
       "      <th>328695</th>\n",
       "      <td>7826</td>\n",
       "      <td>7826</td>\n",
       "      <td>436943731#0</td>\n",
       "      <td>7825</td>\n",
       "      <td>multi_vehicle_collision</td>\n",
       "      <td>True</td>\n",
       "      <td>acc7825</td>\n",
       "      <td>5982</td>\n",
       "    </tr>\n",
       "    <tr>\n",
       "      <th>328696</th>\n",
       "      <td>7826</td>\n",
       "      <td>7826</td>\n",
       "      <td>436943731#0</td>\n",
       "      <td>7825</td>\n",
       "      <td>multi_vehicle_collision</td>\n",
       "      <td>True</td>\n",
       "      <td>acc7825</td>\n",
       "      <td>5982</td>\n",
       "    </tr>\n",
       "  </tbody>\n",
       "</table>\n",
       "</div>"
      ],
      "text/plain": [
       "        step  time_of_day incident_edge  incident_start_time  \\\n",
       "328692  7826         7826   436943731#0                 7825   \n",
       "328693  7826         7826   436943731#0                 7825   \n",
       "328694  7826         7826   436943731#0                 7825   \n",
       "328695  7826         7826   436943731#0                 7825   \n",
       "328696  7826         7826   436943731#0                 7825   \n",
       "\n",
       "                  incident_type  accident_label accident_id  accident_duration  \n",
       "328692  multi_vehicle_collision            True     acc7825               5982  \n",
       "328693  multi_vehicle_collision            True     acc7825               5982  \n",
       "328694  multi_vehicle_collision            True     acc7825               5982  \n",
       "328695  multi_vehicle_collision            True     acc7825               5982  \n",
       "328696  multi_vehicle_collision            True     acc7825               5982  "
      ]
     },
     "execution_count": 7,
     "metadata": {},
     "output_type": "execute_result"
    }
   ],
   "source": [
    "df_incident.head()"
   ]
  },
  {
   "cell_type": "code",
   "execution_count": 8,
   "metadata": {},
   "outputs": [],
   "source": [
    "df_incident_unique = df_incident.groupby([\"accident_id\"]).first().reset_index()"
   ]
  },
  {
   "cell_type": "code",
   "execution_count": 9,
   "metadata": {},
   "outputs": [
    {
     "data": {
      "text/html": [
       "<div>\n",
       "<style scoped>\n",
       "    .dataframe tbody tr th:only-of-type {\n",
       "        vertical-align: middle;\n",
       "    }\n",
       "\n",
       "    .dataframe tbody tr th {\n",
       "        vertical-align: top;\n",
       "    }\n",
       "\n",
       "    .dataframe thead th {\n",
       "        text-align: right;\n",
       "    }\n",
       "</style>\n",
       "<table border=\"1\" class=\"dataframe\">\n",
       "  <thead>\n",
       "    <tr style=\"text-align: right;\">\n",
       "      <th></th>\n",
       "      <th>accident_id</th>\n",
       "      <th>step</th>\n",
       "      <th>time_of_day</th>\n",
       "      <th>incident_edge</th>\n",
       "      <th>incident_start_time</th>\n",
       "      <th>incident_type</th>\n",
       "      <th>accident_label</th>\n",
       "      <th>accident_duration</th>\n",
       "    </tr>\n",
       "  </thead>\n",
       "  <tbody>\n",
       "    <tr>\n",
       "      <th>292</th>\n",
       "      <td>acc7825</td>\n",
       "      <td>7826</td>\n",
       "      <td>7826</td>\n",
       "      <td>436943731#0</td>\n",
       "      <td>7825</td>\n",
       "      <td>multi_vehicle_collision</td>\n",
       "      <td>True</td>\n",
       "      <td>5982</td>\n",
       "    </tr>\n",
       "    <tr>\n",
       "      <th>78</th>\n",
       "      <td>acc15683</td>\n",
       "      <td>15684</td>\n",
       "      <td>15684</td>\n",
       "      <td>436942386#0</td>\n",
       "      <td>15683</td>\n",
       "      <td>multi_vehicle_collision</td>\n",
       "      <td>True</td>\n",
       "      <td>4993</td>\n",
       "    </tr>\n",
       "    <tr>\n",
       "      <th>188</th>\n",
       "      <td>acc23568</td>\n",
       "      <td>23569</td>\n",
       "      <td>23569</td>\n",
       "      <td>-327757100#6</td>\n",
       "      <td>23568</td>\n",
       "      <td>stalled_vehicle</td>\n",
       "      <td>True</td>\n",
       "      <td>1419</td>\n",
       "    </tr>\n",
       "    <tr>\n",
       "      <th>228</th>\n",
       "      <td>acc31505</td>\n",
       "      <td>31506</td>\n",
       "      <td>31506</td>\n",
       "      <td>-436789319</td>\n",
       "      <td>31505</td>\n",
       "      <td>multi_vehicle_collision</td>\n",
       "      <td>True</td>\n",
       "      <td>3626</td>\n",
       "    </tr>\n",
       "    <tr>\n",
       "      <th>239</th>\n",
       "      <td>acc39444</td>\n",
       "      <td>39445</td>\n",
       "      <td>39445</td>\n",
       "      <td>512810351#0</td>\n",
       "      <td>39444</td>\n",
       "      <td>stalled_vehicle</td>\n",
       "      <td>True</td>\n",
       "      <td>1196</td>\n",
       "    </tr>\n",
       "  </tbody>\n",
       "</table>\n",
       "</div>"
      ],
      "text/plain": [
       "    accident_id   step  time_of_day incident_edge  incident_start_time  \\\n",
       "292     acc7825   7826         7826   436943731#0                 7825   \n",
       "78     acc15683  15684        15684   436942386#0                15683   \n",
       "188    acc23568  23569        23569  -327757100#6                23568   \n",
       "228    acc31505  31506        31506    -436789319                31505   \n",
       "239    acc39444  39445        39445   512810351#0                39444   \n",
       "\n",
       "               incident_type  accident_label  accident_duration  \n",
       "292  multi_vehicle_collision            True               5982  \n",
       "78   multi_vehicle_collision            True               4993  \n",
       "188          stalled_vehicle            True               1419  \n",
       "228  multi_vehicle_collision            True               3626  \n",
       "239          stalled_vehicle            True               1196  "
      ]
     },
     "execution_count": 9,
     "metadata": {},
     "output_type": "execute_result"
    }
   ],
   "source": [
    "df_incident_unique = df_incident_unique.sort_values(by = \"step\")\n",
    "df_incident_unique.head()"
   ]
  },
  {
   "cell_type": "code",
   "execution_count": 10,
   "metadata": {},
   "outputs": [
    {
     "name": "stdout",
     "output_type": "stream",
     "text": [
      "Total number of incidents 323\n",
      "Average accident clearence time 3397.4241486068113\n",
      "Max accident clearence time 7193\n",
      "Min accident clearence time 902\n",
      "Median accident clearence time 2827.0\n"
     ]
    }
   ],
   "source": [
    "print(f\"Total number of incidents {df_incident_unique.shape[0]}\")\n",
    "print(f\"Average accident clearence time {df_incident_unique['accident_duration'].mean()}\")\n",
    "print(f\"Max accident clearence time {df_incident_unique['accident_duration'].max()}\")\n",
    "print(f\"Min accident clearence time {df_incident_unique['accident_duration'].min()}\")\n",
    "print(f\"Median accident clearence time {df_incident_unique['accident_duration'].median()}\")\n"
   ]
  },
  {
   "cell_type": "code",
   "execution_count": 11,
   "metadata": {},
   "outputs": [
    {
     "name": "stdout",
     "output_type": "stream",
     "text": [
      "Suffix used  2024-2-16_1915hours_2592000steps.csv\n"
     ]
    }
   ],
   "source": [
    "suffix = raw_data.split(\"trafficDataset_\")[-1]\n",
    "print(\"Suffix used \",suffix)\n",
    "df_incident_unique.to_csv(f\"/home/local/ASURITE/speddira/dev/git_repo/traffic_sense_net/city_scale/processed_datasets/incidents_{suffix}\")"
   ]
  },
  {
   "cell_type": "code",
   "execution_count": null,
   "metadata": {},
   "outputs": [],
   "source": []
  }
 ],
 "metadata": {
  "kernelspec": {
   "display_name": "Python 3 (ipykernel)",
   "language": "python",
   "name": "python3"
  },
  "language_info": {
   "codemirror_mode": {
    "name": "ipython",
    "version": 3
   },
   "file_extension": ".py",
   "mimetype": "text/x-python",
   "name": "python",
   "nbconvert_exporter": "python",
   "pygments_lexer": "ipython3",
   "version": "3.10.13"
  }
 },
 "nbformat": 4,
 "nbformat_minor": 2
}
