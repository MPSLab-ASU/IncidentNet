{
 "cells": [
  {
   "cell_type": "code",
   "execution_count": 1,
   "metadata": {
    "tags": []
   },
   "outputs": [],
   "source": [
    "import pandas as dd\n",
    "import numpy as np"
   ]
  },
  {
   "cell_type": "code",
   "execution_count": 4,
   "metadata": {
    "tags": []
   },
   "outputs": [],
   "source": [
    "TRAFFIC_DATASET = \"/home/local/ASURITE/speddira/dev/traffic_sense_net/city_scale/raw_datasets/trafficDataset_2024-2-16_1915hours_2592000steps.csv\"\n",
    "NUM_OF_JUNCTIONS = 5"
   ]
  },
  {
   "cell_type": "code",
   "execution_count": 5,
   "metadata": {
    "tags": []
   },
   "outputs": [],
   "source": [
    "dtype = {\n",
    "    'step' : 'int64',\n",
    "    'time_of_day' : 'int64',\n",
    "    'identified_edge' : 'object',\n",
    "    'junction_mean_speed' : 'float64',\n",
    "    'traffic_count' : 'float64',\n",
    "    'traffic_occupancy' : 'float64',\n",
    "    'vehicles_per_lane_1' : 'int64',\n",
    "    'vehicles_per_lane_0' : 'int64',\n",
    "    'lane_mean_speed_0' : 'float64',\n",
    "    'lane_mean_speed_1' : 'float64',\n",
    "    'incident_edge': 'object',\n",
    "    'incident_start_time': 'float64',\n",
    "    'incident_type': 'object',\n",
    "    'accident_label': 'bool',\n",
    "    'accident_id': 'object',\n",
    "    'accident_duration': 'float64',\n",
    "    'incident_lane': 'object'\n",
    "}\n",
    "df_traffic = dd.read_csv(TRAFFIC_DATASET,dtype=dtype)"
   ]
  },
  {
   "cell_type": "code",
   "execution_count": 6,
   "metadata": {
    "tags": []
   },
   "outputs": [
    {
     "data": {
      "text/html": [
       "<div>\n",
       "<style scoped>\n",
       "    .dataframe tbody tr th:only-of-type {\n",
       "        vertical-align: middle;\n",
       "    }\n",
       "\n",
       "    .dataframe tbody tr th {\n",
       "        vertical-align: top;\n",
       "    }\n",
       "\n",
       "    .dataframe thead th {\n",
       "        text-align: right;\n",
       "    }\n",
       "</style>\n",
       "<table border=\"1\" class=\"dataframe\">\n",
       "  <thead>\n",
       "    <tr style=\"text-align: right;\">\n",
       "      <th></th>\n",
       "      <th>step</th>\n",
       "      <th>time_of_day</th>\n",
       "      <th>identified_edge</th>\n",
       "      <th>junction_mean_speed</th>\n",
       "      <th>traffic_count</th>\n",
       "      <th>traffic_occupancy</th>\n",
       "      <th>vehicles_per_lane_1</th>\n",
       "      <th>vehicles_per_lane_0</th>\n",
       "      <th>lane_mean_speed_0</th>\n",
       "      <th>lane_mean_speed_1</th>\n",
       "      <th>incident_edge</th>\n",
       "      <th>incident_start_time</th>\n",
       "      <th>incident_type</th>\n",
       "      <th>accident_label</th>\n",
       "      <th>accident_id</th>\n",
       "      <th>accident_duration</th>\n",
       "      <th>incident_lane</th>\n",
       "    </tr>\n",
       "  </thead>\n",
       "  <tbody>\n",
       "    <tr>\n",
       "      <th>0</th>\n",
       "      <td>0</td>\n",
       "      <td>0</td>\n",
       "      <td>436794670</td>\n",
       "      <td>0.0</td>\n",
       "      <td>0.0</td>\n",
       "      <td>0.0</td>\n",
       "      <td>0</td>\n",
       "      <td>0</td>\n",
       "      <td>0.0</td>\n",
       "      <td>0.0</td>\n",
       "      <td>NaN</td>\n",
       "      <td>0.0</td>\n",
       "      <td>NaN</td>\n",
       "      <td>False</td>\n",
       "      <td>NaN</td>\n",
       "      <td>0.0</td>\n",
       "      <td>-1</td>\n",
       "    </tr>\n",
       "    <tr>\n",
       "      <th>1</th>\n",
       "      <td>0</td>\n",
       "      <td>0</td>\n",
       "      <td>436791113#0</td>\n",
       "      <td>0.0</td>\n",
       "      <td>0.0</td>\n",
       "      <td>0.0</td>\n",
       "      <td>0</td>\n",
       "      <td>0</td>\n",
       "      <td>0.0</td>\n",
       "      <td>0.0</td>\n",
       "      <td>NaN</td>\n",
       "      <td>0.0</td>\n",
       "      <td>NaN</td>\n",
       "      <td>False</td>\n",
       "      <td>NaN</td>\n",
       "      <td>0.0</td>\n",
       "      <td>-1</td>\n",
       "    </tr>\n",
       "    <tr>\n",
       "      <th>2</th>\n",
       "      <td>0</td>\n",
       "      <td>0</td>\n",
       "      <td>436794680#0</td>\n",
       "      <td>0.0</td>\n",
       "      <td>0.0</td>\n",
       "      <td>0.0</td>\n",
       "      <td>0</td>\n",
       "      <td>0</td>\n",
       "      <td>0.0</td>\n",
       "      <td>0.0</td>\n",
       "      <td>NaN</td>\n",
       "      <td>0.0</td>\n",
       "      <td>NaN</td>\n",
       "      <td>False</td>\n",
       "      <td>NaN</td>\n",
       "      <td>0.0</td>\n",
       "      <td>-1</td>\n",
       "    </tr>\n",
       "    <tr>\n",
       "      <th>3</th>\n",
       "      <td>0</td>\n",
       "      <td>0</td>\n",
       "      <td>436940278</td>\n",
       "      <td>0.0</td>\n",
       "      <td>0.0</td>\n",
       "      <td>0.0</td>\n",
       "      <td>0</td>\n",
       "      <td>0</td>\n",
       "      <td>0.0</td>\n",
       "      <td>0.0</td>\n",
       "      <td>NaN</td>\n",
       "      <td>0.0</td>\n",
       "      <td>NaN</td>\n",
       "      <td>False</td>\n",
       "      <td>NaN</td>\n",
       "      <td>0.0</td>\n",
       "      <td>-1</td>\n",
       "    </tr>\n",
       "    <tr>\n",
       "      <th>4</th>\n",
       "      <td>0</td>\n",
       "      <td>0</td>\n",
       "      <td>-643913497</td>\n",
       "      <td>0.0</td>\n",
       "      <td>0.0</td>\n",
       "      <td>0.0</td>\n",
       "      <td>0</td>\n",
       "      <td>0</td>\n",
       "      <td>0.0</td>\n",
       "      <td>0.0</td>\n",
       "      <td>NaN</td>\n",
       "      <td>0.0</td>\n",
       "      <td>NaN</td>\n",
       "      <td>False</td>\n",
       "      <td>NaN</td>\n",
       "      <td>0.0</td>\n",
       "      <td>-1</td>\n",
       "    </tr>\n",
       "  </tbody>\n",
       "</table>\n",
       "</div>"
      ],
      "text/plain": [
       "   step  time_of_day identified_edge  junction_mean_speed  traffic_count  \\\n",
       "0     0            0       436794670                  0.0            0.0   \n",
       "1     0            0     436791113#0                  0.0            0.0   \n",
       "2     0            0     436794680#0                  0.0            0.0   \n",
       "3     0            0       436940278                  0.0            0.0   \n",
       "4     0            0      -643913497                  0.0            0.0   \n",
       "\n",
       "   traffic_occupancy  vehicles_per_lane_1  vehicles_per_lane_0  \\\n",
       "0                0.0                    0                    0   \n",
       "1                0.0                    0                    0   \n",
       "2                0.0                    0                    0   \n",
       "3                0.0                    0                    0   \n",
       "4                0.0                    0                    0   \n",
       "\n",
       "   lane_mean_speed_0  lane_mean_speed_1 incident_edge  incident_start_time  \\\n",
       "0                0.0                0.0           NaN                  0.0   \n",
       "1                0.0                0.0           NaN                  0.0   \n",
       "2                0.0                0.0           NaN                  0.0   \n",
       "3                0.0                0.0           NaN                  0.0   \n",
       "4                0.0                0.0           NaN                  0.0   \n",
       "\n",
       "  incident_type  accident_label accident_id  accident_duration incident_lane  \n",
       "0           NaN           False         NaN                0.0            -1  \n",
       "1           NaN           False         NaN                0.0            -1  \n",
       "2           NaN           False         NaN                0.0            -1  \n",
       "3           NaN           False         NaN                0.0            -1  \n",
       "4           NaN           False         NaN                0.0            -1  "
      ]
     },
     "execution_count": 6,
     "metadata": {},
     "output_type": "execute_result"
    }
   ],
   "source": [
    "df_traffic.head()"
   ]
  },
  {
   "cell_type": "code",
   "execution_count": 7,
   "metadata": {
    "tags": []
   },
   "outputs": [],
   "source": [
    "df = df_traffic[['step','identified_edge','junction_mean_speed','traffic_count','traffic_occupancy']]"
   ]
  },
  {
   "cell_type": "code",
   "execution_count": 8,
   "metadata": {
    "tags": []
   },
   "outputs": [],
   "source": [
    "'''\n",
    "Junction Numbering\n",
    "-1- - 2 - - 3-\n",
    " |    |     |\n",
    "-4- - 5 - - 6-\n",
    " |    |     |\n",
    "-7- - 8 - - 9-\n",
    "'''\n",
    "\n",
    "junction_1 = [\"533573776#0\",\"436794680#0\",\"5607328#0\",\"436791113#0\"]\n",
    "junction_2 = [\"436794679#0\",\"-436794679#3\",\"-1088637809#1\",\"436794670\",\"436942385#0\",\"1051038541#0\"]\n",
    "junction_3 = [\"-436794676#1\",\"436794669\",\"531969915#0\",\"436942357\"]\n",
    "junction_4 = [] #As we are considering atmost 8 junctions\n",
    "junction_5 = [\"30031286#0\",\"436790491\",\"436942381#0\",\"-436942381#3\",\"436790495\",\"533371302#0\",\"-1033824750\",\"436942374\"]\n",
    "junction_6 = [\"-436942362#3\",\"436942362#0\",\"436789564#0\",\"436789580#1\",\"436942356#0\",\"-436942356#1\"]\n",
    "junction_7 = [\"436940270\",\"-643913497\",\"519448767\",\"436940278\"]\n",
    "junction_8 = [\"436943742\",\"351673438\",\"436943774\",\"-613687451#1\",\"-436943745#2\",\"436943745#0\"]\n",
    "junction_9 = [\"-436943762#2\",\"436943762#0\",\"436943743#0\",\"436943750#0\"]"
   ]
  },
  {
   "cell_type": "code",
   "execution_count": 9,
   "metadata": {
    "tags": []
   },
   "outputs": [],
   "source": [
    "road_name_edge_id = {\n",
    "    1:{\"934465920\",\"5614812#0\",\"889439250\",\"436794672#0\",\"1078715158\"},\n",
    "    2:{\"532215357#0\",\"436794668#0\",\"436794668#7\",\"436794677#0\",\"436794673#0\"},\n",
    "    3:{\"436791116\",\"436791119#0\",\"436791122#0\",\"436791121#0\",\"436791111\"},\n",
    "    4:{\"1070423862#0\",\"5602753#1\",\"5602753#2\",\"436790493#0\",\"533573789#0\",\"533573789#2\",\"436790492#0\",\"436790484\",\"512811687#0\"},\n",
    "    5:{\"436942365#0\",\"436942382#0\",\"436942369#0\",\"436942367\",\"436942384#0\",\"436942364\",\"436942372\",\"395215600\",\"966303717\",\"436942386#0\"},\n",
    "    6:{\"532227836\",\"532227834#0\",\"436789544#0\",\"436789576#0\",\"436789539#0\",\"436789539#2\",\"436789539#7\",\"436789570#0\"},\n",
    "    7:{\"-436942361#7\",\"-436942361#3\",\"-436942361#1\",\"-436942358#5\",\"-436942358#3\",\"-436942358#0\",\"345713658#0\"},\n",
    "    8:{\"-436789319\",\"395490730\",\"1051025192\"},\n",
    "    9:{\"436940273#0\",\"692089619#0\",\"692089616#0\",\"692089616#2\",\"436940272#0\",\"436940271#0\",\"5635238\",\"692089613#0\",\"692089613#2\",\"692089613#6\",\"692089611#0\"},\n",
    "    10:{\"512810351#0\",\"436943782\",\"436943780\",\"436943781\"},\n",
    "    11:{\"436943721\",\"436943716\",\"436943727#0\",\"406379830#0\",\"436943736\",\"436943731#0\",\"436943728\",\"436943723\",\"436943726\",\"436943720\",\"436943747#0\",\"436943754#0\",\"436943740\",\"436943735\",\"436943729\",\"436943741#0\",\"436943752#0\"},\n",
    "    12:{\"-436943756#2\",\"-911576955#2\",\"909831620\",\"911576960\",\"-327757100#6\"}\n",
    "\n",
    "}\n"
   ]
  },
  {
   "cell_type": "code",
   "execution_count": 10,
   "metadata": {
    "tags": []
   },
   "outputs": [
    {
     "name": "stdout",
     "output_type": "stream",
     "text": [
      " Number of junctions considered 5\n",
      "Total sensors 24\n"
     ]
    }
   ],
   "source": [
    "\n",
    "if NUM_OF_JUNCTIONS == 3:\n",
    "    print(f\" Number of junctions considered 3\")\n",
    "    column_order = junction_1 + junction_5 +  junction_9\n",
    "    \n",
    "elif NUM_OF_JUNCTIONS == 4:\n",
    "    print(f\" Number of junctions considered 4\")\n",
    "    column_order = junction_1 + junction_5 + junction_7 +junction_9\n",
    "    \n",
    "elif NUM_OF_JUNCTIONS == 5:\n",
    "    print(f\" Number of junctions considered 5\")\n",
    "    column_order = junction_1 + junction_3+ junction_5 + junction_7+ junction_9\n",
    "    \n",
    "elif NUM_OF_JUNCTIONS == 6:\n",
    "    print(f\" Number of junctions considered 6\")\n",
    "    column_order = junction_1 + junction_3+ junction_5 + junction_6+ junction_7+ junction_9\n",
    "    \n",
    "elif NUM_OF_JUNCTIONS == 7:\n",
    "    print(f\" Number of junctions considered 7\")\n",
    "    column_order = junction_1 + junction_2 + junction_3+ junction_5 + junction_6+ junction_7+ junction_9\n",
    "    \n",
    "elif NUM_OF_JUNCTIONS == 8:\n",
    "    print(f\" Number of junctions considered 8\")\n",
    "    column_order = junction_1 + junction_2 + junction_3+ junction_5 + junction_6+ junction_7 + junction_8 + junction_9\n",
    "\n",
    "else:\n",
    "    print(f\" Number of junctions considered {NUM_OF_JUNCTIONS}\")\n",
    "    print(\"Entered too many sensors resorting to 8 sensors\")\n",
    "    column_order = junction_1 + junction_2 + junction_3+ junction_5 + junction_6+ junction_7 + junction_8 + junction_9\n",
    "    \n",
    "print(f\"Total sensors {len(column_order)}\")"
   ]
  },
  {
   "cell_type": "code",
   "execution_count": 11,
   "metadata": {
    "tags": []
   },
   "outputs": [
    {
     "name": "stdout",
     "output_type": "stream",
     "text": [
      "Combined Array Shape is: (2592000, 24, 3)\n"
     ]
    }
   ],
   "source": [
    "features = ['junction_mean_speed', 'traffic_count', 'traffic_occupancy']\n",
    "arrays = []\n",
    "\n",
    "for feature in features:\n",
    "    # Pivot the DataFrame directly with pandas\n",
    "    pivoted = df_traffic.pivot(index='step', columns='identified_edge', values=feature)\n",
    "    pivoted_ordered = pivoted[column_order]\n",
    "    # Convert to a NumPy array\n",
    "    arr = pivoted_ordered.to_numpy()\n",
    "    arrays.append(arr)\n",
    "    \n",
    "#Stacking the array\n",
    "\n",
    "combined_array = np.stack(arrays, axis=-1)  # This will create an array of shape (1, 5, 3)\n",
    "\n",
    "print(\"Combined Array Shape is:\", combined_array.shape)"
   ]
  },
  {
   "cell_type": "code",
   "execution_count": 12,
   "metadata": {
    "tags": []
   },
   "outputs": [],
   "source": [
    "# Target column\n",
    "\n",
    "y_df = df_traffic[['step','incident_edge','accident_label']]"
   ]
  },
  {
   "cell_type": "code",
   "execution_count": 13,
   "metadata": {
    "tags": []
   },
   "outputs": [],
   "source": [
    "y_df_grouped = y_df.groupby(by=[\"step\"]).first().reset_index()"
   ]
  },
  {
   "cell_type": "code",
   "execution_count": 14,
   "metadata": {
    "tags": []
   },
   "outputs": [],
   "source": [
    "labels = np.zeros((y_df_grouped.shape[0], 13))\n",
    "\n",
    "for category, edges in road_name_edge_id.items():\n",
    "    # Find rows where incident_edge is in the current set of edges\n",
    "    mask = y_df_grouped['incident_edge'].isin(edges) & y_df_grouped['accident_label']\n",
    "    # Set the appropriate label column to 1 for these rows\n",
    "    labels[mask, category - 1] = 1  # Adjusted index by -1 for zero-based indexing\n",
    "    \n",
    "mask = ~y_df_grouped['accident_label']\n",
    "labels[mask, -1] = 1"
   ]
  },
  {
   "cell_type": "code",
   "execution_count": 15,
   "metadata": {
    "tags": []
   },
   "outputs": [
    {
     "data": {
      "text/plain": [
       "(2592000, 13)"
      ]
     },
     "execution_count": 15,
     "metadata": {},
     "output_type": "execute_result"
    }
   ],
   "source": [
    "labels.shape"
   ]
  },
  {
   "cell_type": "code",
   "execution_count": 16,
   "metadata": {
    "tags": []
   },
   "outputs": [],
   "source": [
    "def create_features_files(data, labels, window_size, stride,dataset_name):\n",
    "\n",
    "    count = 0\n",
    "\n",
    "    for i in range(0, data.shape[0] - window_size + 1, stride):\n",
    "\n",
    "        if count%100_000 == 0 and count!=0:\n",
    "            print(f\"Generated {count} file so far ...\")\n",
    "        window_data = data[i:i + window_size]\n",
    "        \n",
    "        window_labels = labels[i:i + window_size]\n",
    "        # summed = np.sum(window_labels,axis=0)\n",
    "        # indx = np.argmax(summed)\n",
    "        # labelsWindow = np.zeros(13)\n",
    "        # labelsWindow[indx] = 1\n",
    "        \n",
    "        \n",
    "        np.save(f\"data/{dataset_name}/features/features_{count}.npy\",window_data)\n",
    "        np.save(f\"data/{dataset_name}/labels/labels_{count}.npy\",window_labels)\n",
    "        count+=1\n",
    "        \n",
    "    return count"
   ]
  },
  {
   "cell_type": "code",
   "execution_count": 17,
   "metadata": {
    "tags": []
   },
   "outputs": [
    {
     "name": "stdout",
     "output_type": "stream",
     "text": [
      "Generating Dataset\n",
      "Window size used : 600\n",
      "Stride used : 120\n",
      "Number of junctions considered : 5\n",
      "Successfully 21596 files created.\n"
     ]
    }
   ],
   "source": [
    "window_size = 600\n",
    "stride = 120\n",
    "dataset_name = \"dataset1\"\n",
    "print(\"Generating Dataset\")\n",
    "print(f\"Window size used : {window_size}\")\n",
    "print(f\"Stride used : {stride}\")\n",
    "print(f\"Number of junctions considered : {NUM_OF_JUNCTIONS}\")\n",
    "\n",
    "count_files = create_features_files(combined_array, labels, window_size, stride,dataset_name)\n",
    "\n",
    "print(f\"Successfully {count_files} files created.\")"
   ]
  },
  {
   "cell_type": "code",
   "execution_count": 18,
   "metadata": {
    "tags": []
   },
   "outputs": [],
   "source": [
    "#Adding readme to the dataset\n",
    "from datetime import datetime\n",
    "with open(f\"data/dataset1/README.md\",\"w\") as f:\n",
    "    f.write(f\"Data generated on : {str(datetime.now())} \\n\")\n",
    "    f.write(f\"Window of Time used : {window_size}\\n\")\n",
    "    f.write(f\"Stride used : {stride}\\n\")\n",
    "    f.write(f\"Number of junctions : {NUM_OF_JUNCTIONS}\\n\")"
   ]
  },
  {
   "cell_type": "code",
   "execution_count": null,
   "metadata": {},
   "outputs": [],
   "source": []
  }
 ],
 "metadata": {
  "kernelspec": {
   "display_name": "Python 3 (ipykernel)",
   "language": "python",
   "name": "python3"
  }
 },
 "nbformat": 4,
 "nbformat_minor": 4
}
